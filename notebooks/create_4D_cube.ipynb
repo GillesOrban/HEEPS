{
 "cells": [
  {
   "cell_type": "code",
   "execution_count": 1,
   "metadata": {},
   "outputs": [],
   "source": [
    "import heeps\n",
    "import numpy as np\n",
    "from astropy.io import fits"
   ]
  },
  {
   "cell_type": "code",
   "execution_count": 2,
   "metadata": {},
   "outputs": [
    {
     "name": "stdout",
     "output_type": "stream",
     "text": [
      "Simulation config: band=L, mode=RAVC\n",
      "‾‾‾‾‾‾‾‾‾‾‾‾‾‾‾‾‾‾\n",
      "   loading vortex back-propagation params\n",
      "   vc_charge=2, ngrid=1024, beam_ratio=0.2568\n",
      "   ravc_calc=True, ravc_t=0.7608, ravc_r=0.6213\n",
      "   npupil=285, pscale=5.47 mas, lam=3.8112E-06 m\n",
      "   hfov=1.1 arcsec (-> ndet=403, 51.74 lam/D)\n",
      "\n",
      "Load phase screens from 'COMPASS_201810_RandomWind_100screens_meters.fits'\n",
      "   nscreens=100 (nframes=100, nstep=1)\n"
     ]
    }
   ],
   "source": [
    "conf = dict(\n",
    "    dir_current = '$HOME/heeps_metis',  # specify a directory\n",
    "    nframes = 100,                      # number of SCAO phase screens selected\n",
    "    f_phase = 'wavefront/COMPASS_201810_RandomWind_100screens_meters.fits',\n",
    "    f_pupil = 'pupil/ELT_fullM1.fits',  # entrance pupil file\n",
    ")\n",
    "conf = heeps.config.read_config(verbose=False, **conf)\n",
    "conf = heeps.config.update_config(saveconf=True, verbose=True, **conf)\n",
    "phase_screens, amp_screens, tiptilts, misaligns = heeps.wavefront.load_errors(\n",
    "    verbose=True, **conf)"
   ]
  },
  {
   "cell_type": "code",
   "execution_count": 3,
   "metadata": {},
   "outputs": [
    {
     "name": "stdout",
     "output_type": "stream",
     "text": [
      "Create on-axis PSF cube\n",
      "   2022-03-04 05:08:12, e2e simulation using 12 cores\n",
      "   2022-03-04 05:08:54, completed in 42.19 seconds\n",
      "Create on-axis PSF cube\n",
      "   2022-03-04 05:08:56, e2e simulation using 12 cores\n",
      "   2022-03-04 05:09:39, completed in 43.62 seconds\n",
      "Create on-axis PSF cube\n",
      "   2022-03-04 05:09:41, e2e simulation using 12 cores\n",
      "   2022-03-04 05:10:25, completed in 44.38 seconds\n",
      "Create on-axis PSF cube\n",
      "   2022-03-04 05:10:27, e2e simulation using 12 cores\n",
      "   2022-03-04 05:11:11, completed in 43.75 seconds\n",
      "Create on-axis PSF cube\n",
      "   2022-03-04 05:11:13, e2e simulation using 12 cores\n",
      "   2022-03-04 05:11:58, completed in 45.07 seconds\n"
     ]
    }
   ],
   "source": [
    "lams = np.linspace(3.7, 3.9, 5)*1e-6\n",
    "lam0 = conf['lam']\n",
    "pupil_img_size0 = conf['pupil_img_size']\n",
    "verbose = False\n",
    "for i, conf['lam'] in enumerate(lams):\n",
    "    conf['pupil_img_size'] = pupil_img_size0*conf['lam']/lam0\n",
    "    wf = heeps.pupil.pupil(savefits=True, verbose=verbose, **conf)\n",
    "    psf = heeps.wavefront.propagate_one(wf, onaxis=False, savefits=True, \n",
    "        verbose=verbose, **conf)\n",
    "    psf = np.expand_dims(psf, axis=-3)\n",
    "    psfs = heeps.wavefront.propagate_cube(wf, phase_screens=phase_screens,\n",
    "        amp_screens=amp_screens, tiptilts=tiptilts, misaligns=misaligns, \n",
    "        onaxis=True, savefits=True, verbose=True, **conf)\n",
    "    psfs = np.expand_dims(psfs, axis=-3)\n",
    "    if i == 0:\n",
    "        offaxis_psf = psf\n",
    "        onaxis_psfs = psfs\n",
    "    else:\n",
    "        offaxis_psf = np.concatenate((offaxis_psf, psf), axis=-3)\n",
    "        onaxis_psfs = np.concatenate((onaxis_psfs, psfs), axis=-3)\n",
    "fits.writeto('chrom_offaxis_psf.fits', offaxis_psf, overwrite=True)\n",
    "fits.writeto('chrom_onaxis_psfs.fits', onaxis_psfs, overwrite=True)"
   ]
  },
  {
   "cell_type": "code",
   "execution_count": 4,
   "metadata": {},
   "outputs": [
    {
     "name": "stdout",
     "output_type": "stream",
     "text": [
      "(5, 403, 403)\n",
      "(100, 5, 403, 403)\n"
     ]
    }
   ],
   "source": [
    "print(offaxis_psf.shape)\n",
    "print(onaxis_psfs.shape)"
   ]
  }
 ],
 "metadata": {
  "interpreter": {
   "hash": "cd78fef2128015050713e82ca51c6520b11aee7c9ee8df750520bbbc7384cbaa"
  },
  "kernelspec": {
   "display_name": "Python 3.7.0 ('base')",
   "language": "python",
   "name": "python3"
  },
  "language_info": {
   "codemirror_mode": {
    "name": "ipython",
    "version": 3
   },
   "file_extension": ".py",
   "mimetype": "text/x-python",
   "name": "python",
   "nbconvert_exporter": "python",
   "pygments_lexer": "ipython3",
   "version": "3.7.0"
  },
  "orig_nbformat": 4
 },
 "nbformat": 4,
 "nbformat_minor": 2
}

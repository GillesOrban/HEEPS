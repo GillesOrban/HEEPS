{
 "cells": [
  {
   "cell_type": "code",
   "execution_count": 1,
   "source": [
    "from platform import python_version\n",
    "import proper as pr\n",
    "import scopesim as ss\n",
    "import vip_hci as vh\n",
    "import astropy as ap\n",
    "import skimage as si\n",
    "import numpy as np\n",
    "import scipy as sp\n",
    "import matplotlib as ml"
   ],
   "outputs": [],
   "metadata": {}
  },
  {
   "cell_type": "code",
   "execution_count": 2,
   "source": [
    "print('python v%s'%python_version())\n",
    "for module in [pr, ss, vh, ap, si, np, sp, ml]:\n",
    "    print('%s v%s'%(module.__name__, module.__version__))"
   ],
   "outputs": [
    {
     "output_type": "stream",
     "name": "stdout",
     "text": [
      "python v3.7.0\n",
      "proper v3.2.5\n",
      "scopesim v0.1.1\n",
      "vip_hci v1.0.0\n",
      "astropy v3.2.3\n",
      "skimage v0.18.3\n",
      "numpy v1.21.2\n",
      "scipy v1.1.0\n",
      "matplotlib v3.3.0\n"
     ]
    }
   ],
   "metadata": {}
  }
 ],
 "metadata": {
  "orig_nbformat": 4,
  "language_info": {
   "name": "python",
   "version": "3.7.0",
   "mimetype": "text/x-python",
   "codemirror_mode": {
    "name": "ipython",
    "version": 3
   },
   "pygments_lexer": "ipython3",
   "nbconvert_exporter": "python",
   "file_extension": ".py"
  },
  "kernelspec": {
   "name": "python3",
   "display_name": "Python 3.7.0 64-bit ('base': conda)"
  },
  "interpreter": {
   "hash": "344443636c3027c5042750c9c609acdda283a9c43681b128a8c1053e7ad2aa7d"
  }
 },
 "nbformat": 4,
 "nbformat_minor": 2
}
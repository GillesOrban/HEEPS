{
 "cells": [
  {
   "cell_type": "code",
   "execution_count": 1,
   "metadata": {},
   "outputs": [],
   "source": [
    "from platform import python_version\n",
    "import proper as pr\n",
    "import scopesim as ss\n",
    "import vip_hci as vh\n",
    "import photutils as pu\n",
    "import astropy as ap\n",
    "import skimage as si\n",
    "import numpy as np\n",
    "import scipy as sp\n",
    "import matplotlib as ml"
   ]
  },
  {
   "cell_type": "code",
   "execution_count": 2,
   "metadata": {},
   "outputs": [
    {
     "name": "stdout",
     "output_type": "stream",
     "text": [
      "python v3.7.0\n",
      "proper v3.2.6a\n",
      "scopesim v0.1.1\n",
      "vip_hci v1.0.0\n",
      "photutils v0.7.2\n",
      "astropy v3.2.3\n",
      "skimage v0.18.3\n",
      "numpy v1.21.2\n",
      "scipy v1.1.0\n",
      "matplotlib v3.3.0\n"
     ]
    }
   ],
   "source": [
    "print('python v%s'%python_version())\n",
    "for module in [pr, ss, vh, pu, ap, si, np, sp, ml]:\n",
    "    print('%s v%s'%(module.__name__, module.__version__))"
   ]
  }
 ],
 "metadata": {
  "interpreter": {
   "hash": "cd78fef2128015050713e82ca51c6520b11aee7c9ee8df750520bbbc7384cbaa"
  },
  "kernelspec": {
   "display_name": "Python 3.7.0 ('base')",
   "language": "python",
   "name": "python3"
  },
  "language_info": {
   "codemirror_mode": {
    "name": "ipython",
    "version": 3
   },
   "file_extension": ".py",
   "mimetype": "text/x-python",
   "name": "python",
   "nbconvert_exporter": "python",
   "pygments_lexer": "ipython3",
   "version": "3.7.0"
  },
  "orig_nbformat": 4
 },
 "nbformat": 4,
 "nbformat_minor": 2
}

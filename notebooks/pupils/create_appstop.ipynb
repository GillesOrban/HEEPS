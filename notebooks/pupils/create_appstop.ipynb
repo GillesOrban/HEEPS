{
 "cells": [
  {
   "cell_type": "code",
   "execution_count": 8,
   "metadata": {},
   "outputs": [],
   "source": [
    "from heeps.config.read_config import read_config\n",
    "from heeps.config.update_config import update_config\n",
    "from heeps.pupil.create_stop import create_stop\n",
    "from heeps.util.img_processing import crop_img, resize_img\n",
    "from heeps.util.round2 import round2odd\n",
    "from astropy.io import fits"
   ]
  },
  {
   "cell_type": "code",
   "execution_count": 9,
   "metadata": {},
   "outputs": [
    {
     "name": "stdout",
     "output_type": "stream",
     "text": [
      "{'L': 285, 'M': 227, 'HR': 1001, 'HR_IMG': 2335, 'HR_LMS': 1033, 'HR_IMG_SPP': 935}\n"
     ]
    }
   ],
   "source": [
    "# High Resolution Pupil: 20 micron per pixel; 45mm IMG ; 19.9mm LMS\n",
    "conf = read_config()\n",
    "npupil = {'L': update_config(**dict(read_config(), band='L'))['npupil'],\n",
    "          'M': update_config(**dict(read_config(), band='M'))['npupil'],\n",
    "         'HR': 1001,\n",
    "     'HR_IMG': round2odd((45.0/38542*39998.8)/0.02),\n",
    "     'HR_LMS': round2odd((19.9/38542*39998.8)/0.02),\n",
    "     'HR_IMG_SPP': round2odd((45.0/38542*39998.8)/0.05)}\n",
    "print(npupil)\n",
    "# magnification factor for nhr (the super high res before dowscaling to npupil)\n",
    "nhr_mag = 6 #8"
   ]
  },
  {
   "cell_type": "markdown",
   "metadata": {},
   "source": [
    "# APP IMG-LM"
   ]
  },
  {
   "cell_type": "code",
   "execution_count": null,
   "metadata": {},
   "outputs": [],
   "source": [
    "stop_params = (0.0209, 0.0209, 0.0291)\n",
    "for band in ['HR_IMG']:#['L', 'M', 'HR']:\n",
    "    conf['npupil'] = npupil[band]\n",
    "    i = 10\n",
    "    nhr = 2**i - 1\n",
    "    while nhr < nhr_mag*conf['npupil']:\n",
    "        i += 1\n",
    "        nhr = 2**i - 1\n",
    "        print(nhr, conf['npupil'])\n",
    "    #####\n",
    "    # crop 15 pix for CTE shrinkage\n",
    "    nhr = 2**14 - 1\n",
    "    conf['npupil'] = 10030\n",
    "    mask = create_stop(conf['diam_ext'], conf['diam_int'], *stop_params, \n",
    "                        circ_ext=False, circ_int=False, nhr=nhr, **conf)\n",
    "    print('shape =', mask.shape)\n",
    "    mask = crop_img(mask, 10000)\n",
    "    print('shape =', mask.shape)\n",
    "    mask = resize_img(mask, npupil[band])\n",
    "    print('shape =', mask.shape)\n",
    "    #####\n",
    "    fits.writeto('amp_APP_IMG_stop_%s_%s_dRext=%s_dRint=%s_dRspi=%s.fits'%\n",
    "        (band, npupil[band], *stop_params), mask, overwrite=True)\n",
    "    fits.writeto('int_APP_IMG_stop_%s_%s_dRext=%s_dRint=%s_dRspi=%s.fits'%\n",
    "        (band, npupil[band], *stop_params), mask**2, overwrite=True)"
   ]
  },
  {
   "cell_type": "markdown",
   "metadata": {},
   "source": [
    "# APP LMS"
   ]
  },
  {
   "cell_type": "code",
   "execution_count": 4,
   "metadata": {},
   "outputs": [
    {
     "name": "stdout",
     "output_type": "stream",
     "text": [
      "2047 1033\n",
      "4095 1033\n",
      "8191 1033\n",
      "16383 1033\n",
      "shape = (10030, 10030)\n",
      "shape = (10000, 10000)\n",
      "shape = (1033, 1033)\n"
     ]
    }
   ],
   "source": [
    "stop_params = (0.0241, 0.0241, 0.0308)\n",
    "for band in ['HR_LMS']:#['L', 'M', 'HR']:\n",
    "    conf['npupil'] = npupil[band]\n",
    "    i = 10\n",
    "    nhr = 2**i - 1\n",
    "    while nhr < 2*nhr_mag*conf['npupil']:\n",
    "        i += 1\n",
    "        nhr = 2**i - 1\n",
    "        print(nhr, conf['npupil'])\n",
    "    mask = create_stop(conf['diam_ext'], conf['diam_int'], *stop_params, \n",
    "                        circ_ext=False, circ_int=False, nhr=nhr, **conf)\n",
    "    #####\n",
    "    # crop 15 pix for CTE shrinkage\n",
    "    nhr = 2**14 - 1\n",
    "    conf['npupil'] = 10030\n",
    "    mask = create_stop(conf['diam_ext'], conf['diam_int'], *stop_params, \n",
    "                        circ_ext=False, circ_int=False, nhr=nhr, **conf)\n",
    "    print('shape =', mask.shape)\n",
    "    mask = crop_img(mask, 10000)\n",
    "    print('shape =', mask.shape)\n",
    "    mask = resize_img(mask, npupil[band])\n",
    "    print('shape =', mask.shape)\n",
    "    #####\n",
    "    fits.writeto('amp_APP_LMS_stop_%s_%s_dRext=%s_dRint=%s_dRspi=%s.fits'%\n",
    "        (band, npupil[band], *stop_params), mask, overwrite=True)\n",
    "    fits.writeto('int_APP_LMS_stop_%s_%s_dRext=%s_dRint=%s_dRspi=%s.fits'%\n",
    "        (band, npupil[band], *stop_params), mask**2, overwrite=True)"
   ]
  },
  {
   "cell_type": "code",
   "execution_count": null,
   "metadata": {},
   "outputs": [],
   "source": []
  }
 ],
 "metadata": {
  "interpreter": {
   "hash": "cd78fef2128015050713e82ca51c6520b11aee7c9ee8df750520bbbc7384cbaa"
  },
  "kernelspec": {
   "display_name": "Python 3.7.0 ('base')",
   "language": "python",
   "name": "python3"
  },
  "language_info": {
   "codemirror_mode": {
    "name": "ipython",
    "version": 3
   },
   "file_extension": ".py",
   "mimetype": "text/x-python",
   "name": "python",
   "nbconvert_exporter": "python",
   "pygments_lexer": "ipython3",
   "version": "3.7.2"
  },
  "orig_nbformat": 4
 },
 "nbformat": 4,
 "nbformat_minor": 2
}

{
 "cells": [
  {
   "cell_type": "code",
   "execution_count": 1,
   "metadata": {},
   "outputs": [],
   "source": [
    "from heeps.config.read_config import read_config\n",
    "from heeps.config.update_config import update_config\n",
    "from heeps.pupil.create_stop import create_stop\n",
    "from astropy.io import fits"
   ]
  },
  {
   "cell_type": "code",
   "execution_count": 2,
   "metadata": {},
   "outputs": [
    {
     "data": {
      "text/plain": [
       "{'L': 285, 'M': 227, 'HR': 1001, 'HR_IMG': 2335, 'HR_LMS': 1033}"
      ]
     },
     "execution_count": 2,
     "metadata": {},
     "output_type": "execute_result"
    }
   ],
   "source": [
    "# High Resolution Pupil: 20 micron per pixel; 45mm IMG ; 19.9mm LMS\n",
    "conf = read_config()\n",
    "npupil = {'L': update_config(**dict(read_config(), band='L'))['npupil'],\n",
    "          'M': update_config(**dict(read_config(), band='M'))['npupil'],\n",
    "         'HR': 1001,\n",
    "     'HR_IMG': round((45.0/38542*39998.8)/0.02),\n",
    "     'HR_LMS': round((19.9/38542*39998.8)/0.02)}\n",
    "npupil"
   ]
  },
  {
   "cell_type": "markdown",
   "metadata": {},
   "source": [
    "# APP IMG-LM"
   ]
  },
  {
   "cell_type": "code",
   "execution_count": 3,
   "metadata": {},
   "outputs": [],
   "source": [
    "stop_params = (0.0209, 0.0209, 0.0291)\n",
    "for band in ['HR_IMG']:#['L', 'M', 'HR']:\n",
    "    conf['npupil'] = npupil[band]\n",
    "    mask = create_stop(conf['diam_ext'], conf['diam_int'], *stop_params, \n",
    "                        circ_ext=False, circ_int=False, **conf)\n",
    "    fits.writeto('amp_APP_IMG_stop_%s_%s_dRext=%s_dRint=%s_dRspi=%s.fits'%\n",
    "        (band, npupil[band], *stop_params), mask, overwrite=True)\n",
    "    fits.writeto('int_APP_IMG_stop_%s_%s_dRext=%s_dRint=%s_dRspi=%s.fits'%\n",
    "        (band, npupil[band], *stop_params), mask**2, overwrite=True)"
   ]
  },
  {
   "cell_type": "markdown",
   "metadata": {},
   "source": [
    "# APP LMS"
   ]
  },
  {
   "cell_type": "code",
   "execution_count": 4,
   "metadata": {},
   "outputs": [],
   "source": [
    "stop_params = (0.0241, 0.0241, 0.0308)\n",
    "for band in ['HR_LMS']:#['L', 'M', 'HR']:\n",
    "    conf['npupil'] = npupil[band]\n",
    "    mask = create_stop(conf['diam_ext'], conf['diam_int'], *stop_params, \n",
    "                        circ_ext=False, circ_int=False, **conf)\n",
    "    fits.writeto('amp_APP_LMS_stop_%s_%s_dRext=%s_dRint=%s_dRspi=%s.fits'%\n",
    "        (band, npupil[band], *stop_params), mask, overwrite=True)\n",
    "    fits.writeto('int_APP_LMS_stop_%s_%s_dRext=%s_dRint=%s_dRspi=%s.fits'%\n",
    "        (band, npupil[band], *stop_params), mask**2, overwrite=True)"
   ]
  }
 ],
 "metadata": {
  "interpreter": {
   "hash": "cd78fef2128015050713e82ca51c6520b11aee7c9ee8df750520bbbc7384cbaa"
  },
  "kernelspec": {
   "display_name": "Python 3.7.0 ('base')",
   "language": "python",
   "name": "python3"
  },
  "language_info": {
   "codemirror_mode": {
    "name": "ipython",
    "version": 3
   },
   "file_extension": ".py",
   "mimetype": "text/x-python",
   "name": "python",
   "nbconvert_exporter": "python",
   "pygments_lexer": "ipython3",
   "version": "3.7.2"
  },
  "orig_nbformat": 4
 },
 "nbformat": 4,
 "nbformat_minor": 2
}

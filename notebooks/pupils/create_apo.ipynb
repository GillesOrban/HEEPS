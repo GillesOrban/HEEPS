{
 "cells": [
  {
   "cell_type": "code",
   "execution_count": 1,
   "metadata": {},
   "outputs": [],
   "source": [
    "import heeps\n",
    "from heeps.util.img_processing import resize_cube\n",
    "from heeps.wavefront.get_array import show_wf\n",
    "from astropy.io import fits\n",
    "import numpy as np"
   ]
  },
  {
   "cell_type": "code",
   "execution_count": 2,
   "metadata": {},
   "outputs": [
    {
     "name": "stdout",
     "output_type": "stream",
     "text": [
      "Default config: band=L, mode=RAVC\n",
      "‾‾‾‾‾‾‾‾‾‾‾‾‾‾‾\n",
      "   npupil=719, pscale=5.47 mas, lam=3.8100E-06 m\n",
      "   ndet=365 (-> hfov=1.0 arcsec, 46.88 lam/D)\n",
      "\n",
      "Entrance pupil: loaded from 'ELT_fullM1.fits'\n",
      "‾‾‾‾‾‾‾‾‾‾‾‾‾‾‾\n",
      "   apply ring apodizer: ravc_t=0.7909, ravc_r=0.519, apo_misalign=None\n"
     ]
    }
   ],
   "source": [
    "# SCAO size minus 1, because even number\n",
    "npupil = 719\n",
    "conf = heeps.config.read_config(npupil=npupil, verbose=True)\n",
    "wf = heeps.pupil.pupil(**conf, verbose=True)\n",
    "wf = heeps.optics.apodizer(wf, **conf, verbose=True, save_ring=True)\n",
    "name = 'apo_ring_r=%.4f_t=%.4f.fits'%(conf['ravc_r'], conf['ravc_t'])\n",
    "ring = fits.getdata(name)\n",
    "# need to pad 1 col and row due to SCAO even size\n",
    "ring = np.pad(ring, [(1, 0), (1, 0)], mode='constant', constant_values=conf['ravc_t'])\n",
    "fits.writeto(name, ring, overwrite=True)"
   ]
  }
 ],
 "metadata": {
  "kernelspec": {
   "display_name": "Python 3.7.2 ('base')",
   "language": "python",
   "name": "python3"
  },
  "language_info": {
   "codemirror_mode": {
    "name": "ipython",
    "version": 3
   },
   "file_extension": ".py",
   "mimetype": "text/x-python",
   "name": "python",
   "nbconvert_exporter": "python",
   "pygments_lexer": "ipython3",
   "version": "3.7.2"
  },
  "orig_nbformat": 4,
  "vscode": {
   "interpreter": {
    "hash": "cd78fef2128015050713e82ca51c6520b11aee7c9ee8df750520bbbc7384cbaa"
   }
  }
 },
 "nbformat": 4,
 "nbformat_minor": 2
}

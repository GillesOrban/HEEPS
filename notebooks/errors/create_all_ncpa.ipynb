{
 "cells": [
  {
   "cell_type": "code",
   "execution_count": 1,
   "metadata": {},
   "outputs": [],
   "source": [
    "from heeps.util.multiCPU import multiCPU\n",
    "from heeps.util.freq_decomp import fit_zer, remove_zernike\n",
    "from heeps.util.img_processing import resize_cube\n",
    "import numpy as np\n",
    "import os  \n",
    "from astropy.io import fits\n",
    "from copy import deepcopy\n",
    "import proper"
   ]
  },
  {
   "cell_type": "code",
   "execution_count": 2,
   "metadata": {},
   "outputs": [],
   "source": [
    "os.chdir(os.path.normpath(os.path.expandvars('$HOME/heeps_metis/input_files/wavefront')))\n",
    "filename = 'cfull/cube_Cfull_20220512_3600s_300ms_0piston_meters_%s_ncpa_%s_%s.fits'\n",
    "tag = {'L': 'LM', 'N2': 'N'}\n",
    "rep = {'L': 'rep_6_-0h30', 'N2': 'rep_5_-0h30'}\n",
    "npupils = {'L': 285, 'N2': 119}\n",
    "sigLFs = {'L': 13e-9, 'N2': 13e-9*2}\n",
    "sigHFs = {'L': 3e-9, 'N2': 3e-9*2}\n",
    "nzer = 100\n",
    "G = 0.4\n",
    "freq = 3\n",
    "lag = 3"
   ]
  },
  {
   "cell_type": "code",
   "execution_count": 3,
   "metadata": {},
   "outputs": [],
   "source": [
    "def load_ncpa(case, band, samp=300, rms=0):\n",
    "    npupil = npupils[band]\n",
    "    if samp == 300:\n",
    "        scao = fits.getdata('cfull/cube_Cfull_20220512_3600s_300ms_0piston_meters_scao_only_%s_%s.fits'%(band, npupil))\n",
    "    elif samp == 100:\n",
    "        scao = fits.getdata('cfull/cube_Cfull_20220929_3600s_100ms_scao_only_%s_%s.fits'%(band, npupil))\n",
    "    if rms == 0:\n",
    "        wv = fits.getdata('wv/cube_Cbasic_20210601_3600s_%sms_0piston_meters_scao_only_%s_%s_WVonly.fits'%(samp, band, npupil))\n",
    "    else:\n",
    "        wv = fits.getdata('wv/cube_Cbasic_20210601_3600s_%sms_0piston_meters_scao_only_%s_%s_WVonly_rms_%s.fits'%(samp, band, npupil, rms))\n",
    "    cbw = fits.getdata('cbw/20221006/ncpa/%s_%s.fits'%(tag[band], rep[band]))\n",
    "    pup = fits.getdata('cfull/mask_Cfull_20220512_%s_%s.fits'%(band, npupil))\n",
    "    pup[pup < .5] = 0\n",
    "    if case == 'cbw':\n",
    "        ncpa = scao + cbw\n",
    "    elif case == 'wv':\n",
    "        ncpa = scao + wv\n",
    "    else:\n",
    "        ncpa = scao + cbw + wv\n",
    "    return pup, ncpa\n",
    "\n",
    "def load_zpols(pup, ncpa, ncpa_name, npupil, nzer=nzer):\n",
    "    zpols_name = ncpa_name[:-5] + '_zpols_%s.fits'%nzer\n",
    "    try:\n",
    "        zpols = fits.getdata(zpols_name)\n",
    "        print('    getdata ' + zpols_name)\n",
    "    except FileNotFoundError:\n",
    "        print('    writeto ' + zpols_name)\n",
    "        zpols = multiCPU(fit_zer, posargs=[pup, npupil/2, nzer], \n",
    "            posvars=[ncpa], case='get zpols')\n",
    "        fits.writeto(zpols_name, np.float32(zpols))\n",
    "    return zpols\n",
    "\n",
    "def load_zpols_integ(pup, ncpa, ncpa_name, npupil, lag, freqLF, freqHF, sigLF, sigHF, nzer=nzer):\n",
    "    if freqLF == freqHF:\n",
    "        zpols_integ_name = ncpa_name[:-5] + '_zpols_%s_freq_%s_G_%s_lag_%s_sigLF_%s_sigHF_%s.fits'%(nzer, freqLF, G, lag, sigLF, sigHF)\n",
    "    else:\n",
    "        zpols_integ_name = ncpa_name[:-5] + '_zpols_%s_freqLF_%s_freqHF_%s_G_%s_lag_%s_sigLF_%s_sigHF_%s.fits'%(nzer, freqLF, freqHF, G, lag, sigLF, sigHF)\n",
    "    if os.path.isfile(zpols_integ_name):\n",
    "        zpols_integ = fits.getdata(zpols_integ_name)\n",
    "        print('  getdata ' + zpols_integ_name)\n",
    "    else:\n",
    "        print('  write to ' + zpols_integ_name)\n",
    "        zpols = load_zpols(pup, ncpa, ncpa_name, npupil, nzer=nzer)\n",
    "        zpols_integ = np.zeros(zpols.shape)\n",
    "        nframes = len(zpols)\n",
    "        # piston\n",
    "        zpols_integ[:,0] = zpols[:,0]\n",
    "        # tip-tilt, and higher modes\n",
    "        for m, freq, sig in zip([range(1,3), range(3,nzer)], [freqLF, freqHF], [sigLF, sigHF]):\n",
    "            for n in range(freq+lag, nframes, freq):\n",
    "                error = np.mean(zpols[n-freq-lag:n-lag,m] - zpols_integ[n-1,m], 0) + np.random.normal(0, sig, (1, len(m))) \n",
    "                zpols_integ[n:n+freq,m] = zpols_integ[n-1,m] + G*error\n",
    "        fits.writeto(zpols_integ_name, np.float32(zpols_integ))\n",
    "    return zpols_integ\n",
    "\n",
    "def save_ncpa_cube(case, band, lag, freqLF, freqHF, nzer=nzer, filename=filename, samp=300, rms=1):\n",
    "    npupil = npupils[band]\n",
    "    ncpa_name = filename%(case, band, npupil)\n",
    "    if os.path.isfile(ncpa_name):\n",
    "        print('file already exists: ' + ncpa_name)\n",
    "    else:\n",
    "        print('write to ' + ncpa_name)\n",
    "        pup, ncpa = load_ncpa(case, band, samp=samp, rms=rms)\n",
    "        sigLF = sigLFs[band]\n",
    "        sigHF = sigHFs[band]\n",
    "        zpols_integ = load_zpols_integ(pup, ncpa, ncpa_name, npupil, lag, freqLF, freqHF, sigLF, sigHF, nzer=nzer)\n",
    "        wf = proper.prop_begin(1, 1, npupil, 1) # initial wavefront\n",
    "        _, HSF = multiCPU(remove_zernike, multi_out=True, verbose=True,\n",
    "            posargs=[deepcopy(wf), pup],\n",
    "            posvars=[ncpa, zpols_integ])\n",
    "        fits.writeto(ncpa_name, np.float32(HSF))\n",
    "    return ncpa_name"
   ]
  },
  {
   "cell_type": "code",
   "execution_count": 4,
   "metadata": {},
   "outputs": [
    {
     "name": "stdout",
     "output_type": "stream",
     "text": [
      "file already exists: cfull/cube_Cfull_20220512_3600s_300ms_0piston_meters_wv_ncpa_L_285.fits\n",
      "file already exists: cfull/cube_Cfull_20220512_3600s_300ms_0piston_meters_wv_ncpa_N2_119.fits\n",
      "file already exists: cfull/cube_Cfull_20220512_3600s_300ms_0piston_meters_cbw_ncpa_L_285.fits\n",
      "file already exists: cfull/cube_Cfull_20220512_3600s_300ms_0piston_meters_cbw_ncpa_N2_119.fits\n",
      "file already exists: cfull/cube_Cfull_20220512_3600s_300ms_0piston_meters_all_ncpa_L_285.fits\n",
      "file already exists: cfull/cube_Cfull_20220512_3600s_300ms_0piston_meters_all_ncpa_N2_119.fits\n"
     ]
    }
   ],
   "source": [
    "for case in ['wv', 'cbw', 'all']:\n",
    "    for band in ['L', 'N2']:\n",
    "        save_ncpa_cube(case, band, lag, freq, freq)"
   ]
  },
  {
   "cell_type": "markdown",
   "metadata": {},
   "source": [
    "# New simulations:\n",
    "### - 100 modes 1HZ (+ QACITS 10HZ)\n",
    "### - 20 modes 10HZ (+ QACITS 10HZ)"
   ]
  },
  {
   "cell_type": "code",
   "execution_count": 5,
   "metadata": {},
   "outputs": [
    {
     "name": "stdout",
     "output_type": "stream",
     "text": [
      "file already exists: cfull/cube_Cfull_20220929_3600s_300ms_wv_ncpa_rms_150_N2_119.fits\n",
      "file already exists: cfull/cube_Cfull_20220929_3600s_300ms_wv_ncpa_rms_600_N2_119.fits\n",
      "file already exists: cfull/cube_Cfull_20220929_3600s_300ms_wv_ncpa_rms_1200_N2_119.fits\n"
     ]
    }
   ],
   "source": [
    "# 100ms sampling (SCAO and WV)\n",
    "samp = 100\n",
    "\n",
    "# scaling water vapor screens\n",
    "band = 'N2'\n",
    "npupil = npupils[band]\n",
    "wv = fits.getdata('wv/cube_Cbasic_20210601_3600s_100ms_0piston_meters_scao_only_720_WV.fits')        \n",
    "temporal_rms = 8814.1\n",
    "for rms in [150, 600, 1200]:\n",
    "    name_300 = 'cfull/cube_Cfull_20220929_3600s_%sms_%s_ncpa'%(300, 'wv') + '_rms_%s_%s_%s.fits'%(rms, band, npupil)\n",
    "    wv_name = 'wv/cube_Cbasic_20210601_3600s_%sms_0piston_meters_scao_only_%s_%s_WVonly_rms_%s.fits'%(samp, band, npupil, rms)\n",
    "    if os.path.isfile(name_300):\n",
    "        print('file already exists: ' + name_300)\n",
    "    else:\n",
    "        print('write to ' + name_300)\n",
    "        scaling = rms/temporal_rms\n",
    "        wv_cube = resize_cube(wv, npupil)*scaling\n",
    "        fits.writeto(wv_name, wv_cube)\n",
    "        scao = fits.getdata('cfull/cube_Cfull_20220929_3600s_100ms_scao_only_%s_%s.fits'%(band, npupil))\n",
    "        fits.writeto(name_300, (scao + wv_cube)[::3])"
   ]
  },
  {
   "cell_type": "markdown",
   "metadata": {},
   "source": [
    "### control lag, frequency"
   ]
  },
  {
   "cell_type": "code",
   "execution_count": 6,
   "metadata": {},
   "outputs": [
    {
     "name": "stdout",
     "output_type": "stream",
     "text": [
      "file already exists: cfull/cube_Cfull_20220929_3600s_300ms_wv_ncpa_rms_150_lag_10_nzer_20_N2_119.fits\n",
      "file already exists: cfull/cube_Cfull_20220929_3600s_300ms_wv_ncpa_rms_600_lag_10_nzer_20_N2_119.fits\n",
      "file already exists: cfull/cube_Cfull_20220929_3600s_300ms_wv_ncpa_rms_1200_lag_10_nzer_20_N2_119.fits\n",
      "file already exists: cfull/cube_Cfull_20220929_3600s_300ms_wv_ncpa_rms_150_lag_10_nzer_100_N2_119.fits\n",
      "file already exists: cfull/cube_Cfull_20220929_3600s_300ms_wv_ncpa_rms_600_lag_10_nzer_100_N2_119.fits\n",
      "file already exists: cfull/cube_Cfull_20220929_3600s_300ms_wv_ncpa_rms_1200_lag_10_nzer_100_N2_119.fits\n",
      "file already exists: cfull/cube_Cfull_20220929_3600s_300ms_wv_ncpa_rms_150_lag_1_nzer_20_N2_119.fits\n",
      "write to cfull/cube_Cfull_20220929_3600s_100ms_wv_ncpa_rms_600_lag_1_nzer_20_N2_119.fits\n",
      "  write to cfull/cube_Cfull_20220929_3600s_100ms_wv_ncpa_rms_600_lag_1_nzer_20_N2_119_zpols_20_freq_1_G_0.4_lag_1_sigLF_2.6e-08_sigHF_6e-09.fits\n",
      "    writeto cfull/cube_Cfull_20220929_3600s_100ms_wv_ncpa_rms_600_lag_1_nzer_20_N2_119_zpols_20.fits\n",
      "   2024-06-05 14:11:19, get zpols using 56 cores\n",
      "   2024-06-05 14:12:36, completed in 77.33 seconds\n",
      "   2024-06-05 14:12:40, using 56 cores\n",
      "   2024-06-05 14:15:32, completed in 171.55 seconds\n",
      "write to cfull/cube_Cfull_20220929_3600s_100ms_wv_ncpa_rms_1200_lag_1_nzer_20_N2_119.fits\n",
      "  write to cfull/cube_Cfull_20220929_3600s_100ms_wv_ncpa_rms_1200_lag_1_nzer_20_N2_119_zpols_20_freq_1_G_0.4_lag_1_sigLF_2.6e-08_sigHF_6e-09.fits\n",
      "    writeto cfull/cube_Cfull_20220929_3600s_100ms_wv_ncpa_rms_1200_lag_1_nzer_20_N2_119_zpols_20.fits\n",
      "   2024-06-05 14:15:50, get zpols using 56 cores\n",
      "   2024-06-05 14:17:11, completed in 81.16 seconds\n",
      "   2024-06-05 14:17:15, using 56 cores\n",
      "   2024-06-05 14:20:18, completed in 183.63 seconds\n",
      "write to cfull/cube_Cfull_20220929_3600s_100ms_wv_ncpa_rms_150_lag_1_nzer_100_N2_119.fits\n",
      "  write to cfull/cube_Cfull_20220929_3600s_100ms_wv_ncpa_rms_150_lag_1_nzer_100_N2_119_zpols_100_freqLF_1_freqHF_10_G_0.4_lag_1_sigLF_2.6e-08_sigHF_6e-09.fits\n",
      "    writeto cfull/cube_Cfull_20220929_3600s_100ms_wv_ncpa_rms_150_lag_1_nzer_100_N2_119_zpols_100.fits\n",
      "   2024-06-05 14:20:30, get zpols using 56 cores\n",
      "   2024-06-05 14:50:55, completed in 1825.19 seconds\n",
      "   2024-06-05 14:50:58, using 56 cores\n",
      "   2024-06-05 15:05:11, completed in 852.55 seconds\n",
      "write to cfull/cube_Cfull_20220929_3600s_100ms_wv_ncpa_rms_600_lag_1_nzer_100_N2_119.fits\n",
      "  write to cfull/cube_Cfull_20220929_3600s_100ms_wv_ncpa_rms_600_lag_1_nzer_100_N2_119_zpols_100_freqLF_1_freqHF_10_G_0.4_lag_1_sigLF_2.6e-08_sigHF_6e-09.fits\n",
      "    writeto cfull/cube_Cfull_20220929_3600s_100ms_wv_ncpa_rms_600_lag_1_nzer_100_N2_119_zpols_100.fits\n",
      "   2024-06-05 15:05:38, get zpols using 56 cores\n",
      "   2024-06-05 16:12:17, completed in 3998.9 seconds\n",
      "   2024-06-05 16:12:22, using 56 cores\n",
      "   2024-06-05 16:37:31, completed in 1509.28 seconds\n",
      "write to cfull/cube_Cfull_20220929_3600s_100ms_wv_ncpa_rms_1200_lag_1_nzer_100_N2_119.fits\n",
      "  write to cfull/cube_Cfull_20220929_3600s_100ms_wv_ncpa_rms_1200_lag_1_nzer_100_N2_119_zpols_100_freqLF_1_freqHF_10_G_0.4_lag_1_sigLF_2.6e-08_sigHF_6e-09.fits\n",
      "    writeto cfull/cube_Cfull_20220929_3600s_100ms_wv_ncpa_rms_1200_lag_1_nzer_100_N2_119_zpols_100.fits\n",
      "   2024-06-05 16:38:01, get zpols using 56 cores\n",
      "   2024-06-05 17:33:36, completed in 3334.41 seconds\n",
      "   2024-06-05 17:33:39, using 56 cores\n",
      "   2024-06-05 17:50:31, completed in 1011.76 seconds\n"
     ]
    }
   ],
   "source": [
    "lag = 10 # 1s\n",
    "freqLF = 1 # 10Hz\n",
    "freqHF = {20: 1, # 10Hz\n",
    "         100: 10} # 1Hz\n",
    "filename = 'cfull/cube_Cfull_20220929_3600s_%sms'\n",
    "        \n",
    "for case in ['wv']:\n",
    "    for lag in [10, 1]: \n",
    "        for nzer in [20, 100]:\n",
    "            for rms in [150, 600, 1200]:\n",
    "                name_100 = filename%(100) + '_%s_ncpa_rms_%s_lag_%s_nzer_%s_%s_%s.fits'%(case, rms, lag, nzer, band, npupil)\n",
    "                name_300 = filename%(300) + '_%s_ncpa_rms_%s_lag_%s_nzer_%s_%s_%s.fits'%(case, rms, lag, nzer, band, npupil)\n",
    "                if os.path.isfile(name_300):\n",
    "                    print('file already exists: ' + name_300)\n",
    "                else:\n",
    "                    ncpa_name = filename%(100) + '_%s_ncpa' + '_rms_%s_lag_%s_nzer_%s'%(rms, lag, nzer) + '_%s_%s.fits'\n",
    "                    save_ncpa_cube(case, band, lag, freqLF, freqHF[nzer], nzer=nzer, filename=ncpa_name, samp=100, rms=rms)\n",
    "                    fits.writeto(name_300, fits.getdata(name_100)[::3],overwrite=True)\n",
    "                    os.remove(name_100)"
   ]
  }
 ],
 "metadata": {
  "kernelspec": {
   "display_name": "Python 3",
   "language": "python",
   "name": "python3"
  },
  "language_info": {
   "codemirror_mode": {
    "name": "ipython",
    "version": 3
   },
   "file_extension": ".py",
   "mimetype": "text/x-python",
   "name": "python",
   "nbconvert_exporter": "python",
   "pygments_lexer": "ipython3",
   "version": "3.7.6"
  },
  "vscode": {
   "interpreter": {
    "hash": "cd78fef2128015050713e82ca51c6520b11aee7c9ee8df750520bbbc7384cbaa"
   }
  }
 },
 "nbformat": 4,
 "nbformat_minor": 4
}

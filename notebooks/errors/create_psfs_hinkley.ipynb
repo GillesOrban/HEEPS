{
 "cells": [
  {
   "cell_type": "markdown",
   "metadata": {},
   "source": [
    "## Science case, Hinkley et al."
   ]
  },
  {
   "cell_type": "code",
   "execution_count": 1,
   "metadata": {},
   "outputs": [],
   "source": [
    "from heeps.config import read_config, update_config\n",
    "from heeps.contrast import background\n",
    "from heeps.util.multiCPU import multiCPU\n",
    "from heeps.util.freq_decomp import fit_zer, remove_zernike\n",
    "import numpy as np\n",
    "import os  \n",
    "from astropy.io import fits\n",
    "from copy import deepcopy\n",
    "import proper"
   ]
  },
  {
   "cell_type": "code",
   "execution_count": 2,
   "metadata": {},
   "outputs": [],
   "source": [
    "os.chdir(os.path.normpath(os.path.expandvars('$HOME/heeps_metis/input_files/wavefront')))\n",
    "filename = 'cfull/cube_Cfull_20220512_3600s_300ms_0piston_meters_%s_ncpa_%s_%s.fits'\n",
    "tag = {'L': 'LM', 'N2': 'N'}\n",
    "rep = {'L': 'rep_6_-0h30', 'N2': 'rep_5_-0h30'}\n",
    "npupils = {'L': 285, 'N2': 119}\n",
    "sigLFs = {'L': 13e-9, 'N2': 13e-9*2}\n",
    "sigHFs = {'L': 3e-9, 'N2': 3e-9*2}\n",
    "nzer = 100\n",
    "G = 0.4\n",
    "dit = 0.1     # DIT = 0.1s !!!\n",
    "freq = 10#3   # correction every 10 frames (1Hz)\n",
    "lag = 10#3    # lag every 10 frames (1s)"
   ]
  },
  {
   "cell_type": "code",
   "execution_count": 3,
   "metadata": {},
   "outputs": [
    {
     "name": "stdout",
     "output_type": "stream",
     "text": [
      "scao_cases   = [ 1  2  3  4  5  6  7  8  9 10 11 12 13 14 15 16 17 18 19 20 21 22 23 24]\n",
      "talbot_cases = [ 1  2  3  4  5  6  7  8  9 10  1  2  3  4  5  6  7  8  9 10  1  2  3  4]\n",
      "cbw_cases    = [ 1  1  1  2  2  2  3  3  3  4  4  4  5  5  6  6  7  7  8  8  9  9 10 10]\n",
      "wv_cases     = [ 1  2  3  4  5  6  1  2  3  4  5  6  1  2  3  4  5  6  1  2  3  4  5  6\n",
      " 10]\n"
     ]
    }
   ],
   "source": [
    "# avoid redundancy\n",
    "scao_cases = np.arange(1,25)\n",
    "print('scao_cases   =', scao_cases)\n",
    "talbot_cases = np.tile(np.arange(1,11), 3)[:24]\n",
    "print('talbot_cases =', talbot_cases)\n",
    "cbw_cases = np.concatenate([np.arange(1,5).repeat(3), np.arange(5,11).repeat(2)])\n",
    "print('cbw_cases    =', cbw_cases)\n",
    "wv_cases = np.tile(np.arange(1,7), 4)\n",
    "print('wv_cases     =', np.append(wv_cases, 10)) # last '10' digit in printing for alignment/comparison purpose only"
   ]
  },
  {
   "cell_type": "code",
   "execution_count": 4,
   "metadata": {},
   "outputs": [],
   "source": [
    "# create 24x 10 min SCAO cubes\n",
    "filename = 'dfull/cube_Dfull_20240313_default_D_%s_600s_100ms_%s_%s_%s.fits'\n",
    "scao_names = [\n",
    "    'smedian_z30d_Kmag7.0_v1',\n",
    "    'smedian_z30d_Kmag7.0_v2',\n",
    "    'smedian_z30d_Kmag7.5_v1',\n",
    "    'smedian_z30d_Kmag7.5_v2',\n",
    "    'smedian_z30d_Kmag8.0_v1',\n",
    "    'smedian_z30d_Kmag8.0_v2',\n",
    "    'smedian_z30d_Kmag8.5_v1',\n",
    "    'smedian_z30d_Kmag8.5_v2',\n",
    "    'sQ2_z30d_Kmag7.0_v1',\n",
    "    'sQ2_z30d_Kmag7.0_v2',\n",
    "    'sQ2_z30d_Kmag7.5_v1',\n",
    "    'sQ2_z30d_Kmag7.5_v2',\n",
    "    'sQ2_z30d_Kmag8.0_v1',\n",
    "    'sQ2_z30d_Kmag8.0_v2',\n",
    "    'sQ2_z30d_Kmag8.5_v1',\n",
    "    'sQ2_z30d_Kmag8.5_v2',\n",
    "    'sQ3_z30d_Kmag7.0_v1',\n",
    "    'sQ3_z30d_Kmag7.0_v2',\n",
    "    'sQ3_z30d_Kmag7.5_v1',\n",
    "    'sQ3_z30d_Kmag7.5_v2',\n",
    "    'sQ3_z30d_Kmag8.0_v1',\n",
    "    'sQ3_z30d_Kmag8.0_v2',\n",
    "    'sQ3_z30d_Kmag8.5_v1',\n",
    "    'sQ3_z30d_Kmag8.5_v2',    \n",
    "]"
   ]
  },
  {
   "cell_type": "code",
   "execution_count": 5,
   "metadata": {},
   "outputs": [
    {
     "name": "stdout",
     "output_type": "stream",
     "text": [
      "cbw/20221006/talbot/LM_10min_v1.fits already exists.\n",
      "cbw/20221006/talbot/LM_10min_v2.fits already exists.\n",
      "cbw/20221006/talbot/LM_10min_v3.fits already exists.\n",
      "cbw/20221006/talbot/LM_10min_v4.fits already exists.\n",
      "cbw/20221006/talbot/LM_10min_v5.fits already exists.\n",
      "cbw/20221006/talbot/LM_10min_v6.fits already exists.\n",
      "cbw/20221006/talbot/LM_10min_v7.fits already exists.\n",
      "cbw/20221006/talbot/LM_10min_v8.fits already exists.\n",
      "cbw/20221006/talbot/LM_10min_v9.fits already exists.\n",
      "cbw/20221006/talbot/LM_10min_v10.fits already exists.\n",
      "cbw/20221006/talbot/LM_10min_v11.fits already exists.\n",
      "cbw/20221006/talbot/LM_10min_v12.fits already exists.\n",
      "cbw/20221006/talbot/LM_10min_v13.fits already exists.\n",
      "cbw/20221006/talbot/LM_10min_v14.fits already exists.\n",
      "cbw/20221006/talbot/LM_10min_v15.fits already exists.\n",
      "cbw/20221006/talbot/LM_10min_v16.fits already exists.\n",
      "cbw/20221006/talbot/LM_10min_v17.fits already exists.\n",
      "cbw/20221006/talbot/LM_10min_v18.fits already exists.\n",
      "cbw/20221006/talbot/LM_10min_v19.fits already exists.\n",
      "cbw/20221006/talbot/LM_10min_v20.fits already exists.\n",
      "cbw/20221006/talbot/LM_10min_v21.fits already exists.\n",
      "cbw/20221006/talbot/LM_10min_v22.fits already exists.\n",
      "cbw/20221006/talbot/LM_10min_v23.fits already exists.\n",
      "cbw/20221006/talbot/LM_10min_v24.fits already exists.\n"
     ]
    }
   ],
   "source": [
    "# create 24x 10 min Talbot cubes\n",
    "band = 'L'\n",
    "for i in range(24):\n",
    "    write_name = 'cbw/20221006/talbot/%s_10min_v%s.fits'%(tag[band], i+1)\n",
    "    if os.path.isfile(write_name):\n",
    "        print(write_name + ' already exists.')\n",
    "    else:\n",
    "        talbot = fits.getdata('cbw/20221006/talbot/%s_rep_%s_-0h30.fits'%(tag[band], talbot_cases[i]))[:2000].repeat(3,0)\n",
    "        print('writing: ' + write_name)\n",
    "        fits.writeto(write_name, np.float32(talbot))"
   ]
  },
  {
   "cell_type": "code",
   "execution_count": 6,
   "metadata": {},
   "outputs": [
    {
     "name": "stdout",
     "output_type": "stream",
     "text": [
      "wv/cube_Cbasic_20210601_600s_100ms_L_285_WVonly_v1.fits already exists.\n",
      "wv/cube_Cbasic_20210601_600s_100ms_L_285_WVonly_v2.fits already exists.\n",
      "wv/cube_Cbasic_20210601_600s_100ms_L_285_WVonly_v3.fits already exists.\n",
      "wv/cube_Cbasic_20210601_600s_100ms_L_285_WVonly_v4.fits already exists.\n",
      "wv/cube_Cbasic_20210601_600s_100ms_L_285_WVonly_v5.fits already exists.\n",
      "wv/cube_Cbasic_20210601_600s_100ms_L_285_WVonly_v6.fits already exists.\n"
     ]
    }
   ],
   "source": [
    "# create 6x 10 min WV cubes (will be repeated 4 times each)\n",
    "band = 'L'\n",
    "wv = fits.getdata('wv/cube_Cbasic_20210601_3600s_300ms_0piston_meters_scao_only_%s_%s_WVonly.fits'%(band, npupils[band]))\n",
    "wv_10min_name = 'wv/cube_Cbasic_20210601_600s_100ms_%s_%s_WVonly'%(band, npupils[band]) + '_v%s.fits'\n",
    "for i in range(6):\n",
    "    write_name = wv_10min_name%(i+1)\n",
    "    if os.path.isfile(write_name):\n",
    "        print(write_name + ' already exists.')\n",
    "    else:\n",
    "        wv_10min = wv[i*nframes:(i+1)*nframes].repeat(samp,0)\n",
    "        print('writing: ' + write_name)\n",
    "        fits.writeto(write_name, np.float32(wv_10min))"
   ]
  },
  {
   "cell_type": "code",
   "execution_count": 7,
   "metadata": {},
   "outputs": [],
   "source": [
    "def load_ncpa_10min(i, band):\n",
    "    print(scao_cases[i], cbw_cases[i], wv_cases[i])\n",
    "    npupil = npupils[band]\n",
    "    scao = fits.getdata(filename%(scao_names[i], 'scao_only', band, npupil))\n",
    "    cbw = fits.getdata('cbw/20221006/ncpa/%s_rep_%s_-0h30.fits'%(tag[band], cbw_cases[i]))[:2000].repeat(3,0)\n",
    "    wv = fits.getdata('wv/cube_Cbasic_20210601_600s_100ms_%s_%s_WVonly'%(band, npupil) + '_v%s.fits'%wv_cases[i])\n",
    "    pup = fits.getdata('cfull/mask_Cfull_20220512_%s_%s.fits'%(band, npupil))\n",
    "    pup[pup < .5] = 0\n",
    "    return pup, scao + cbw + wv\n",
    "\n",
    "def load_zpols(pup, ncpa, ncpa_name, npupil):\n",
    "    zpols_name = ncpa_name[:-5] + '_zpols_%s.fits'%nzer\n",
    "    try:\n",
    "        zpols = fits.getdata(zpols_name)\n",
    "        print('    getdata ' + zpols_name)\n",
    "    except FileNotFoundError:\n",
    "        print('    writeto ' + zpols_name)\n",
    "        zpols = multiCPU(fit_zer, posargs=[pup, npupil/2, nzer], \n",
    "            posvars=[ncpa], case='get zpols')\n",
    "        fits.writeto(zpols_name, np.float32(zpols))\n",
    "    return zpols\n",
    "\n",
    "def load_zpols_integ(pup, ncpa, ncpa_name, npupil, sigLF, sigHF, freq, lag):\n",
    "    zpols_integ_name = ncpa_name[:-5] + '_zpols_%s_freq_%s_G_%s_lag_%s_sigLF_%s_sigHF_%s.fits'%(nzer, freq, G, lag, sigLF, sigHF)\n",
    "    if os.path.isfile(zpols_integ_name):\n",
    "        zpols_integ = fits.getdata(zpols_integ_name)\n",
    "        print('  getdata ' + zpols_integ_name)\n",
    "    else:\n",
    "        print('  write to ' + zpols_integ_name)\n",
    "        zpols = load_zpols(pup, ncpa, ncpa_name, npupil)\n",
    "        zpols_integ = np.zeros(zpols.shape)\n",
    "        nframes = len(zpols)\n",
    "        # piston\n",
    "        zpols_integ[:,0] = zpols[:,0]\n",
    "        # tip-tilt, and higher modes\n",
    "        for m, sig in zip([range(1,3), range(3,nzer)], [sigLF, sigHF]):\n",
    "            for n in range(freq+lag, nframes, freq):\n",
    "                error = np.mean(zpols[n-freq-lag:n-lag,m] - zpols_integ[n-1,m], 0) + np.random.normal(0, sig, (1, len(m))) \n",
    "                zpols_integ[n:n+freq,m] = zpols_integ[n-1,m] + G*error\n",
    "        fits.writeto(zpols_integ_name, np.float32(zpols_integ))\n",
    "    return zpols_integ\n",
    "\n",
    "def save_ncpa_10min(i, band, freq, lag):\n",
    "    npupil = npupils[band]\n",
    "    ncpa_name = filename%(scao_names[i], 'all_ncpa', band, npupil)\n",
    "    if os.path.isfile(ncpa_name):\n",
    "        print('file already exists: ' + ncpa_name)\n",
    "    else:\n",
    "        print('write to ' + ncpa_name)\n",
    "        pup, ncpa = load_ncpa_10min(i, band)\n",
    "        sigLF = sigLFs[band]\n",
    "        sigHF = sigHFs[band]\n",
    "        zpols_integ = load_zpols_integ(pup, ncpa, ncpa_name, npupil, sigLF, sigHF, freq, lag)\n",
    "        wf = proper.prop_begin(1, 1, npupil, 1) # initial wavefront\n",
    "        _, HSF = multiCPU(remove_zernike, multi_out=True, verbose=True,\n",
    "            posargs=[deepcopy(wf), pup],\n",
    "            posvars=[ncpa, zpols_integ])\n",
    "        fits.writeto(ncpa_name, np.float32(HSF))"
   ]
  },
  {
   "cell_type": "code",
   "execution_count": 8,
   "metadata": {},
   "outputs": [
    {
     "name": "stdout",
     "output_type": "stream",
     "text": [
      "file already exists: dfull/cube_Dfull_20240313_default_D_smedian_z30d_Kmag7.0_v1_600s_100ms_all_ncpa_L_285.fits\n",
      "file already exists: dfull/cube_Dfull_20240313_default_D_smedian_z30d_Kmag7.0_v2_600s_100ms_all_ncpa_L_285.fits\n",
      "file already exists: dfull/cube_Dfull_20240313_default_D_smedian_z30d_Kmag7.5_v1_600s_100ms_all_ncpa_L_285.fits\n",
      "file already exists: dfull/cube_Dfull_20240313_default_D_smedian_z30d_Kmag7.5_v2_600s_100ms_all_ncpa_L_285.fits\n",
      "file already exists: dfull/cube_Dfull_20240313_default_D_smedian_z30d_Kmag8.0_v1_600s_100ms_all_ncpa_L_285.fits\n",
      "file already exists: dfull/cube_Dfull_20240313_default_D_smedian_z30d_Kmag8.0_v2_600s_100ms_all_ncpa_L_285.fits\n",
      "file already exists: dfull/cube_Dfull_20240313_default_D_smedian_z30d_Kmag8.5_v1_600s_100ms_all_ncpa_L_285.fits\n",
      "file already exists: dfull/cube_Dfull_20240313_default_D_smedian_z30d_Kmag8.5_v2_600s_100ms_all_ncpa_L_285.fits\n",
      "file already exists: dfull/cube_Dfull_20240313_default_D_sQ2_z30d_Kmag7.0_v1_600s_100ms_all_ncpa_L_285.fits\n",
      "file already exists: dfull/cube_Dfull_20240313_default_D_sQ2_z30d_Kmag7.0_v2_600s_100ms_all_ncpa_L_285.fits\n",
      "file already exists: dfull/cube_Dfull_20240313_default_D_sQ2_z30d_Kmag7.5_v1_600s_100ms_all_ncpa_L_285.fits\n",
      "file already exists: dfull/cube_Dfull_20240313_default_D_sQ2_z30d_Kmag7.5_v2_600s_100ms_all_ncpa_L_285.fits\n",
      "file already exists: dfull/cube_Dfull_20240313_default_D_sQ2_z30d_Kmag8.0_v1_600s_100ms_all_ncpa_L_285.fits\n",
      "file already exists: dfull/cube_Dfull_20240313_default_D_sQ2_z30d_Kmag8.0_v2_600s_100ms_all_ncpa_L_285.fits\n",
      "file already exists: dfull/cube_Dfull_20240313_default_D_sQ2_z30d_Kmag8.5_v1_600s_100ms_all_ncpa_L_285.fits\n",
      "file already exists: dfull/cube_Dfull_20240313_default_D_sQ2_z30d_Kmag8.5_v2_600s_100ms_all_ncpa_L_285.fits\n",
      "file already exists: dfull/cube_Dfull_20240313_default_D_sQ3_z30d_Kmag7.0_v1_600s_100ms_all_ncpa_L_285.fits\n",
      "file already exists: dfull/cube_Dfull_20240313_default_D_sQ3_z30d_Kmag7.0_v2_600s_100ms_all_ncpa_L_285.fits\n",
      "file already exists: dfull/cube_Dfull_20240313_default_D_sQ3_z30d_Kmag7.5_v1_600s_100ms_all_ncpa_L_285.fits\n",
      "file already exists: dfull/cube_Dfull_20240313_default_D_sQ3_z30d_Kmag7.5_v2_600s_100ms_all_ncpa_L_285.fits\n",
      "file already exists: dfull/cube_Dfull_20240313_default_D_sQ3_z30d_Kmag8.0_v1_600s_100ms_all_ncpa_L_285.fits\n",
      "file already exists: dfull/cube_Dfull_20240313_default_D_sQ3_z30d_Kmag8.0_v2_600s_100ms_all_ncpa_L_285.fits\n",
      "file already exists: dfull/cube_Dfull_20240313_default_D_sQ3_z30d_Kmag8.5_v1_600s_100ms_all_ncpa_L_285.fits\n",
      "file already exists: dfull/cube_Dfull_20240313_default_D_sQ3_z30d_Kmag8.5_v2_600s_100ms_all_ncpa_L_285.fits\n"
     ]
    }
   ],
   "source": [
    "# start ncpa correction\n",
    "for i in np.arange(24):\n",
    "    for band in ['L']:#, 'N2']:\n",
    "        save_ncpa_10min(i, band, freq, lag)"
   ]
  },
  {
   "cell_type": "markdown",
   "metadata": {},
   "source": [
    "## add star mag and background"
   ]
  },
  {
   "cell_type": "code",
   "execution_count": 9,
   "metadata": {},
   "outputs": [
    {
     "name": "stdout",
     "output_type": "stream",
     "text": [
      "onaxis_PSF_L_CVC_with_bkg_smedian_z30d_Kmag7.0_v1.fits\n",
      "   dit=100ms, thruput=0.7738, mask_trans=0.8532,\n",
      "   mag=7, star_signal=1.43e+10, bckg_noise=5.86e+06\n",
      "onaxis_PSF_L_CVC_with_bkg_smedian_z30d_Kmag7.0_v2.fits\n",
      "   dit=100ms, thruput=0.7700, mask_trans=0.8532,\n",
      "   mag=7, star_signal=1.43e+10, bckg_noise=5.83e+06\n",
      "onaxis_PSF_L_CVC_with_bkg_smedian_z30d_Kmag7.5_v1.fits\n",
      "   dit=100ms, thruput=0.7675, mask_trans=0.8532,\n",
      "   mag=7.5, star_signal=9.00e+09, bckg_noise=5.81e+06\n",
      "onaxis_PSF_L_CVC_with_bkg_smedian_z30d_Kmag7.5_v2.fits\n",
      "   dit=100ms, thruput=0.7783, mask_trans=0.8532,\n",
      "   mag=7.5, star_signal=9.00e+09, bckg_noise=5.90e+06\n",
      "onaxis_PSF_L_CVC_with_bkg_smedian_z30d_Kmag8.0_v1.fits\n",
      "   dit=100ms, thruput=0.7840, mask_trans=0.8532,\n",
      "   mag=8, star_signal=5.68e+09, bckg_noise=5.94e+06\n",
      "onaxis_PSF_L_CVC_with_bkg_smedian_z30d_Kmag8.0_v2.fits\n",
      "   dit=100ms, thruput=0.7777, mask_trans=0.8532,\n",
      "   mag=8, star_signal=5.68e+09, bckg_noise=5.89e+06\n",
      "onaxis_PSF_L_CVC_with_bkg_smedian_z30d_Kmag8.5_v1.fits\n",
      "   dit=100ms, thruput=0.7787, mask_trans=0.8532,\n",
      "   mag=8.5, star_signal=3.58e+09, bckg_noise=5.90e+06\n",
      "onaxis_PSF_L_CVC_with_bkg_smedian_z30d_Kmag8.5_v2.fits\n",
      "   dit=100ms, thruput=0.7774, mask_trans=0.8532,\n",
      "   mag=8.5, star_signal=3.58e+09, bckg_noise=5.89e+06\n",
      "onaxis_PSF_L_CVC_with_bkg_sQ2_z30d_Kmag7.0_v1.fits\n",
      "   dit=100ms, thruput=0.7741, mask_trans=0.8532,\n",
      "   mag=7, star_signal=1.43e+10, bckg_noise=5.86e+06\n",
      "onaxis_PSF_L_CVC_with_bkg_sQ2_z30d_Kmag7.0_v2.fits\n",
      "   dit=100ms, thruput=0.7760, mask_trans=0.8532,\n",
      "   mag=7, star_signal=1.43e+10, bckg_noise=5.88e+06\n",
      "onaxis_PSF_L_CVC_with_bkg_sQ2_z30d_Kmag7.5_v1.fits\n",
      "   dit=100ms, thruput=0.7765, mask_trans=0.8532,\n",
      "   mag=7.5, star_signal=9.00e+09, bckg_noise=5.88e+06\n",
      "onaxis_PSF_L_CVC_with_bkg_sQ2_z30d_Kmag7.5_v2.fits\n",
      "   dit=100ms, thruput=0.7729, mask_trans=0.8532,\n",
      "   mag=7.5, star_signal=9.00e+09, bckg_noise=5.85e+06\n",
      "onaxis_PSF_L_CVC_with_bkg_sQ2_z30d_Kmag8.0_v1.fits\n",
      "   dit=100ms, thruput=0.7705, mask_trans=0.8532,\n",
      "   mag=8, star_signal=5.68e+09, bckg_noise=5.84e+06\n",
      "onaxis_PSF_L_CVC_with_bkg_sQ2_z30d_Kmag8.0_v2.fits\n",
      "   dit=100ms, thruput=0.7814, mask_trans=0.8532,\n",
      "   mag=8, star_signal=5.68e+09, bckg_noise=5.92e+06\n",
      "onaxis_PSF_L_CVC_with_bkg_sQ2_z30d_Kmag8.5_v1.fits\n",
      "   dit=100ms, thruput=0.7870, mask_trans=0.8532,\n",
      "   mag=8.5, star_signal=3.58e+09, bckg_noise=5.96e+06\n",
      "onaxis_PSF_L_CVC_with_bkg_sQ2_z30d_Kmag8.5_v2.fits\n",
      "   dit=100ms, thruput=0.7807, mask_trans=0.8532,\n",
      "   mag=8.5, star_signal=3.58e+09, bckg_noise=5.91e+06\n",
      "onaxis_PSF_L_CVC_with_bkg_sQ3_z30d_Kmag7.0_v1.fits\n",
      "   dit=100ms, thruput=0.7753, mask_trans=0.8532,\n",
      "   mag=7, star_signal=1.43e+10, bckg_noise=5.87e+06\n",
      "onaxis_PSF_L_CVC_with_bkg_sQ3_z30d_Kmag7.0_v2.fits\n",
      "   dit=100ms, thruput=0.7742, mask_trans=0.8532,\n",
      "   mag=7, star_signal=1.43e+10, bckg_noise=5.86e+06\n",
      "onaxis_PSF_L_CVC_with_bkg_sQ3_z30d_Kmag7.5_v1.fits\n",
      "   dit=100ms, thruput=0.7675, mask_trans=0.8532,\n",
      "   mag=7.5, star_signal=9.00e+09, bckg_noise=5.81e+06\n",
      "onaxis_PSF_L_CVC_with_bkg_sQ3_z30d_Kmag7.5_v2.fits\n",
      "   dit=100ms, thruput=0.7696, mask_trans=0.8532,\n",
      "   mag=7.5, star_signal=9.00e+09, bckg_noise=5.83e+06\n",
      "onaxis_PSF_L_CVC_with_bkg_sQ3_z30d_Kmag8.0_v1.fits\n",
      "   dit=100ms, thruput=0.7702, mask_trans=0.8532,\n",
      "   mag=8, star_signal=5.68e+09, bckg_noise=5.83e+06\n",
      "onaxis_PSF_L_CVC_with_bkg_sQ3_z30d_Kmag8.0_v2.fits\n",
      "   dit=100ms, thruput=0.7665, mask_trans=0.8532,\n",
      "   mag=8, star_signal=5.68e+09, bckg_noise=5.81e+06\n",
      "onaxis_PSF_L_CVC_with_bkg_sQ3_z30d_Kmag8.5_v1.fits\n",
      "   dit=100ms, thruput=0.7642, mask_trans=0.8532,\n",
      "   mag=8.5, star_signal=3.58e+09, bckg_noise=5.79e+06\n",
      "onaxis_PSF_L_CVC_with_bkg_sQ3_z30d_Kmag8.5_v2.fits\n",
      "   dit=100ms, thruput=0.7749, mask_trans=0.8532,\n",
      "   mag=8.5, star_signal=3.58e+09, bckg_noise=5.87e+06\n"
     ]
    }
   ],
   "source": [
    "os.chdir(os.path.normpath(os.path.expandvars('$HOME/heeps_metis/output_files/exeter_all_effects')))\n",
    "mags = [7, 7, 7.5, 7.5, 8, 8, 8.5, 8.5, 7, 7, 7.5, 7.5, 8, 8, 8.5, 8.5, 7, 7, 7.5, 7.5, 8, 8, 8.5, 8.5]\n",
    "for scao_name, mag in zip(scao_names, mags):\n",
    "    loadname = scao_name + '/%s_PSF_L_CVC.fits'\n",
    "    savename = '%s_PSF_L_CVC_with_bkg_' + '%s.fits'%scao_name\n",
    "    psf_ON = fits.getdata(loadname%'onaxis')\n",
    "    psf_OFF = fits.getdata(loadname%'offaxis')\n",
    "    header_ON = fits.getheader(loadname%'onaxis')\n",
    "    conf = update_config(**dict(read_config(), band='L', mode='CVC', dit=dit, mag=mag))\n",
    "    print(savename%'onaxis')\n",
    "    on, off = background(psf_ON, psf_OFF, header=header_ON, seed=np.random.randint(1e6), verbose=True, **conf)\n",
    "    fits.writeto(savename%'onaxis', np.float32(on), overwrite=True)\n",
    "    fits.writeto(savename%'offaxis', np.float32(off), overwrite=True)"
   ]
  }
 ],
 "metadata": {
  "kernelspec": {
   "display_name": "Python 3",
   "language": "python",
   "name": "python3"
  },
  "language_info": {
   "codemirror_mode": {
    "name": "ipython",
    "version": 3
   },
   "file_extension": ".py",
   "mimetype": "text/x-python",
   "name": "python",
   "nbconvert_exporter": "python",
   "pygments_lexer": "ipython3",
   "version": "3.7.2"
  }
 },
 "nbformat": 4,
 "nbformat_minor": 4
}

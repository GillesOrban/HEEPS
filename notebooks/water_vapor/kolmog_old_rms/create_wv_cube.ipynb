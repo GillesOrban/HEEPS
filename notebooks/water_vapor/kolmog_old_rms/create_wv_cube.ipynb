{
 "cells": [
  {
   "cell_type": "code",
   "execution_count": 1,
   "metadata": {},
   "outputs": [],
   "source": [
    "from heeps.config.read_config import read_config\n",
    "from heeps.config.update_config import update_config\n",
    "from heeps.util.multiCPU import multiCPU\n",
    "from heeps.util.freq_decomp import remove_zernike\n",
    "from heeps.util.img_processing import resize_cube\n",
    "from astropy.io import fits\n",
    "from copy import deepcopy\n",
    "import numpy as np\n",
    "import proper\n",
    "import os"
   ]
  },
  {
   "cell_type": "code",
   "execution_count": 2,
   "metadata": {},
   "outputs": [
    {
     "name": "stdout",
     "output_type": "stream",
     "text": [
      "scaling_L=0.011, scaling_N=0.136\n",
      "npupil_L=285, npupil_N=119\n"
     ]
    }
   ],
   "source": [
    "os.chdir(os.path.normpath(os.path.expandvars('$HOME/heeps_metis/input_files/wavefront')))\n",
    "tag = 'Cfull_20211007'\n",
    "scao = 'cfull/cube_%s'%tag + '_3600s_300ms_0piston_meters_%s_%s_%s.fits'\n",
    "wv = 'wv/cube_Cbasic_20210601_3600s_100ms_0piston_meters_scao_only_720_WV.fits'\n",
    "pup = fits.getdata('wv/mask_Cbasic_20210601_720.fits')\n",
    "pup[pup < .5] = 0\n",
    "zpols = fits.getdata('wv/cube_Cbasic_20210601_3600s_100ms_0piston_meters_scao_only_720_WV_zpols_100.fits')[::3]\n",
    "n1 = fits.getdata('wv/cube_Cbasic_20210601_3600s_100ms_0piston_meters_scao_only_720_WV_zpols_100_nLF_1_nHF_1_G_0.4.fits')[::3]\n",
    "n3 = fits.getdata('wv/cube_Cbasic_20210601_3600s_100ms_0piston_meters_scao_only_720_WV_zpols_100_nLF_3_nHF_3_G_0.4.fits')[::3]\n",
    "n10 = fits.getdata('wv/cube_Cbasic_20210601_3600s_100ms_0piston_meters_scao_only_720_WV_zpols_100_nLF_10_nHF_10_G_0.4.fits')[::3]\n",
    "nimg = 720\n",
    "temporal_rms = 8814.11\n",
    "scaling_L = 100/temporal_rms\n",
    "scaling_N = 1200/temporal_rms\n",
    "print('scaling_L=%s, scaling_N=%s'%(np.round(scaling_L,3), np.round(scaling_N,3)))\n",
    "npupil_L = update_config(**dict(read_config(), band='L'))['npupil']\n",
    "npupil_N = update_config(**dict(read_config(), band='N2'))['npupil']\n",
    "print('npupil_L=%s, npupil_N=%s'%(npupil_L, npupil_N))\n",
    "wf = proper.prop_begin(1, 1, nimg, 1) # initial wavefront"
   ]
  },
  {
   "cell_type": "markdown",
   "metadata": {},
   "source": [
    "## WV only"
   ]
  },
  {
   "cell_type": "code",
   "execution_count": 3,
   "metadata": {},
   "outputs": [
    {
     "name": "stdout",
     "output_type": "stream",
     "text": [
      "getdata wv/cube_Cbasic_20210601_3600s_300ms_0piston_meters_scao_only_%s_%s_WVonly.fits\n"
     ]
    }
   ],
   "source": [
    "name = 'wv/cube_Cbasic_20210601_3600s_300ms_0piston_meters_scao_only_%s_%s_WVonly.fits'\n",
    "try:\n",
    "    wv_L = fits.getdata(name%('L', npupil_L))\n",
    "    wv_N = fits.getdata(name%('N2', npupil_N))\n",
    "    print('getdata ' + name)\n",
    "except FileNotFoundError:\n",
    "    print('writeto ' + name)\n",
    "    wv_L = resize_cube(fits.getdata(wv)[::3], npupil_L)*scaling_L\n",
    "    wv_N = resize_cube(fits.getdata(wv)[::3], npupil_N)*scaling_N\n",
    "    fits.writeto(name%('L', npupil_L), wv_L)\n",
    "    fits.writeto(name%('N2', npupil_N), wv_N)"
   ]
  },
  {
   "cell_type": "markdown",
   "metadata": {},
   "source": [
    "## SCAO + WV"
   ]
  },
  {
   "cell_type": "code",
   "execution_count": 4,
   "metadata": {},
   "outputs": [
    {
     "name": "stdout",
     "output_type": "stream",
     "text": [
      "file exists: cfull/wv/cube_Cfull_20211007_3600s_300ms_0piston_meters_all_ncpa_N2_119_WV.fits\n"
     ]
    }
   ],
   "source": [
    "name = 'cfull/wv/cube_%s'%tag + '_3600s_300ms_0piston_meters_%s_%s_%s_WV.fits'\n",
    "if os.path.isfile(name%('all_ncpa', 'N2', npupil_N)):\n",
    "    print('file exists: ' + name%('all_ncpa', 'N2', npupil_N))\n",
    "else:\n",
    "    for cube, band, nband in zip([wv_L, wv_N], ['L', 'N2'], [npupil_L, npupil_N]):\n",
    "        for case in ['scao_only', 'all_ncpa']:\n",
    "            print('writeto ' + name%(case, band, nband))\n",
    "            fits.writeto(name%(case, band, nband), fits.getdata(scao%(case, band, nband)) + cube, overwrite=True)"
   ]
  },
  {
   "cell_type": "markdown",
   "metadata": {},
   "source": [
    "## SCAO + WV w/o tip-tilt"
   ]
  },
  {
   "cell_type": "code",
   "execution_count": 5,
   "metadata": {},
   "outputs": [
    {
     "name": "stdout",
     "output_type": "stream",
     "text": [
      "file exists: cfull/wv/cube_Cfull_20211007_3600s_300ms_0piston_meters_all_ncpa_N2_119_WVnoTT.fits\n"
     ]
    }
   ],
   "source": [
    "name = 'cfull/wv/cube_%s'%tag + '_3600s_300ms_0piston_meters_%s_%s_%s_WVnoTT.fits'\n",
    "if os.path.isfile(name%('all_ncpa', 'N2', npupil_N)):\n",
    "    print('file exists: ' + name%('all_ncpa', 'N2', npupil_N))\n",
    "else:\n",
    "    _, HSF = multiCPU(remove_zernike, case='noTT', multi_out=True, verbose=True,\n",
    "        posargs=[deepcopy(wf), pup],\n",
    "        posvars=[fits.getdata(wv)[::3], zpols[:,:3]])\n",
    "    for scaling, band, nband in zip([scaling_L, scaling_N], ['L', 'N2'], [npupil_L, npupil_N]):\n",
    "        wv_cube = resize_cube(HSF, nband)\n",
    "        for case in ['scao_only', 'all_ncpa']:\n",
    "            print('writeto ' + name%(case, band, nband))\n",
    "            fits.writeto(name%(case, band, nband), fits.getdata(scao%(case, band, nband)) \\\n",
    "                + wv_cube*scaling, overwrite=True)"
   ]
  },
  {
   "cell_type": "markdown",
   "metadata": {},
   "source": [
    "## QACITS"
   ]
  },
  {
   "cell_type": "code",
   "execution_count": 6,
   "metadata": {},
   "outputs": [
    {
     "name": "stdout",
     "output_type": "stream",
     "text": [
      "file exists: cfull/wv/cube_Cfull_20211007_3600s_300ms_0piston_meters_all_ncpa_N2_119_WV_G_0.4_nLF_1.fits\n",
      "file exists: cfull/wv/cube_Cfull_20211007_3600s_300ms_0piston_meters_all_ncpa_N2_119_WV_G_0.4_nLF_3.fits\n",
      "file exists: cfull/wv/cube_Cfull_20211007_3600s_300ms_0piston_meters_all_ncpa_N2_119_WV_G_0.4_nLF_10.fits\n"
     ]
    }
   ],
   "source": [
    "name = 'cfull/wv/cube_%s'%tag + '_3600s_300ms_0piston_meters_%s_%s_%s_WV_G_0.4_nLF_%s.fits'\n",
    "for freq, zern in zip([1,3,10], [n1[:,:3], n3[:,:3], n10[:,:3]]):\n",
    "    if os.path.isfile(name%('all_ncpa', 'N2', npupil_N, freq)):\n",
    "        print('file exists: ' + name%('all_ncpa', 'N2', npupil_N, freq))\n",
    "    else:\n",
    "        _, HSF = multiCPU(remove_zernike, case='n%s'%freq, multi_out=True, verbose=True,\n",
    "            posargs=[deepcopy(wf), pup],\n",
    "            posvars=[fits.getdata(wv)[::3], zern])\n",
    "        for scaling, band, nband in zip([scaling_L, scaling_N], ['L', 'N2'], [npupil_L, npupil_N]):\n",
    "            wv_cube = resize_cube(HSF, nband)\n",
    "            for case in ['scao_only', 'all_ncpa']:\n",
    "                print('writeto ' + name%(case, band, nband, freq))\n",
    "                fits.writeto(name%(case, band, nband, freq), fits.getdata(scao%(case, band, nband)) \\\n",
    "                    + wv_cube*scaling, overwrite=True)"
   ]
  },
  {
   "cell_type": "markdown",
   "metadata": {},
   "source": [
    "## QACITS + PSI"
   ]
  },
  {
   "cell_type": "code",
   "execution_count": 7,
   "metadata": {},
   "outputs": [
    {
     "name": "stdout",
     "output_type": "stream",
     "text": [
      "file exists: cfull/wv/cube_Cfull_20211007_3600s_300ms_0piston_meters_all_ncpa_N2_119_WV_G_0.4_nLF_1_nHF_1.fits\n",
      "file exists: cfull/wv/cube_Cfull_20211007_3600s_300ms_0piston_meters_all_ncpa_N2_119_WV_G_0.4_nLF_1_nHF_3.fits\n",
      "file exists: cfull/wv/cube_Cfull_20211007_3600s_300ms_0piston_meters_all_ncpa_N2_119_WV_G_0.4_nLF_1_nHF_10.fits\n"
     ]
    }
   ],
   "source": [
    "name = 'cfull/wv/cube_%s'%tag + '_3600s_300ms_0piston_meters_%s_%s_%s_WV_G_0.4_nLF_1_nHF_%s.fits'\n",
    "zern1 = np.hstack((n1[:,:3], n1[:,3:]))\n",
    "zern3 = np.hstack((n1[:,:3], n3[:,3:]))\n",
    "zern10 = np.hstack((n1[:,:3], n10[:,3:]))\n",
    "for freq, zern in zip([1,3,10], [zern1, zern3, zern10]):\n",
    "    if os.path.isfile(name%('all_ncpa', 'N2', npupil_N, freq)):\n",
    "        print('file exists: ' + name%('all_ncpa', 'N2', npupil_N, freq))\n",
    "    else:\n",
    "        _, HSF = multiCPU(remove_zernike, case='n%s'%freq, multi_out=True, verbose=True,\n",
    "            posargs=[deepcopy(wf), pup],\n",
    "            posvars=[fits.getdata(wv)[::3], zern])\n",
    "        for scaling, band, nband in zip([scaling_L, scaling_N], ['L', 'N2'], [npupil_L, npupil_N]):\n",
    "            wv_cube = resize_cube(HSF, nband)\n",
    "            for case in ['scao_only', 'all_ncpa']:\n",
    "                print('writeto ' + name%(case, band, nband, freq))\n",
    "                fits.writeto(name%(case, band, nband, freq), fits.getdata(scao%(case, band, nband)) \\\n",
    "                    + wv_cube*scaling, overwrite=True)"
   ]
  }
 ],
 "metadata": {
  "kernelspec": {
   "display_name": "Python 3",
   "language": "python",
   "name": "python3"
  },
  "language_info": {
   "codemirror_mode": {
    "name": "ipython",
    "version": 3
   },
   "file_extension": ".py",
   "mimetype": "text/x-python",
   "name": "python",
   "nbconvert_exporter": "python",
   "pygments_lexer": "ipython3",
   "version": "3.7.0"
  }
 },
 "nbformat": 4,
 "nbformat_minor": 2
}

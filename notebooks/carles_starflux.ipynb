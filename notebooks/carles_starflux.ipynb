{
 "cells": [
  {
   "cell_type": "code",
   "execution_count": 1,
   "metadata": {},
   "outputs": [],
   "source": [
    "# /home/cdelacroix/\n",
    "# /mnt/disk4tb/METIS/"
   ]
  },
  {
   "attachments": {},
   "cell_type": "markdown",
   "metadata": {},
   "source": [
    "# add starflux + (background & Poisson noise)"
   ]
  },
  {
   "cell_type": "code",
   "execution_count": null,
   "metadata": {},
   "outputs": [],
   "source": [
    "import pickle\n",
    "from heeps.contrast.background import background\n",
    "psf_ON = fits.getdata('onaxis_PSF_L_RAVC.fits')\n",
    "psf_OFF = fits.getdata('offaxis_PSF_L_RAVC.fits')\n",
    "conf = pickle.load(open('conf_L_RAVC.pkl','rb'))\n",
    "\n",
    "psf_ON, psf_OFF = background(psf_ON, psf_OFF, **conf)\n",
    "\n",
    "fits.writeto('onaxis_PSF_L_RAVC_magL_5_bckg.fits', psf_ON)"
   ]
  },
  {
   "attachments": {},
   "cell_type": "markdown",
   "metadata": {},
   "source": [
    "# only starflux (no background)"
   ]
  },
  {
   "cell_type": "code",
   "execution_count": null,
   "metadata": {},
   "outputs": [],
   "source": [
    "import pickle\n",
    "from heeps.contrast.background import background\n",
    "psf_ON = fits.getdata('onaxis_PSF_L_RAVC.fits')\n",
    "conf = pickle.load(open('conf_L_RAVC.pkl','rb'))\n",
    "\n",
    "lam = conf['lam']\n",
    "dit = conf['dit']\n",
    "flux_star = conf['flux_star']\n",
    "mag_ref = conf['mag_ref']\n",
    "\n",
    "f_vc_trans = conf['f_vc_trans']\n",
    "data = fits.getdata(f_vc_trans)\n",
    "mask_trans = np.interp(lam*1e6, data[0], data[1])\n",
    "\n",
    "mag = 5\n",
    "star_signal = dit * flux_star * 10**(-0.4*(mag - mag_ref))\n",
    "psf_ON *= star_signal * mask_trans\n",
    "\n",
    "fits.writeto('onaxis_PSF_L_RAVC_magL_5_nobckg.fits', psf_ON)"
   ]
  }
 ],
 "metadata": {
  "kernelspec": {
   "display_name": "base",
   "language": "python",
   "name": "python3"
  },
  "language_info": {
   "codemirror_mode": {
    "name": "ipython",
    "version": 3
   },
   "file_extension": ".py",
   "mimetype": "text/x-python",
   "name": "python",
   "nbconvert_exporter": "python",
   "pygments_lexer": "ipython3",
   "version": "3.7.2"
  },
  "orig_nbformat": 4,
  "vscode": {
   "interpreter": {
    "hash": "cd78fef2128015050713e82ca51c6520b11aee7c9ee8df750520bbbc7384cbaa"
   }
  }
 },
 "nbformat": 4,
 "nbformat_minor": 2
}

{
 "cells": [
  {
   "cell_type": "code",
   "execution_count": 1,
   "metadata": {},
   "outputs": [],
   "source": [
    "import os\n",
    "from  astropy.io import fits"
   ]
  },
  {
   "cell_type": "markdown",
   "metadata": {},
   "source": [
    "### Input parameters"
   ]
  },
  {
   "cell_type": "code",
   "execution_count": null,
   "metadata": {},
   "outputs": [],
   "source": [
    "os.chdir(os.path.normpath(os.path.expandvars('$HOME/heeps_metis/input_files/wavefront')))\n",
    "master_seed = {'LTF':123456, 'HTF':345678} #12000 frames\n",
    "#master_seed = {'LTF':234567, 'HTF':456789} #6000 frames\n",
    "cutoff = 0.01       # in Hz\n",
    "tag = 'Cfull_20220512'#'Cfull_20211004'#'Cfull_20211007'#'Cbasic_20201130'\n",
    "t_max = 3600#600#   # in s\n",
    "dt = 300#100#       # in ms\n",
    "npetals = 6\n",
    "npupil = 285\n",
    "band = 'L'\n",
    "#f_scao_screens = 'wavefront/cfull/cube_%s_%ss_%sms_0piston_meters_%s_%s_%s.fits' \\\n",
    "#    %(tag, t_max, dt, 'noTTnoPP', band, npupil)\n",
    "#f_mask = 'wavefront/cfull/mask_%s_%s_%s.fits'%(tag, band, npupil)\n",
    "f_scao_screens = 'cfull/cube_%s_%ss_%sms_0piston_meters_%s_%s_%s.fits'\n",
    "scao = fits.getdata(f_scao_screens%(tag, t_max, dt, 'noTTnoPP', band, npupil))\n",
    "f_petal_screens = 'petal/cube_petal_piston_%s_seed=%s_%s_%s.fits'\n",
    "f_scao_petal = 'petal/cube_%s_%ss_%sms_0piston_meters_%s_%s_%s_pp%s_rms_%s.fits'"
   ]
  },
  {
   "cell_type": "markdown",
   "metadata": {},
   "source": [
    "### Create cubes"
   ]
  },
  {
   "cell_type": "code",
   "execution_count": null,
   "metadata": {},
   "outputs": [],
   "source": [
    "for TF in ['LTF', 'HTF']:\n",
    "    piston = fits.getdata(f_petal_screens%(TF, master_seed[TF], band, npupil))\n",
    "    for rms in [10, 20, 50, 100]: # nm rms\n",
    "        print('rms = %s nm'%rms)\n",
    "        fits.writeto(f_scao_petal%(tag, t_max, dt, 'noTTnoPP', band, npupil, TF, rms),\n",
    "            scao + piston*rms*1e-9, overwrite=True)"
   ]
  }
 ],
 "metadata": {
  "kernelspec": {
   "display_name": "Python 3.7.0 ('base')",
   "language": "python",
   "name": "python3"
  },
  "language_info": {
   "codemirror_mode": {
    "name": "ipython",
    "version": 3
   },
   "file_extension": ".py",
   "mimetype": "text/x-python",
   "name": "python",
   "nbconvert_exporter": "python",
   "pygments_lexer": "ipython3",
   "version": "3.7.0"
  },
  "orig_nbformat": 4,
  "vscode": {
   "interpreter": {
    "hash": "cd78fef2128015050713e82ca51c6520b11aee7c9ee8df750520bbbc7384cbaa"
   }
  }
 },
 "nbformat": 4,
 "nbformat_minor": 2
}

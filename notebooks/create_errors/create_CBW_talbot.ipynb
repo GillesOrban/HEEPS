{
 "cells": [
  {
   "cell_type": "code",
   "execution_count": 1,
   "metadata": {},
   "outputs": [],
   "source": [
    "from heeps.config.read_config import read_config\n",
    "from heeps.config.update_config import update_config\n",
    "from heeps.util.img_processing import resize_cube\n",
    "from astropy.io import fits\n",
    "import numpy as np\n",
    "import os"
   ]
  },
  {
   "cell_type": "code",
   "execution_count": 2,
   "metadata": {},
   "outputs": [],
   "source": [
    "os.chdir(os.path.normpath(os.path.expandvars('$HOME/heeps_metis/input_files')))\n",
    "npupil_L = update_config(**dict(read_config(), band='L'))['npupil']\n",
    "npupil_N = update_config(**dict(read_config(), band='N2'))['npupil']\n",
    "npupil = {'L':npupil_L, 'N2':npupil_N}\n",
    "filename = 'wavefront/talbot/DynamicV08/%s/IMGA_rep_%s_field_%s.fits.gz'\n",
    "tag = {'L':'LM_20220223', 'N2':'N_20220223'}"
   ]
  },
  {
   "cell_type": "code",
   "execution_count": 3,
   "metadata": {},
   "outputs": [
    {
     "name": "stdout",
     "output_type": "stream",
     "text": [
      "L band, rep 1\n",
      "N2 band, rep 1\n"
     ]
    }
   ],
   "source": [
    "for band in ['L','N2']:\n",
    "    for rep in [1]:#range(1,11):\n",
    "        start = 0 # 0, 13, 25, 32, (38), 44 \n",
    "        for i,field in enumerate(range(start, start+25)):\n",
    "            talbot = fits.getdata(filename%(tag[band], rep, field))\n",
    "            talbot = resize_cube(talbot, npupil[band])\n",
    "            stack = np.dstack([talbot.T]*480).T\n",
    "            if i == 0:\n",
    "                cube = stack\n",
    "            else:\n",
    "                cube = np.vstack((cube, stack))\n",
    "        fits.writeto('wavefront/talbot/DynamicV08/Talbot_%s_rep_%s_-2h00.fits'%(tag[band], rep), cube, overwrite=True)\n",
    "        print('%s band, rep %s'%(band, rep))"
   ]
  }
 ],
 "metadata": {
  "kernelspec": {
   "display_name": "Python 3",
   "language": "python",
   "name": "python3"
  },
  "language_info": {
   "codemirror_mode": {
    "name": "ipython",
    "version": 3
   },
   "file_extension": ".py",
   "mimetype": "text/x-python",
   "name": "python",
   "nbconvert_exporter": "python",
   "pygments_lexer": "ipython3",
   "version": "3.7.0"
  }
 },
 "nbformat": 4,
 "nbformat_minor": 2
}

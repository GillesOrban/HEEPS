{
 "cells": [
  {
   "cell_type": "code",
   "execution_count": 1,
   "metadata": {},
   "outputs": [],
   "source": [
    "from heeps.util.multiCPU import multiCPU\n",
    "from heeps.util.freq_decomp import fit_zer, remove_zernike\n",
    "import numpy as np\n",
    "import os  \n",
    "from astropy.io import fits\n",
    "from copy import deepcopy\n",
    "import proper"
   ]
  },
  {
   "cell_type": "code",
   "execution_count": 2,
   "metadata": {},
   "outputs": [],
   "source": [
    "os.chdir(os.path.normpath(os.path.expandvars('$HOME/heeps_metis/input_files/wavefront')))\n",
    "tag = {'L': 'LM_20211122', 'N2': 'N_20211122'}\n",
    "rep = {'L': 15, 'N2': 13}\n",
    "npupils = {'L': 285, 'N2': 119}\n",
    "sigLFs = {'L': 13e-9, 'N2': 13e-9*2}\n",
    "sigHFs = {'L': 3e-9, 'N2': 3e-9*2}\n",
    "nzer = 100\n",
    "freq = 3\n",
    "G = 0.4\n",
    "lag = 3"
   ]
  },
  {
   "cell_type": "code",
   "execution_count": 3,
   "metadata": {},
   "outputs": [],
   "source": [
    "def load_ncpa(case, band):\n",
    "    npupil = npupils[band]\n",
    "    scao = fits.getdata('cfull/cube_Cfull_20220512_3600s_300ms_0piston_meters_scao_only_%s_%s.fits'%(band, npupil))\n",
    "    cbw = fits.getdata('ncpa/%s_%s_%s_rep_%s.fits'%(tag[band], band, npupil, rep[band]))\n",
    "    wv = fits.getdata('wv/cube_Cbasic_20210601_3600s_300ms_0piston_meters_scao_only_%s_%s_WVonly.fits'%(band, npupil))\n",
    "    ncpa_name = 'cfull/cube_Cfull_20220512_3600s_300ms_0piston_meters_%s_ncpa_%s_%s.fits'%(case, band, npupil)\n",
    "    pup = fits.getdata('cfull/mask_Cfull_20220512_%s_%s.fits'%(band, npupil))\n",
    "    pup[pup < .5] = 0\n",
    "    if case == 'cbw':\n",
    "        ncpa = scao + cbw\n",
    "    elif case == 'wv':\n",
    "        ncpa = scao + wv\n",
    "    else:\n",
    "        ncpa = scao + cbw + wv\n",
    "    return npupil, ncpa_name, pup, ncpa\n",
    "\n",
    "def load_zpols(case, band):\n",
    "    npupil, ncpa_name, pup, ncpa = load_ncpa(case, band)\n",
    "    zpols_name = ncpa_name[:-5] + '_zpols_%s.fits'%nzer\n",
    "    try:\n",
    "        zpols = fits.getdata(zpols_name)\n",
    "        print('    getdata ' + zpols_name)\n",
    "    except FileNotFoundError:\n",
    "        print('    writeto ' + zpols_name)\n",
    "        zpols = multiCPU(fit_zer, posargs=[pup, npupil/2, nzer], \n",
    "            posvars=[ncpa], case='get zpols')\n",
    "        fits.writeto(zpols_name, np.float32(zpols))\n",
    "    return zpols\n",
    "\n",
    "def load_zpols_integ(case, band):\n",
    "    _, ncpa_name, _, _ = load_ncpa(case, band)\n",
    "    sigLF = sigLFs[band]\n",
    "    sigHF = sigHFs[band]\n",
    "    zpols_integ_name = ncpa_name[:-5] + '_zpols_%s_freq_%s_G_%s_lag_%s_sigLF_%s_sigHF_%s.fits'%(nzer, freq, G, lag, sigLF, sigHF)\n",
    "    if os.path.isfile(zpols_integ_name):\n",
    "        zpols_integ = fits.getdata(zpols_integ_name)\n",
    "        print('  getdata ' + zpols_integ_name)\n",
    "    else:\n",
    "        print('  write to ' + zpols_integ_name)\n",
    "        zpols = load_zpols(case, band)\n",
    "        zpols_integ = np.zeros(zpols.shape)\n",
    "        nframes = len(zpols)\n",
    "        # piston\n",
    "        zpols_integ[:,0] = zpols[:,0]\n",
    "        # tip-tilt, and higher modes\n",
    "        for m, sig in zip([range(1,3), range(3,nzer)], [sigLF, sigHF]):\n",
    "            for n in range(freq+lag, nframes, freq):\n",
    "                error = np.mean(zpols[n-freq-lag:n-lag,m] - zpols_integ[n-1,m], 0) + np.random.normal(0, sig, (1, len(m))) \n",
    "                zpols_integ[n:n+freq,m] = zpols_integ[n-1,m] + G*error\n",
    "        fits.writeto(zpols_integ_name, np.float32(zpols_integ))\n",
    "    return zpols_integ\n",
    "\n",
    "def save_ncpa_cube(case, band):\n",
    "    npupil, ncpa_name, pup, ncpa = load_ncpa(case, band)\n",
    "    if os.path.isfile(ncpa_name):\n",
    "        print('file already exists: ' + ncpa_name)\n",
    "    else:\n",
    "        print('write to ' + ncpa_name)\n",
    "        zpols_integ = load_zpols_integ(case, band)\n",
    "        wf = proper.prop_begin(1, 1, npupil, 1) # initial wavefront\n",
    "        _, HSF = multiCPU(remove_zernike, multi_out=True, verbose=True,\n",
    "            posargs=[deepcopy(wf), pup],\n",
    "            posvars=[ncpa, zpols_integ])\n",
    "        fits.writeto(ncpa_name, np.float32(HSF))"
   ]
  },
  {
   "cell_type": "code",
   "execution_count": 4,
   "metadata": {},
   "outputs": [
    {
     "name": "stdout",
     "output_type": "stream",
     "text": [
      "write to cfull/cube_Cfull_20220512_3600s_300ms_0piston_meters_cbw_ncpa_L_285.fits\n",
      "  write to cfull/cube_Cfull_20220512_3600s_300ms_0piston_meters_cbw_ncpa_L_285_zpols_100_freq_3_G_0.4_lag_3_sigLF_1.3e-08_sigHF_3e-09.fits\n",
      "    getdata cfull/cube_Cfull_20220512_3600s_300ms_0piston_meters_cbw_ncpa_L_285_zpols_100.fits\n",
      "   2022-07-01 17:35:48, using 56 cores\n",
      "   2022-07-01 17:51:52, completed in 963.84 seconds\n",
      "write to cfull/cube_Cfull_20220512_3600s_300ms_0piston_meters_cbw_ncpa_N2_119.fits\n",
      "  write to cfull/cube_Cfull_20220512_3600s_300ms_0piston_meters_cbw_ncpa_N2_119_zpols_100_freq_3_G_0.4_lag_3_sigLF_2.6e-08_sigHF_6e-09.fits\n",
      "    getdata cfull/cube_Cfull_20220512_3600s_300ms_0piston_meters_cbw_ncpa_N2_119_zpols_100.fits\n",
      "   2022-07-01 17:52:05, using 56 cores\n",
      "   2022-07-01 17:58:56, completed in 411.5 seconds\n",
      "write to cfull/cube_Cfull_20220512_3600s_300ms_0piston_meters_wv_ncpa_L_285.fits\n",
      "  write to cfull/cube_Cfull_20220512_3600s_300ms_0piston_meters_wv_ncpa_L_285_zpols_100_freq_3_G_0.4_lag_3_sigLF_1.3e-08_sigHF_3e-09.fits\n",
      "    getdata cfull/cube_Cfull_20220512_3600s_300ms_0piston_meters_wv_ncpa_L_285_zpols_100.fits\n",
      "   2022-07-01 17:59:52, using 56 cores\n",
      "   2022-07-01 18:19:26, completed in 1173.38 seconds\n",
      "write to cfull/cube_Cfull_20220512_3600s_300ms_0piston_meters_wv_ncpa_N2_119.fits\n",
      "  write to cfull/cube_Cfull_20220512_3600s_300ms_0piston_meters_wv_ncpa_N2_119_zpols_100_freq_3_G_0.4_lag_3_sigLF_2.6e-08_sigHF_6e-09.fits\n",
      "    getdata cfull/cube_Cfull_20220512_3600s_300ms_0piston_meters_wv_ncpa_N2_119_zpols_100.fits\n",
      "   2022-07-01 18:20:28, using 56 cores\n",
      "   2022-07-01 18:27:50, completed in 441.85 seconds\n",
      "write to cfull/cube_Cfull_20220512_3600s_300ms_0piston_meters_all_ncpa_L_285.fits\n",
      "  write to cfull/cube_Cfull_20220512_3600s_300ms_0piston_meters_all_ncpa_L_285_zpols_100_freq_3_G_0.4_lag_3_sigLF_1.3e-08_sigHF_3e-09.fits\n",
      "    getdata cfull/cube_Cfull_20220512_3600s_300ms_0piston_meters_all_ncpa_L_285_zpols_100.fits\n",
      "   2022-07-01 18:28:12, using 56 cores\n",
      "   2022-07-01 18:50:42, completed in 1350.26 seconds\n",
      "write to cfull/cube_Cfull_20220512_3600s_300ms_0piston_meters_all_ncpa_N2_119.fits\n",
      "  write to cfull/cube_Cfull_20220512_3600s_300ms_0piston_meters_all_ncpa_N2_119_zpols_100_freq_3_G_0.4_lag_3_sigLF_2.6e-08_sigHF_6e-09.fits\n",
      "    getdata cfull/cube_Cfull_20220512_3600s_300ms_0piston_meters_all_ncpa_N2_119_zpols_100.fits\n",
      "   2022-07-01 18:51:21, using 56 cores\n",
      "   2022-07-01 19:04:04, completed in 762.6 seconds\n"
     ]
    }
   ],
   "source": [
    "for case in ['cbw', 'wv', 'all']:\n",
    "    for band in ['L', 'N2']:\n",
    "        save_ncpa_cube(case, band)"
   ]
  }
 ],
 "metadata": {
  "kernelspec": {
   "display_name": "Python 3",
   "language": "python",
   "name": "python3"
  },
  "language_info": {
   "codemirror_mode": {
    "name": "ipython",
    "version": 3
   },
   "file_extension": ".py",
   "mimetype": "text/x-python",
   "name": "python",
   "nbconvert_exporter": "python",
   "pygments_lexer": "ipython3",
   "version": "3.7.6"
  }
 },
 "nbformat": 4,
 "nbformat_minor": 4
}

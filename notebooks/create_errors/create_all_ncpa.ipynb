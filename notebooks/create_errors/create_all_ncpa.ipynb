{
 "cells": [
  {
   "cell_type": "code",
   "execution_count": 1,
   "metadata": {},
   "outputs": [],
   "source": [
    "from heeps.util.multiCPU import multiCPU\n",
    "from heeps.util.freq_decomp import fit_zer, remove_zernike\n",
    "import numpy as np\n",
    "import os  \n",
    "from astropy.io import fits\n",
    "from copy import deepcopy\n",
    "import proper"
   ]
  },
  {
   "cell_type": "code",
   "execution_count": 2,
   "metadata": {},
   "outputs": [],
   "source": [
    "# inputs\n",
    "band = 'N2'#'L'\n",
    "npupil = 119#285\n",
    "sigLF = 13e-9*2\n",
    "sigHF = 3e-9*2\n",
    "\n",
    "nzer = 100\n",
    "freq = 3\n",
    "G = 0.4\n",
    "lag = 3"
   ]
  },
  {
   "cell_type": "code",
   "execution_count": 3,
   "metadata": {},
   "outputs": [],
   "source": [
    "os.chdir(os.path.normpath(os.path.expandvars('$HOME/heeps_metis/input_files/wavefront')))\n",
    "tag = {'L': 'LM_20211122', 'N2': 'N_20211122'}\n",
    "rep = {'L': 15, 'N2': 13}\n",
    "scao = fits.getdata('cfull/cube_Cfull_20220512_3600s_300ms_0piston_meters_scao_only_%s_%s.fits'%(band, npupil))\n",
    "cbw = fits.getdata('ncpa/%s_%s_%s_rep_%s.fits'%(tag[band], band, npupil, rep[band]))\n",
    "wv = fits.getdata('wv/cube_Cbasic_20210601_3600s_300ms_0piston_meters_scao_only_%s_%s_WVonly.fits'%(band, npupil))\n",
    "ncpa_name = 'cfull/cube_Cfull_20220512_3600s_300ms_0piston_meters_all_ncpa_%s_%s.fits'%(band, npupil)\n",
    "ncpa = scao + cbw + wv\n",
    "pup = fits.getdata('cfull/mask_Cfull_20220512_%s_%s.fits'%(band, npupil))\n",
    "pup[pup < .5] = 0"
   ]
  },
  {
   "cell_type": "code",
   "execution_count": 4,
   "metadata": {},
   "outputs": [
    {
     "name": "stdout",
     "output_type": "stream",
     "text": [
      "getdata cfull/cube_Cfull_20220512_3600s_300ms_0piston_meters_all_ncpa_N2_119_zpols_100.fits\n"
     ]
    }
   ],
   "source": [
    "zpols_name = ncpa_name[:-5] + '_zpols_%s.fits'%nzer\n",
    "try:\n",
    "    zpols = fits.getdata(zpols_name)\n",
    "    print('getdata ' + zpols_name)\n",
    "except FileNotFoundError:\n",
    "    print('writeto ' + zpols_name)\n",
    "    zpols = multiCPU(fit_zer, posargs=[pup, npupil/2, nzer], \n",
    "        posvars=[ncpa], case='get zpols')\n",
    "    fits.writeto(zpols_name, np.float32(zpols))"
   ]
  },
  {
   "cell_type": "code",
   "execution_count": 5,
   "metadata": {},
   "outputs": [
    {
     "name": "stdout",
     "output_type": "stream",
     "text": [
      "getdata cfull/cube_Cfull_20220512_3600s_300ms_0piston_meters_all_ncpa_N2_119_zpols_100_freq_3_G_0.4_lag_3_sigLF_2.6e-08_sigHF_6e-09.fits\n"
     ]
    }
   ],
   "source": [
    "zpols_integ_name = ncpa_name[:-5] + '_zpols_%s_freq_%s_G_%s_lag_%s_sigLF_%s_sigHF_%s.fits'%(nzer, freq, G, lag, sigLF, sigHF)\n",
    "if os.path.isfile(zpols_integ_name):\n",
    "    zpols_integ = fits.getdata(zpols_integ_name)\n",
    "    print('getdata ' + zpols_integ_name)\n",
    "else:\n",
    "    print('write to ' + zpols_integ_name)\n",
    "    zpols_integ = np.zeros(zpols.shape)\n",
    "    nframes = len(zpols)\n",
    "    # piston\n",
    "    zpols_integ[:,0] = zpols[:,0]\n",
    "    # tip-tilt, and higher modes\n",
    "    for m, sig in zip([range(1,3), range(3,nzer)], [sigLF, sigHF]):\n",
    "        for n in range(freq+lag, nframes, freq):\n",
    "            error = np.mean(zpols[n-freq-lag:n-lag,m] - zpols_integ[n-1,m] + np.random.normal(0, sig, (freq,len(m))), 0) \n",
    "            zpols_integ[n:n+freq,m] = zpols_integ[n-1,m] + G*error\n",
    "    fits.writeto(zpols_integ_name, np.float32(zpols_integ))"
   ]
  },
  {
   "cell_type": "code",
   "execution_count": 6,
   "metadata": {},
   "outputs": [
    {
     "name": "stdout",
     "output_type": "stream",
     "text": [
      "getdata cfull/cube_Cfull_20220512_3600s_300ms_0piston_meters_all_ncpa_N2_119.fits\n"
     ]
    }
   ],
   "source": [
    "if os.path.isfile(ncpa_name):\n",
    "    HSF = fits.getdata(ncpa_name)\n",
    "    print('getdata ' + ncpa_name)\n",
    "else:\n",
    "    print('write to ' + ncpa_name)\n",
    "    wf = proper.prop_begin(1, 1, npupil, 1) # initial wavefront\n",
    "    _, HSF = multiCPU(remove_zernike, multi_out=True, verbose=True,\n",
    "        posargs=[deepcopy(wf), pup],\n",
    "        posvars=[ncpa, zpols_integ])\n",
    "    fits.writeto(ncpa_name, np.float32(HSF))"
   ]
  },
  {
   "cell_type": "code",
   "execution_count": 7,
   "metadata": {},
   "outputs": [
    {
     "name": "stdout",
     "output_type": "stream",
     "text": [
      "SCAO+NCPA: 320.40 nm\n"
     ]
    }
   ],
   "source": [
    "print('SCAO+NCPA: %.2f nm'%(np.mean([np.std(x[pup!=0]) for x in HSF*1e9])))"
   ]
  }
 ],
 "metadata": {
  "kernelspec": {
   "display_name": "Python 3",
   "language": "python",
   "name": "python3"
  },
  "language_info": {
   "codemirror_mode": {
    "name": "ipython",
    "version": 3
   },
   "file_extension": ".py",
   "mimetype": "text/x-python",
   "name": "python",
   "nbconvert_exporter": "python",
   "pygments_lexer": "ipython3",
   "version": "3.7.6"
  }
 },
 "nbformat": 4,
 "nbformat_minor": 4
}

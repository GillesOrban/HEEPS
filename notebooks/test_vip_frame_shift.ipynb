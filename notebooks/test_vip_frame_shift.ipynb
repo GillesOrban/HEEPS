{
 "cells": [
  {
   "cell_type": "code",
   "execution_count": 1,
   "metadata": {},
   "outputs": [],
   "source": [
    "from heeps.config import read_config\n",
    "from heeps.pupil import pupil\n",
    "from heeps.wavefront import propagate_one\n",
    "import matplotlib.pyplot as plt\n",
    "import vip_hci\n",
    "import numpy as np"
   ]
  },
  {
   "cell_type": "code",
   "execution_count": 2,
   "metadata": {},
   "outputs": [],
   "source": [
    "conf = read_config()\n",
    "wf = pupil(**conf)\n",
    "psf = propagate_one(wf, onaxis=False, **conf)"
   ]
  },
  {
   "cell_type": "code",
   "execution_count": 3,
   "metadata": {},
   "outputs": [
    {
     "name": "stdout",
     "output_type": "stream",
     "text": [
      "shift (y, x) = (-14.999893496142661, -4.9999963110012615) (71.99989349614266, 41.99999631100126) (57, 37)\n",
      "ap_flux = 0.07539425626650267\n",
      "rim = 13\n"
     ]
    },
    {
     "data": {
      "image/png": "[encoded data removed]",
      "text/plain": [
       "<Figure size 432x288 with 1 Axes>"
      ]
     },
     "metadata": {
      "needs_background": "light"
     },
     "output_type": "display_data"
    },
    {
     "data": {
      "image/png": "[encoded data removed]",
      "text/plain": [
       "<Figure size 432x288 with 1 Axes>"
      ]
     },
     "metadata": {
      "needs_background": "light"
     },
     "output_type": "display_data"
    }
   ],
   "source": [
    "# create a random-size random-center PSF image\n",
    "psf_OFF = psf[110:-140,140:-150]\n",
    "(yoff, xoff) = psf_OFF.shape\n",
    "(cx, cy) = (xoff//2, yoff//2)\n",
    "plt.imshow(psf_OFF, origin='lower')\n",
    "# fit a 2D Gaussian --> output: fwhm, x-y centroid\n",
    "fit = vip_hci.var.fit_2dgaussian(psf_OFF, True, (41,70), debug=False, full_output=True)\n",
    "#fit = vip_hci.var.fit_2dgaussian(psf_OFF, debug=False, full_output=True)\n",
    "yerr, xerr = fit['centroid_y_err'].values[0], fit['centroid_x_err'].values[0]\n",
    "assert (yerr < 0.5) and (xerr < 0.5), 'centroid (x,y) error = '\\\n",
    "                            '(%.1e, %.1e), must be < 0.5 pixel'%(xerr, yerr)\n",
    "# derive the FWHM\n",
    "fwhm = np.mean([fit['fwhm_x'], fit['fwhm_y']])\n",
    "# recenter and crop\n",
    "shiftx, shifty = cx-fit['centroid_x'].values[0], cy-fit['centroid_y'].values[0]\n",
    "print('shift (y, x) =', (shifty, shiftx), \n",
    "    (fit['centroid_y'].values[0], fit['centroid_x'].values[0]), (cy, cx))\n",
    "psf_OFF = vip_hci.preproc.frame_shift(psf_OFF, shifty, shiftx)\n",
    "# FWHM aperture photometry\n",
    "ap_flux = vip_hci.metrics.aperture_flux(psf_OFF, [cy], [cx], fwhm, verbose=False)[0]\n",
    "print('ap_flux =', ap_flux)\n",
    "## image radius (cropped) = 4*FWHM\n",
    "rim = round(4*fwhm)\n",
    "psf_OFF_crop = psf_OFF[cy-rim:cy+rim+1, cx-rim:cx+rim+1]\n",
    "plt.figure();plt.imshow(psf_OFF_crop, origin='lower')\n",
    "print('rim =', rim)"
   ]
  },
  {
   "cell_type": "code",
   "execution_count": 4,
   "metadata": {},
   "outputs": [
    {
     "data": {
      "text/html": [
       "<div>\n",
       "<style scoped>\n",
       "    .dataframe tbody tr th:only-of-type {\n",
       "        vertical-align: middle;\n",
       "    }\n",
       "\n",
       "    .dataframe tbody tr th {\n",
       "        vertical-align: top;\n",
       "    }\n",
       "\n",
       "    .dataframe thead th {\n",
       "        text-align: right;\n",
       "    }\n",
       "</style>\n",
       "<table border=\"1\" class=\"dataframe\">\n",
       "  <thead>\n",
       "    <tr style=\"text-align: right;\">\n",
       "      <th></th>\n",
       "      <th>centroid_y</th>\n",
       "      <th>centroid_x</th>\n",
       "      <th>fwhm_y</th>\n",
       "      <th>fwhm_x</th>\n",
       "      <th>amplitude</th>\n",
       "      <th>theta</th>\n",
       "      <th>centroid_y_err</th>\n",
       "      <th>centroid_x_err</th>\n",
       "      <th>fwhm_y_err</th>\n",
       "      <th>fwhm_x_err</th>\n",
       "      <th>amplitude_err</th>\n",
       "      <th>theta_err</th>\n",
       "    </tr>\n",
       "  </thead>\n",
       "  <tbody>\n",
       "    <tr>\n",
       "      <th>0</th>\n",
       "      <td>71.999893</td>\n",
       "      <td>41.999996</td>\n",
       "      <td>3.36499</td>\n",
       "      <td>3.365145</td>\n",
       "      <td>0.011927</td>\n",
       "      <td>-0.15821</td>\n",
       "      <td>0.224546</td>\n",
       "      <td>0.224558</td>\n",
       "      <td>0.528766</td>\n",
       "      <td>0.528792</td>\n",
       "      <td>0.001874</td>\n",
       "      <td>2127.805904</td>\n",
       "    </tr>\n",
       "  </tbody>\n",
       "</table>\n",
       "</div>"
      ],
      "text/plain": [
       "   centroid_y  centroid_x   fwhm_y    fwhm_x  amplitude    theta  \\\n",
       "0   71.999893   41.999996  3.36499  3.365145   0.011927 -0.15821   \n",
       "\n",
       "   centroid_y_err  centroid_x_err  fwhm_y_err  fwhm_x_err  amplitude_err  \\\n",
       "0        0.224546        0.224558    0.528766    0.528792       0.001874   \n",
       "\n",
       "     theta_err  \n",
       "0  2127.805904  "
      ]
     },
     "execution_count": 4,
     "metadata": {},
     "output_type": "execute_result"
    }
   ],
   "source": [
    "fit"
   ]
  }
 ],
 "metadata": {
  "interpreter": {
   "hash": "cd78fef2128015050713e82ca51c6520b11aee7c9ee8df750520bbbc7384cbaa"
  },
  "kernelspec": {
   "display_name": "Python 3.7.0 ('base')",
   "language": "python",
   "name": "python3"
  },
  "language_info": {
   "codemirror_mode": {
    "name": "ipython",
    "version": 3
   },
   "file_extension": ".py",
   "mimetype": "text/x-python",
   "name": "python",
   "nbconvert_exporter": "python",
   "pygments_lexer": "ipython3",
   "version": "3.7.0"
  },
  "orig_nbformat": 4
 },
 "nbformat": 4,
 "nbformat_minor": 2
}

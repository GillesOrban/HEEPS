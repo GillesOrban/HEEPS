{
 "cells": [
  {
   "cell_type": "code",
   "execution_count": null,
   "metadata": {},
   "outputs": [],
   "source": [
    "import heeps\n",
    "from heeps.wavefront import show_wf\n",
    "import proper"
   ]
  },
  {
   "cell_type": "code",
   "execution_count": null,
   "metadata": {},
   "outputs": [],
   "source": [
    "# initialize conf dict\n",
    "conf = heeps.config.read_config(verbose=False)\n",
    "\n",
    "# here are update values for MIRAC5    \n",
    "conf['band_specs']['N2'] = {\n",
    "    'lam': 12.00e-6,\n",
    "    'pscale': 19,\n",
    "    'flux_star': 4.57e+08,   # 5.83e+9 for star mag=-2.765  #calculated for mag = 0 (reference in code)\n",
    "    'flux_bckg': 6.3e+07,\n",
    "}\n",
    "conf.update(\n",
    "    mode = 'CVC',\n",
    "    band = 'N2',\n",
    "    pupil_img_size = 7,           # pupil image in m (for PROPER)\n",
    "    diam_nominal = 6.5,              # nominal diameter (for LS oversizing)\n",
    "    diam_ext = 6.5,                  # effective outer circular aperture in m\n",
    "    diam_int = 1,                  # effective central obscuration in m\n",
    "    diam_vpm = 6.5,                  # vortex phase mask (19/45*diam_nominal)\n",
    "    diam_lom = 6.5,                  # lyot occulting mask (19/45*diam_nominal)\n",
    "    f_pupil = '',                    # entrance pupil file (need to update once I get info of MIRAC-5)\n",
    "    spi_width = 0.1,                   # spider width in m\n",
    "    spi_angles = [0,90,180,270],      # spider angles in deg\n",
    "    seg_width = 0,\n",
    "    seg_gap = 0,\n",
    "    ls_ext_circ = True, \n",
    "    ls_int_circ = True, \n",
    "    ls_dRext = .02,\n",
    "    ls_dRint = .02,\n",
    "    ls_dRspi = .02,\n",
    ")"
   ]
  },
  {
   "cell_type": "code",
   "execution_count": null,
   "metadata": {},
   "outputs": [
    {
     "name": "stdout",
     "output_type": "stream",
     "text": [
      "Simulation config: band=N2, mode=CVC\n",
      "‾‾‾‾‾‾‾‾‾‾‾‾‾‾‾‾‾‾\n",
      "   loading vortex back-propagation params\n",
      "   vc_charge=2, ngrid=1024, diam_norm=1.0769, beam_ratio=0.0499\n",
      "   npupil=55, pscale=19.0000 mas, lam=1.2005E-05 m\n",
      "   hfov=1.09 arcsec (-> ndet=115, 2.87 lam/D)\n",
      "\n",
      "Off-axis PSF:\n",
      "‾‾‾‾‾‾‾‾‾‾‾‾‾\n",
      "Load phase screens from 'COMPASS_201810_RandomWind_100screens_meters.fits'\n",
      "   nscreens=2 (nframes=2, nstep=1)\n",
      "Create off-axis PSF cube\n",
      "   apply Lyot stop: circ_ext/int=[True, True], ls_dRext/int/spi=[0.02, 0.02, 0.02], ls_misalign=None\n",
      "   2024-11-18 15:33:42, e2e simulation using 12 cores\n",
      "(2,)\n",
      "(2,)\n",
      "   2024-11-18 15:33:45, completed in 2.19 seconds\n",
      "Average PSF cube\n",
      "\n"
     ]
    },
    {
     "ename": "AttributeError",
     "evalue": "module 'proper' has no attribute 'ngrid'",
     "output_type": "error",
     "traceback": [
      "\u001b[0;31m---------------------------------------------------------------------------\u001b[0m",
      "\u001b[0;31mAttributeError\u001b[0m                            Traceback (most recent call last)",
      "\u001b[0;32m/var/folders/p2/1fyx_gcx5m10hkypp8ms0f5h0000gn/T/ipykernel_59144/2132418531.py\u001b[0m in \u001b[0;36m<module>\u001b[0;34m\u001b[0m\n\u001b[1;32m      5\u001b[0m \u001b[0mshow_wf\u001b[0m\u001b[0;34m(\u001b[0m\u001b[0mwf\u001b[0m\u001b[0;34m,\u001b[0m \u001b[0;34m'amp'\u001b[0m\u001b[0;34m,\u001b[0m \u001b[0mnpupil\u001b[0m\u001b[0;34m=\u001b[0m\u001b[0mconf\u001b[0m\u001b[0;34m[\u001b[0m\u001b[0;34m'npupil'\u001b[0m\u001b[0;34m]\u001b[0m\u001b[0;34m)\u001b[0m\u001b[0;34m;\u001b[0m\u001b[0;34m\u001b[0m\u001b[0;34m\u001b[0m\u001b[0m\n\u001b[1;32m      6\u001b[0m \u001b[0mheeps\u001b[0m\u001b[0;34m.\u001b[0m\u001b[0mwavefront\u001b[0m\u001b[0;34m.\u001b[0m\u001b[0mpropagate\u001b[0m\u001b[0;34m(\u001b[0m\u001b[0mwf\u001b[0m\u001b[0;34m,\u001b[0m \u001b[0monaxis\u001b[0m\u001b[0;34m=\u001b[0m\u001b[0;32mFalse\u001b[0m\u001b[0;34m,\u001b[0m \u001b[0mavg\u001b[0m\u001b[0;34m=\u001b[0m\u001b[0;32mTrue\u001b[0m\u001b[0;34m,\u001b[0m \u001b[0msavefits\u001b[0m\u001b[0;34m=\u001b[0m\u001b[0;32mTrue\u001b[0m\u001b[0;34m,\u001b[0m \u001b[0mverbose\u001b[0m\u001b[0;34m=\u001b[0m\u001b[0;32mTrue\u001b[0m\u001b[0;34m,\u001b[0m \u001b[0;34m**\u001b[0m\u001b[0mconf\u001b[0m\u001b[0;34m)\u001b[0m\u001b[0;34m;\u001b[0m\u001b[0;34m\u001b[0m\u001b[0;34m\u001b[0m\u001b[0m\n\u001b[0;32m----> 7\u001b[0;31m \u001b[0mprint\u001b[0m\u001b[0;34m(\u001b[0m\u001b[0;34m'proper.ngrid = %s'\u001b[0m\u001b[0;34m%\u001b[0m\u001b[0mproper\u001b[0m\u001b[0;34m.\u001b[0m\u001b[0mngrid\u001b[0m\u001b[0;34m)\u001b[0m\u001b[0;34m\u001b[0m\u001b[0;34m\u001b[0m\u001b[0m\n\u001b[0m",
      "\u001b[0;31mAttributeError\u001b[0m: module 'proper' has no attribute 'ngrid'"
     ]
    },
    {
     "data": {
      "image/png": "[encoded data removed]",
      "text/plain": [
       "<Figure size 432x288 with 2 Axes>"
      ]
     },
     "metadata": {
      "needs_background": "light"
     },
     "output_type": "display_data"
    }
   ],
   "source": [
    "conf['ngrid'] = 1024\n",
    "conf = heeps.config.update_config(saveconf=False, verbose=True, **conf)\n",
    "\n",
    "wf = heeps.pupil.pupil(**conf)\n",
    "show_wf(wf, 'amp', npupil=conf['npupil']);\n",
    "heeps.wavefront.propagate(wf, onaxis=False, avg=True, savefits=True, verbose=True, **conf);\n",
    "print('PROPER ngrid = %s'%proper.n)"
   ]
  },
  {
   "cell_type": "code",
   "execution_count": null,
   "metadata": {},
   "outputs": [],
   "source": [
    "conf['ngrid'] = 2*1024\n",
    "conf = heeps.config.update_config(saveconf=False, verbose=True, **conf)\n",
    "\n",
    "wf = heeps.pupil.pupil(**conf)\n",
    "show_wf(wf, 'amp', npupil=conf['npupil']);\n",
    "heeps.wavefront.propagate(wf, onaxis=False, avg=True, savefits=True, verbose=True, **conf);\n",
    "print('PROPER ngrid = %s'%proper.n)"
   ]
  }
 ],
 "metadata": {
  "kernelspec": {
   "display_name": "base",
   "language": "python",
   "name": "python3"
  },
  "language_info": {
   "codemirror_mode": {
    "name": "ipython",
    "version": 3
   },
   "file_extension": ".py",
   "mimetype": "text/x-python",
   "name": "python",
   "nbconvert_exporter": "python",
   "pygments_lexer": "ipython3",
   "version": "3.7.2"
  }
 },
 "nbformat": 4,
 "nbformat_minor": 2
}

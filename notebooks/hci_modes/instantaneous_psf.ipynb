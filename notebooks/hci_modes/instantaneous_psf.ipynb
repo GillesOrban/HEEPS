{
 "cells": [
  {
   "cell_type": "code",
   "execution_count": 1,
   "metadata": {},
   "outputs": [],
   "source": [
    "import heeps\n",
    "import numpy as np\n",
    "from astropy.io import fits"
   ]
  },
  {
   "cell_type": "code",
   "execution_count": 2,
   "metadata": {},
   "outputs": [],
   "source": [
    "def get_psfs(conf, case='scao_only', modes=['RAVC', 'APPIMG', 'CVC', 'CLC']):\n",
    "    conf.update(\n",
    "        mode = 'ELT',\n",
    "        f_phase = 'wavefront/cfull/cube_Cfull_20220512_3600s_300ms_0piston_meters_%s'%case + '_L_285.fits',\n",
    "        apo_drift = 0.02, # (% ptv)\n",
    "        f_amp = 'wavefront/talbot/DynamicV08/Talbot_LM_20220223' + '_%s.fits'\n",
    "            %('_rep_1_field_50' if 'static' in case else 'rep_1_-0h30'),# else rep),\n",
    "        vc_chrom_leak = 2e-3,\n",
    "        avg = True,\n",
    "        hfov = 1.065,\n",
    "        ngrid = 2048,\n",
    "    )\n",
    "    conf = heeps.config.read_config(**conf)\n",
    "    conf['band_specs']['L']['pscale'] = 5.47/2\n",
    "    conf = heeps.config.update_config(**conf)\n",
    "    wf = heeps.pupil.pupil(**conf)\n",
    "    psf = heeps.wavefront.propagate(wf, **conf)\n",
    "    elt_peak = np.max(psf)\n",
    "    print('ELT peak = %.4f'%elt_peak)\n",
    "    psf /= elt_peak\n",
    "    fits.writeto(conf['dir_output'] + 'onaxis_PSF_L_ELT.fits', psf, overwrite=True)\n",
    "    \n",
    "    verbose = False\n",
    "    for conf['mode'] in modes:\n",
    "        if 'RAVC' in conf['mode']:\n",
    "            conf.update(ls_dRext=0.0477, ls_dRint=0.04, ls_dRspi=0.0249)\n",
    "        elif 'CVC' in conf['mode']:\n",
    "            conf.update(ls_dRext=0.0209, ls_dRint=0.09, ls_dRspi=0.0245)\n",
    "        elif 'CLC' in conf['mode']:\n",
    "            conf.update(ls_dRext=0.1095, ls_dRint=0.0491, ls_dRspi=0.0317)\n",
    "        conf = heeps.config.update_config(**conf, verbose=verbose)\n",
    "        wf = heeps.pupil.pupil(**conf)\n",
    "        if 'VC' in conf['mode']:\n",
    "            psf_OFF = heeps.wavefront.propagate(wf, onaxis=False, **conf)\n",
    "            psf_ON = heeps.wavefront.propagate(wf, onaxis=True, **conf)\n",
    "            print('mode = %s, leakage = %.2e'%(conf['mode'], np.sum(psf_ON)/np.sum(psf_OFF)))\n",
    "        else:\n",
    "            psf_ON = heeps.wavefront.propagate(wf, onaxis=True, **conf)\n",
    "        psf_ON /= elt_peak\n",
    "        fits.writeto(conf['dir_output'] + 'onaxis_PSF_L_%s.fits'%conf['mode'], psf_ON, overwrite=True)"
   ]
  },
  {
   "cell_type": "markdown",
   "metadata": {},
   "source": [
    "### ideal"
   ]
  },
  {
   "cell_type": "code",
   "execution_count": 3,
   "metadata": {},
   "outputs": [
    {
     "name": "stdout",
     "output_type": "stream",
     "text": [
      "   2022-07-17 06:21:12, e2e simulation using 56 cores\n",
      "   2022-07-17 06:21:16, completed in 4.97 seconds\n",
      "ELT peak = 0.0122\n",
      "   2022-07-17 06:21:20, e2e simulation using 56 cores\n",
      "   2022-07-17 06:21:26, completed in 5.46 seconds\n",
      "   2022-07-17 06:21:27, e2e simulation using 56 cores\n",
      "   2022-07-17 06:21:38, completed in 10.68 seconds\n",
      "mode = RAVC, leakage = 2.15e-03\n",
      "   2022-07-17 06:21:40, e2e simulation using 56 cores\n",
      "   2022-07-17 06:21:45, completed in 5.27 seconds\n",
      "   2022-07-17 06:21:46, e2e simulation using 56 cores\n",
      "   2022-07-17 06:21:52, completed in 5.1 seconds\n",
      "   2022-07-17 06:21:53, e2e simulation using 56 cores\n",
      "   2022-07-17 06:22:03, completed in 10.45 seconds\n",
      "mode = CVC, leakage = 2.59e-02\n",
      "   2022-07-17 06:22:05, e2e simulation using 56 cores\n",
      "   2022-07-17 06:22:17, completed in 12.14 seconds\n"
     ]
    }
   ],
   "source": [
    "conf = dict(\n",
    "    dir_output = 'instant_psf/ideal',\n",
    "    nframes_avg = 1,\n",
    "    add_phase = False,\n",
    ")\n",
    "get_psfs(conf)"
   ]
  },
  {
   "cell_type": "markdown",
   "metadata": {},
   "source": [
    "### scao only"
   ]
  },
  {
   "cell_type": "code",
   "execution_count": 4,
   "metadata": {},
   "outputs": [
    {
     "name": "stdout",
     "output_type": "stream",
     "text": [
      "   2022-07-17 06:22:18, e2e simulation using 56 cores\n",
      "   2022-07-17 06:22:23, completed in 4.66 seconds\n",
      "ELT peak = 0.0118\n",
      "   2022-07-17 06:22:26, e2e simulation using 56 cores\n",
      "   2022-07-17 06:22:32, completed in 6.01 seconds\n",
      "   2022-07-17 06:22:35, e2e simulation using 56 cores\n",
      "   2022-07-17 06:22:45, completed in 10.78 seconds\n",
      "mode = RAVC, leakage = 2.36e-02\n",
      "   2022-07-17 06:22:47, e2e simulation using 56 cores\n",
      "   2022-07-17 06:22:53, completed in 5.47 seconds\n",
      "   2022-07-17 06:22:55, e2e simulation using 56 cores\n",
      "   2022-07-17 06:23:00, completed in 4.97 seconds\n",
      "   2022-07-17 06:23:02, e2e simulation using 56 cores\n",
      "   2022-07-17 06:23:12, completed in 9.7 seconds\n",
      "mode = CVC, leakage = 4.71e-02\n",
      "   2022-07-17 06:23:14, e2e simulation using 56 cores\n",
      "   2022-07-17 06:23:25, completed in 10.51 seconds\n"
     ]
    }
   ],
   "source": [
    "conf = dict(\n",
    "    dir_output = 'instant_psf/scao_only',\n",
    "    nframes_avg = 1,\n",
    "    add_phase = True,\n",
    ")\n",
    "get_psfs(conf)"
   ]
  },
  {
   "cell_type": "markdown",
   "metadata": {},
   "source": [
    "### long exposure"
   ]
  },
  {
   "cell_type": "code",
   "execution_count": 5,
   "metadata": {},
   "outputs": [
    {
     "name": "stdout",
     "output_type": "stream",
     "text": [
      "   2022-07-17 06:23:27, e2e simulation using 56 cores\n",
      "   2022-07-17 06:23:57, completed in 30.04 seconds\n",
      "ELT peak = 0.0118\n",
      "   2022-07-17 06:24:01, e2e simulation using 56 cores\n",
      "   2022-07-17 06:25:03, completed in 62.19 seconds\n",
      "   2022-07-17 06:25:07, e2e simulation using 56 cores\n",
      "   2022-07-17 06:26:13, completed in 66.21 seconds\n",
      "mode = RAVC, leakage = 2.43e-02\n",
      "   2022-07-17 06:26:16, e2e simulation using 56 cores\n",
      "   2022-07-17 06:27:08, completed in 52.65 seconds\n",
      "   2022-07-17 06:27:13, e2e simulation using 56 cores\n",
      "   2022-07-17 06:28:10, completed in 56.72 seconds\n",
      "   2022-07-17 06:28:13, e2e simulation using 56 cores\n",
      "   2022-07-17 06:29:16, completed in 62.93 seconds\n",
      "mode = CVC, leakage = 4.74e-02\n",
      "   2022-07-17 06:29:20, e2e simulation using 56 cores\n",
      "   2022-07-17 06:30:23, completed in 63.1 seconds\n"
     ]
    }
   ],
   "source": [
    "conf = dict(\n",
    "    dir_output = 'instant_psf/long_exp',\n",
    "    nframes_avg = 100,\n",
    "    add_phase = True,\n",
    ")\n",
    "get_psfs(conf)"
   ]
  },
  {
   "cell_type": "code",
   "execution_count": 7,
   "metadata": {},
   "outputs": [
    {
     "name": "stdout",
     "output_type": "stream",
     "text": [
      "   2022-07-17 06:37:21, e2e simulation using 56 cores\n",
      "   2022-07-17 06:37:55, completed in 33.07 seconds\n",
      "ELT peak = 0.0114\n",
      "   2022-07-17 06:38:05, e2e simulation using 56 cores\n",
      "   2022-07-17 06:39:01, completed in 56.46 seconds\n",
      "   2022-07-17 06:39:13, e2e simulation using 56 cores\n",
      "   2022-07-17 06:40:23, completed in 70.47 seconds\n",
      "mode = RAVC, leakage = 3.54e-02\n"
     ]
    }
   ],
   "source": [
    "conf = dict(\n",
    "    dir_output = 'instant_psf/long_exp_AE',\n",
    "    nframes_avg = 100,\n",
    "    f_pupil = 'pupil/ELT_fullM1_refl_0.02rms.fits',\n",
    "    add_phase = True,\n",
    "    add_apo_drift = True,\n",
    "    add_amp = True,\n",
    "    add_cl_vort = True,\n",
    ")\n",
    "get_psfs(conf, case='all_ncpa', modes=['RAVC'])"
   ]
  },
  {
   "cell_type": "code",
   "execution_count": 8,
   "metadata": {},
   "outputs": [
    {
     "name": "stdout",
     "output_type": "stream",
     "text": [
      "   2022-07-17 06:40:35, e2e simulation using 56 cores\n",
      "   2022-07-17 06:41:07, completed in 32.02 seconds\n",
      "ELT peak = 0.0113\n",
      "   2022-07-17 06:41:18, e2e simulation using 56 cores\n",
      "   2022-07-17 06:42:16, completed in 58.01 seconds\n",
      "   2022-07-17 06:42:27, e2e simulation using 56 cores\n",
      "   2022-07-17 06:43:47, completed in 79.56 seconds\n",
      "mode = RAVC, leakage = 4.81e-02\n"
     ]
    }
   ],
   "source": [
    "conf = dict(\n",
    "    dir_output = 'instant_psf/long_exp_AE_misseg',\n",
    "    nframes_avg = 100,\n",
    "    f_pupil = 'pupil/ELT_fullM1_refl_0.02rms_misseg_1x7.fits',\n",
    "    add_phase = True,\n",
    "    add_apo_drift = True,\n",
    "    add_amp = True,\n",
    "    add_cl_vort = True,\n",
    ")\n",
    "get_psfs(conf, case='all_ncpa', modes=['RAVC'])"
   ]
  }
 ],
 "metadata": {
  "kernelspec": {
   "display_name": "Python 3",
   "language": "python",
   "name": "python3"
  },
  "language_info": {
   "codemirror_mode": {
    "name": "ipython",
    "version": 3
   },
   "file_extension": ".py",
   "mimetype": "text/x-python",
   "name": "python",
   "nbconvert_exporter": "python",
   "pygments_lexer": "ipython3",
   "version": "3.7.6"
  },
  "vscode": {
   "interpreter": {
    "hash": "cd78fef2128015050713e82ca51c6520b11aee7c9ee8df750520bbbc7384cbaa"
   }
  }
 },
 "nbformat": 4,
 "nbformat_minor": 4
}

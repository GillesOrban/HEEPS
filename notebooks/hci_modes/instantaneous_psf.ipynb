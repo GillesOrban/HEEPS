{
 "cells": [
  {
   "cell_type": "code",
   "execution_count": 1,
   "metadata": {},
   "outputs": [],
   "source": [
    "import heeps\n",
    "import numpy as np\n",
    "from astropy.io import fits"
   ]
  },
  {
   "cell_type": "code",
   "execution_count": 2,
   "metadata": {},
   "outputs": [],
   "source": [
    "def get_psfs(conf, case='scao_only', modes=['RAVC', 'APPIMG', 'CVC', 'CLC']):\n",
    "    conf.update(\n",
    "        mode = 'ELT',\n",
    "        f_phase = 'wavefront/cfull/cube_Cfull_20220512_3600s_300ms_0piston_meters_%s'%case + '_L_285.fits',\n",
    "        apo_drift = 0.02, # (% ptv)\n",
    "        f_amp = 'wavefront/talbot/DynamicV08/Talbot_LM_20220223' + '_%s.fits'\n",
    "            %('_rep_1_field_50' if 'static' in case else 'rep_1_-0h30'),# else rep),\n",
    "        vc_chrom_leak = 2e-3,\n",
    "        avg = True,\n",
    "        hfov = 1.065,\n",
    "        ngrid = 2048,\n",
    "    )\n",
    "    conf = heeps.config.read_config(**conf)\n",
    "    conf['band_specs']['L']['pscale'] = 5.47/2\n",
    "    conf = heeps.config.update_config(**conf)\n",
    "    wf = heeps.pupil.pupil(**conf)\n",
    "    psf = heeps.wavefront.propagate(wf, **conf)\n",
    "    elt_peak = np.max(psf)\n",
    "    print('ELT peak = %.4f'%elt_peak)\n",
    "    psf /= elt_peak\n",
    "    fits.writeto(conf['dir_output'] + 'onaxis_PSF_L_ELT.fits', psf, overwrite=True)\n",
    "    \n",
    "    verbose = False\n",
    "    for conf['mode'] in modes:\n",
    "        if 'RAVC' in conf['mode']:\n",
    "            conf.update(ls_dRext=0.0477, ls_dRint=0.04, ls_dRspi=0.0249)\n",
    "        elif 'CVC' in conf['mode']:\n",
    "            conf.update(ls_dRext=0.0209, ls_dRint=0.09, ls_dRspi=0.0245)\n",
    "        elif 'CLC' in conf['mode']:\n",
    "            conf.update(ls_dRext=0.1095, ls_dRint=0.0491, ls_dRspi=0.0317)\n",
    "        conf = heeps.config.update_config(**conf, verbose=verbose)\n",
    "        wf = heeps.pupil.pupil(**conf)\n",
    "        if 'VC' in conf['mode']:\n",
    "            psf_OFF = heeps.wavefront.propagate(wf, onaxis=False, **conf)\n",
    "            psf_ON = heeps.wavefront.propagate(wf, onaxis=True, **conf)\n",
    "            print('mode = %s, leakage = %.2e'%(conf['mode'], np.sum(psf_ON)/np.sum(psf_OFF)))\n",
    "        else:\n",
    "            psf_ON = heeps.wavefront.propagate(wf, onaxis=True, **conf)\n",
    "        psf_ON /= elt_peak\n",
    "        fits.writeto(conf['dir_output'] + 'onaxis_PSF_L_%s.fits'%conf['mode'], psf_ON, overwrite=True)"
   ]
  },
  {
   "cell_type": "markdown",
   "metadata": {},
   "source": [
    "### ideal"
   ]
  },
  {
   "cell_type": "code",
   "execution_count": 3,
   "metadata": {},
   "outputs": [
    {
     "name": "stdout",
     "output_type": "stream",
     "text": [
      "   2022-07-22 19:01:38, e2e simulation using 56 cores\n",
      "   2022-07-22 19:01:42, completed in 4.02 seconds\n",
      "ELT peak = 0.0122\n",
      "   2022-07-22 19:01:44, e2e simulation using 56 cores\n",
      "   2022-07-22 19:01:49, completed in 4.76 seconds\n",
      "   2022-07-22 19:01:50, e2e simulation using 56 cores\n",
      "   2022-07-22 19:02:01, completed in 10.64 seconds\n",
      "mode = RAVC, leakage = 2.15e-03\n",
      "   2022-07-22 19:02:01, e2e simulation using 56 cores\n",
      "   2022-07-22 19:02:06, completed in 4.71 seconds\n",
      "   2022-07-22 19:02:08, e2e simulation using 56 cores\n",
      "   2022-07-22 19:02:13, completed in 5.08 seconds\n",
      "   2022-07-22 19:02:15, e2e simulation using 56 cores\n",
      "   2022-07-22 19:02:25, completed in 9.93 seconds\n",
      "mode = CVC, leakage = 2.59e-02\n",
      "   2022-07-22 19:02:26, e2e simulation using 56 cores\n",
      "   2022-07-22 19:02:36, completed in 10.28 seconds\n"
     ]
    }
   ],
   "source": [
    "conf = dict(\n",
    "    dir_output = 'output_files/instant_psf/ideal',\n",
    "    nframes_avg = 1,\n",
    "    add_phase = False,\n",
    ")\n",
    "get_psfs(conf)"
   ]
  },
  {
   "cell_type": "markdown",
   "metadata": {},
   "source": [
    "### scao only"
   ]
  },
  {
   "cell_type": "code",
   "execution_count": 4,
   "metadata": {},
   "outputs": [
    {
     "name": "stdout",
     "output_type": "stream",
     "text": [
      "   2022-07-22 19:02:37, e2e simulation using 56 cores\n",
      "   2022-07-22 19:02:42, completed in 4.46 seconds\n",
      "ELT peak = 0.0118\n",
      "   2022-07-22 19:02:45, e2e simulation using 56 cores\n",
      "   2022-07-22 19:02:50, completed in 5.28 seconds\n",
      "   2022-07-22 19:02:52, e2e simulation using 56 cores\n",
      "   2022-07-22 19:03:02, completed in 9.59 seconds\n",
      "mode = RAVC, leakage = 2.36e-02\n",
      "   2022-07-22 19:03:03, e2e simulation using 56 cores\n",
      "   2022-07-22 19:03:08, completed in 4.66 seconds\n",
      "   2022-07-22 19:03:10, e2e simulation using 56 cores\n",
      "   2022-07-22 19:03:16, completed in 5.35 seconds\n",
      "   2022-07-22 19:03:18, e2e simulation using 56 cores\n",
      "   2022-07-22 19:03:28, completed in 10.51 seconds\n",
      "mode = CVC, leakage = 4.71e-02\n",
      "   2022-07-22 19:03:31, e2e simulation using 56 cores\n",
      "   2022-07-22 19:03:40, completed in 9.58 seconds\n"
     ]
    }
   ],
   "source": [
    "conf = dict(\n",
    "    dir_output = 'output_files/instant_psf/scao_only',\n",
    "    nframes_avg = 1,\n",
    "    add_phase = True,\n",
    ")\n",
    "get_psfs(conf)"
   ]
  },
  {
   "cell_type": "markdown",
   "metadata": {},
   "source": [
    "### long exposure"
   ]
  },
  {
   "cell_type": "code",
   "execution_count": 5,
   "metadata": {},
   "outputs": [
    {
     "name": "stdout",
     "output_type": "stream",
     "text": [
      "   2022-07-22 19:03:41, e2e simulation using 56 cores\n",
      "   2022-07-22 19:04:10, completed in 28.5 seconds\n",
      "ELT peak = 0.0118\n",
      "   2022-07-22 19:04:13, e2e simulation using 56 cores\n",
      "   2022-07-22 19:05:11, completed in 58.06 seconds\n",
      "   2022-07-22 19:05:15, e2e simulation using 56 cores\n",
      "   2022-07-22 19:06:26, completed in 70.6 seconds\n",
      "mode = RAVC, leakage = 2.43e-02\n",
      "   2022-07-22 19:06:28, e2e simulation using 56 cores\n",
      "   2022-07-22 19:07:21, completed in 52.92 seconds\n",
      "   2022-07-22 19:07:25, e2e simulation using 56 cores\n",
      "   2022-07-22 19:08:15, completed in 49.95 seconds\n",
      "   2022-07-22 19:08:19, e2e simulation using 56 cores\n",
      "   2022-07-22 19:09:30, completed in 70.59 seconds\n",
      "mode = CVC, leakage = 4.74e-02\n",
      "   2022-07-22 19:09:34, e2e simulation using 56 cores\n",
      "   2022-07-22 19:10:41, completed in 67.45 seconds\n"
     ]
    }
   ],
   "source": [
    "conf = dict(\n",
    "    dir_output = 'output_files/instant_psf/long_exp',\n",
    "    nframes_avg = 100,\n",
    "    add_phase = True,\n",
    ")\n",
    "get_psfs(conf)"
   ]
  },
  {
   "cell_type": "code",
   "execution_count": 6,
   "metadata": {},
   "outputs": [
    {
     "name": "stdout",
     "output_type": "stream",
     "text": [
      "   2022-07-22 19:10:49, e2e simulation using 56 cores\n",
      "   2022-07-22 19:11:18, completed in 28.67 seconds\n",
      "ELT peak = 0.0114\n",
      "   2022-07-22 19:11:28, e2e simulation using 56 cores\n",
      "   2022-07-22 19:12:18, completed in 50.34 seconds\n",
      "   2022-07-22 19:12:27, e2e simulation using 56 cores\n",
      "   2022-07-22 19:13:33, completed in 65.99 seconds\n",
      "mode = RAVC, leakage = 3.54e-02\n"
     ]
    }
   ],
   "source": [
    "conf = dict(\n",
    "    dir_output = 'output_files/instant_psf/long_exp_AE',\n",
    "    nframes_avg = 100,\n",
    "    f_pupil = 'pupil/ELT_fullM1_refl_0.02rms.fits',\n",
    "    add_phase = True,\n",
    "    add_apo_drift = True,\n",
    "    add_amp = True,\n",
    "    add_cl_vort = True,\n",
    ")\n",
    "get_psfs(conf, case='all_ncpa', modes=['RAVC'])"
   ]
  },
  {
   "cell_type": "code",
   "execution_count": 7,
   "metadata": {},
   "outputs": [
    {
     "name": "stdout",
     "output_type": "stream",
     "text": [
      "   2022-07-22 19:13:41, e2e simulation using 56 cores\n",
      "   2022-07-22 19:14:09, completed in 27.97 seconds\n",
      "ELT peak = 0.0113\n",
      "   2022-07-22 19:14:19, e2e simulation using 56 cores\n",
      "   2022-07-22 19:15:09, completed in 50.95 seconds\n",
      "   2022-07-22 19:15:19, e2e simulation using 56 cores\n",
      "   2022-07-22 19:16:29, completed in 69.65 seconds\n",
      "mode = RAVC, leakage = 4.81e-02\n"
     ]
    }
   ],
   "source": [
    "conf = dict(\n",
    "    dir_output = 'output_files/instant_psf/long_exp_AE_misseg',\n",
    "    nframes_avg = 100,\n",
    "    f_pupil = 'pupil/ELT_fullM1_refl_0.02rms_misseg_1x7.fits',\n",
    "    add_phase = True,\n",
    "    add_apo_drift = True,\n",
    "    add_amp = True,\n",
    "    add_cl_vort = True,\n",
    ")\n",
    "get_psfs(conf, case='all_ncpa', modes=['RAVC'])"
   ]
  }
 ],
 "metadata": {
  "kernelspec": {
   "display_name": "Python 3",
   "language": "python",
   "name": "python3"
  },
  "language_info": {
   "codemirror_mode": {
    "name": "ipython",
    "version": 3
   },
   "file_extension": ".py",
   "mimetype": "text/x-python",
   "name": "python",
   "nbconvert_exporter": "python",
   "pygments_lexer": "ipython3",
   "version": "3.7.6"
  },
  "vscode": {
   "interpreter": {
    "hash": "cd78fef2128015050713e82ca51c6520b11aee7c9ee8df750520bbbc7384cbaa"
   }
  }
 },
 "nbformat": 4,
 "nbformat_minor": 4
}

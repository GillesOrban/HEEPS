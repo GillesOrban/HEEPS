{
 "cells": [
  {
   "cell_type": "code",
   "execution_count": 1,
   "metadata": {},
   "outputs": [],
   "source": [
    "import heeps\n",
    "import numpy as np\n",
    "from astropy.io import fits"
   ]
  },
  {
   "cell_type": "markdown",
   "metadata": {},
   "source": [
    "### ideal"
   ]
  },
  {
   "cell_type": "code",
   "execution_count": 2,
   "metadata": {},
   "outputs": [
    {
     "name": "stdout",
     "output_type": "stream",
     "text": [
      "   2022-06-29 15:28:48, e2e simulation using 12 cores\n",
      "   2022-06-29 15:28:51, completed in 3.18 seconds\n",
      "peak = 0.0122\n"
     ]
    }
   ],
   "source": [
    "conf = dict(\n",
    "    mode = 'ELT',\n",
    "    dir_output = 'instant_psf/ideal',\n",
    "    add_phase = False,\n",
    "#    f_phase = 'wavefront/cfull/cube_Cfull_20220512_3600s_300ms_0piston_meters_scao_only_L_285.fits',\n",
    "    nframes = 1,\n",
    "    hfov = 1.065,\n",
    "    ngrid = 2048,\n",
    ")\n",
    "conf = heeps.config.read_config(**conf)\n",
    "conf['band_specs']['L']['pscale'] = 5.47/2\n",
    "conf = heeps.config.update_config(**conf)\n",
    "wf = heeps.pupil.pupil(**conf)\n",
    "psf = heeps.wavefront.propagate(wf, **conf)[0]\n",
    "peak = np.max(psf)\n",
    "print('peak = %.4f'%peak)\n",
    "psf /= peak\n",
    "fits.writeto(conf['dir_output'] + 'onaxis_PSF_L_ELT.fits', psf, overwrite=True)"
   ]
  },
  {
   "cell_type": "code",
   "execution_count": 3,
   "metadata": {},
   "outputs": [
    {
     "name": "stdout",
     "output_type": "stream",
     "text": [
      "   2022-06-29 15:28:54, e2e simulation using 12 cores\n",
      "   2022-06-29 15:29:04, completed in 10.4 seconds\n",
      "   2022-06-29 15:29:05, e2e simulation using 12 cores\n",
      "   2022-06-29 15:29:11, completed in 6.19 seconds\n",
      "   2022-06-29 15:29:14, e2e simulation using 12 cores\n",
      "   2022-06-29 15:29:26, completed in 12.69 seconds\n",
      "   2022-06-29 15:29:29, e2e simulation using 12 cores\n",
      "   2022-06-29 15:29:45, completed in 16.06 seconds\n"
     ]
    }
   ],
   "source": [
    "verbose = False\n",
    "for conf['mode'] in ['RAVC', 'APPIMG', 'CVC', 'CLC']:\n",
    "    if 'RAVC' in conf['mode']:\n",
    "        conf.update(ls_dRext=0.0477, ls_dRint=0.04, ls_dRspi=0.0249)\n",
    "    elif 'CVC' in conf['mode']:\n",
    "        conf.update(ls_dRext=0.0209, ls_dRint=0.09, ls_dRspi=0.0245)\n",
    "    elif 'CLC' in conf['mode']:\n",
    "        conf.update(ls_dRext=0.1095, ls_dRint=0.0491, ls_dRspi=0.0317)\n",
    "    conf = heeps.config.update_config(**conf, verbose=verbose)\n",
    "    wf = heeps.pupil.pupil(**conf)\n",
    "    psf = heeps.wavefront.propagate(wf, verbose=verbose,  **conf)[0]\n",
    "    psf /= peak\n",
    "    fits.writeto(conf['dir_output'] + 'onaxis_PSF_L_%s.fits'%conf['mode'], psf, overwrite=True)"
   ]
  },
  {
   "cell_type": "markdown",
   "metadata": {},
   "source": [
    "### scao only"
   ]
  },
  {
   "cell_type": "code",
   "execution_count": 4,
   "metadata": {},
   "outputs": [
    {
     "name": "stdout",
     "output_type": "stream",
     "text": [
      "   2022-06-29 15:29:46, e2e simulation using 12 cores\n",
      "   2022-06-29 15:29:51, completed in 5.08 seconds\n",
      "peak = 0.0120\n"
     ]
    }
   ],
   "source": [
    "conf = dict(\n",
    "    mode = 'ELT',\n",
    "    dir_output = 'instant_psf/scao_only',\n",
    "    add_phase = True,\n",
    "    nframes = 1,\n",
    "    hfov = 1.065,\n",
    "    ngrid = 2048,\n",
    ")\n",
    "conf = heeps.config.read_config(**conf)\n",
    "conf['band_specs']['L']['pscale'] = 5.47/2\n",
    "conf = heeps.config.update_config(**conf)\n",
    "wf = heeps.pupil.pupil(**conf)\n",
    "psf = heeps.wavefront.propagate(wf, **conf)[0]\n",
    "peak = np.max(psf)\n",
    "print('peak = %.4f'%peak)\n",
    "psf /= peak\n",
    "fits.writeto(conf['dir_output'] + 'onaxis_PSF_L_ELT.fits', psf, overwrite=True)"
   ]
  },
  {
   "cell_type": "code",
   "execution_count": 5,
   "metadata": {},
   "outputs": [
    {
     "name": "stdout",
     "output_type": "stream",
     "text": [
      "   2022-06-29 15:29:56, e2e simulation using 12 cores\n",
      "   2022-06-29 15:30:15, completed in 18.75 seconds\n",
      "   2022-06-29 15:30:16, e2e simulation using 12 cores\n",
      "   2022-06-29 15:30:24, completed in 8.28 seconds\n",
      "   2022-06-29 15:30:27, e2e simulation using 12 cores\n",
      "   2022-06-29 15:30:45, completed in 17.3 seconds\n",
      "   2022-06-29 15:30:48, e2e simulation using 12 cores\n",
      "   2022-06-29 15:31:10, completed in 21.72 seconds\n"
     ]
    }
   ],
   "source": [
    "verbose = False\n",
    "for conf['mode'] in ['RAVC', 'APPIMG', 'CVC', 'CLC']:\n",
    "    if 'RAVC' in conf['mode']:\n",
    "        conf.update(ls_dRext=0.0477, ls_dRint=0.04, ls_dRspi=0.0249)\n",
    "    elif 'CVC' in conf['mode']:\n",
    "        conf.update(ls_dRext=0.0209, ls_dRint=0.09, ls_dRspi=0.0245)\n",
    "    elif 'CLC' in conf['mode']:\n",
    "        conf.update(ls_dRext=0.1095, ls_dRint=0.0491, ls_dRspi=0.0317)\n",
    "    conf = heeps.config.update_config(**conf, verbose=verbose)\n",
    "    wf = heeps.pupil.pupil(**conf)\n",
    "    psf = heeps.wavefront.propagate(wf, verbose=verbose,  **conf)[0]\n",
    "    psf /= peak\n",
    "    fits.writeto(conf['dir_output'] + 'onaxis_PSF_L_%s.fits'%conf['mode'], psf, overwrite=True)"
   ]
  }
 ],
 "metadata": {
  "kernelspec": {
   "display_name": "Python 3.7.0 ('base')",
   "language": "python",
   "name": "python3"
  },
  "language_info": {
   "codemirror_mode": {
    "name": "ipython",
    "version": 3
   },
   "file_extension": ".py",
   "mimetype": "text/x-python",
   "name": "python",
   "nbconvert_exporter": "python",
   "pygments_lexer": "ipython3",
   "version": "3.7.0"
  },
  "orig_nbformat": 4,
  "vscode": {
   "interpreter": {
    "hash": "cd78fef2128015050713e82ca51c6520b11aee7c9ee8df750520bbbc7384cbaa"
   }
  }
 },
 "nbformat": 4,
 "nbformat_minor": 2
}

{
 "cells": [
  {
   "cell_type": "code",
   "execution_count": 1,
   "metadata": {},
   "outputs": [],
   "source": [
    "import heeps\n",
    "import numpy as np\n",
    "from astropy.io import fits"
   ]
  },
  {
   "cell_type": "code",
   "execution_count": 2,
   "metadata": {},
   "outputs": [],
   "source": [
    "def get_psfs(conf):\n",
    "    conf.update(\n",
    "        mode = 'ELT',\n",
    "        f_phase = 'wavefront/cfull/cube_Cfull_20220512_3600s_300ms_0piston_meters_scao_only_L_285.fits',\n",
    "        avg = True,\n",
    "        hfov = 1.065,\n",
    "        ngrid = 2048,\n",
    "    )\n",
    "    conf = heeps.config.read_config(**conf)\n",
    "    conf['band_specs']['L']['pscale'] = 5.47/2\n",
    "    conf = heeps.config.update_config(**conf)\n",
    "    wf = heeps.pupil.pupil(**conf)\n",
    "    psf = heeps.wavefront.propagate(wf, **conf)\n",
    "    elt_peak = np.max(psf)\n",
    "    print('ELT peak = %.4f'%elt_peak)\n",
    "    psf /= elt_peak\n",
    "    fits.writeto(conf['dir_output'] + 'onaxis_PSF_L_ELT.fits', psf, overwrite=True)\n",
    "    \n",
    "    verbose = False\n",
    "    for conf['mode'] in ['RAVC', 'APPIMG', 'CVC', 'CLC']:\n",
    "        if 'RAVC' in conf['mode']:\n",
    "            conf.update(ls_dRext=0.0477, ls_dRint=0.04, ls_dRspi=0.0249)\n",
    "        elif 'CVC' in conf['mode']:\n",
    "            conf.update(ls_dRext=0.0209, ls_dRint=0.09, ls_dRspi=0.0245)\n",
    "        elif 'CLC' in conf['mode']:\n",
    "            conf.update(ls_dRext=0.1095, ls_dRint=0.0491, ls_dRspi=0.0317)\n",
    "        conf = heeps.config.update_config(**conf, verbose=verbose)\n",
    "        wf = heeps.pupil.pupil(**conf)\n",
    "        if 'VC' in conf['mode']:\n",
    "            psf_OFF = heeps.wavefront.propagate(wf, onaxis=False, **conf)\n",
    "            psf_ON = heeps.wavefront.propagate(wf, onaxis=True, **conf)\n",
    "            print('mode = %s, leakage = %.2e'%(conf['mode'], np.sum(psf_ON)/np.sum(psf_OFF)))\n",
    "        else:\n",
    "            psf_ON = heeps.wavefront.propagate(wf, onaxis=True, **conf)\n",
    "        psf_ON /= elt_peak\n",
    "        fits.writeto(conf['dir_output'] + 'onaxis_PSF_L_%s.fits'%conf['mode'], psf_ON, overwrite=True)"
   ]
  },
  {
   "cell_type": "markdown",
   "metadata": {},
   "source": [
    "### ideal"
   ]
  },
  {
   "cell_type": "code",
   "execution_count": 3,
   "metadata": {},
   "outputs": [
    {
     "name": "stdout",
     "output_type": "stream",
     "text": [
      "   2022-06-29 16:53:45, e2e simulation using 56 cores\n",
      "   2022-06-29 16:53:50, completed in 4.84 seconds\n",
      "ELT peak = 0.0122\n",
      "   2022-06-29 16:53:52, e2e simulation using 56 cores\n",
      "   2022-06-29 16:53:58, completed in 6.06 seconds\n",
      "   2022-06-29 16:53:59, e2e simulation using 56 cores\n",
      "   2022-06-29 16:54:10, completed in 10.67 seconds\n",
      "mode = RAVC, leakage = 2.15e-03\n",
      "   2022-06-29 16:54:11, e2e simulation using 56 cores\n",
      "   2022-06-29 16:54:16, completed in 4.96 seconds\n",
      "   2022-06-29 16:54:18, e2e simulation using 56 cores\n",
      "   2022-06-29 16:54:23, completed in 4.73 seconds\n",
      "   2022-06-29 16:54:24, e2e simulation using 56 cores\n",
      "   2022-06-29 16:54:35, completed in 10.64 seconds\n",
      "mode = CVC, leakage = 2.59e-02\n",
      "   2022-06-29 16:54:37, e2e simulation using 56 cores\n",
      "   2022-06-29 16:54:46, completed in 9.93 seconds\n"
     ]
    }
   ],
   "source": [
    "conf = dict(\n",
    "    dir_output = 'instant_psf/ideal',\n",
    "    nframes_avg = 1,\n",
    "    add_phase = False,\n",
    ")\n",
    "get_psfs(conf)"
   ]
  },
  {
   "cell_type": "markdown",
   "metadata": {},
   "source": [
    "### scao only"
   ]
  },
  {
   "cell_type": "code",
   "execution_count": 4,
   "metadata": {},
   "outputs": [
    {
     "name": "stdout",
     "output_type": "stream",
     "text": [
      "   2022-06-29 16:54:48, e2e simulation using 56 cores\n",
      "   2022-06-29 16:54:52, completed in 4.26 seconds\n",
      "ELT peak = 0.0118\n",
      "   2022-06-29 16:54:55, e2e simulation using 56 cores\n",
      "   2022-06-29 16:55:00, completed in 5.31 seconds\n",
      "   2022-06-29 16:55:03, e2e simulation using 56 cores\n",
      "   2022-06-29 16:55:13, completed in 10.21 seconds\n",
      "mode = RAVC, leakage = 2.36e-02\n",
      "   2022-06-29 16:55:15, e2e simulation using 56 cores\n",
      "   2022-06-29 16:55:19, completed in 4.71 seconds\n",
      "   2022-06-29 16:55:22, e2e simulation using 56 cores\n",
      "   2022-06-29 16:55:27, completed in 4.63 seconds\n",
      "   2022-06-29 16:55:29, e2e simulation using 56 cores\n",
      "   2022-06-29 16:55:41, completed in 11.36 seconds\n",
      "mode = CVC, leakage = 4.71e-02\n",
      "   2022-06-29 16:55:43, e2e simulation using 56 cores\n",
      "   2022-06-29 16:55:53, completed in 10.19 seconds\n"
     ]
    }
   ],
   "source": [
    "conf = dict(\n",
    "    dir_output = 'instant_psf/scao_only',\n",
    "    nframes_avg = 1,\n",
    "    add_phase = True,\n",
    ")\n",
    "get_psfs(conf)"
   ]
  },
  {
   "cell_type": "markdown",
   "metadata": {},
   "source": [
    "### long exposure"
   ]
  },
  {
   "cell_type": "code",
   "execution_count": 5,
   "metadata": {},
   "outputs": [
    {
     "name": "stdout",
     "output_type": "stream",
     "text": [
      "   2022-06-29 16:55:55, e2e simulation using 56 cores\n",
      "   2022-06-29 16:56:26, completed in 31.39 seconds\n",
      "ELT peak = 0.0118\n",
      "   2022-06-29 16:56:30, e2e simulation using 56 cores\n",
      "   2022-06-29 16:57:31, completed in 61.29 seconds\n",
      "   2022-06-29 16:57:36, e2e simulation using 56 cores\n",
      "   2022-06-29 16:58:56, completed in 80.27 seconds\n",
      "mode = RAVC, leakage = 2.43e-02\n",
      "   2022-06-29 16:58:59, e2e simulation using 56 cores\n",
      "   2022-06-29 16:59:59, completed in 59.27 seconds\n",
      "   2022-06-29 17:00:03, e2e simulation using 56 cores\n",
      "   2022-06-29 17:01:03, completed in 60.43 seconds\n",
      "   2022-06-29 17:01:08, e2e simulation using 56 cores\n",
      "   2022-06-29 17:02:32, completed in 84.9 seconds\n",
      "mode = CVC, leakage = 4.74e-02\n",
      "   2022-06-29 17:02:37, e2e simulation using 56 cores\n",
      "   2022-06-29 17:03:58, completed in 81.11 seconds\n"
     ]
    }
   ],
   "source": [
    "conf = dict(\n",
    "    dir_output = 'instant_psf/long_exp',\n",
    "    nframes_avg = 100,\n",
    "    add_phase = True,\n",
    ")\n",
    "get_psfs(conf)"
   ]
  }
 ],
 "metadata": {
  "kernelspec": {
   "display_name": "Python 3",
   "language": "python",
   "name": "python3"
  },
  "language_info": {
   "codemirror_mode": {
    "name": "ipython",
    "version": 3
   },
   "file_extension": ".py",
   "mimetype": "text/x-python",
   "name": "python",
   "nbconvert_exporter": "python",
   "pygments_lexer": "ipython3",
   "version": "3.7.6"
  },
  "vscode": {
   "interpreter": {
    "hash": "cd78fef2128015050713e82ca51c6520b11aee7c9ee8df750520bbbc7384cbaa"
   }
  }
 },
 "nbformat": 4,
 "nbformat_minor": 4
}

{
 "cells": [
  {
   "cell_type": "code",
   "execution_count": 1,
   "metadata": {},
   "outputs": [],
   "source": [
    "import heeps\n",
    "from heeps.wavefront.get_array import get_wf\n",
    "from heeps.util.psf_template import psf_template\n",
    "from heeps.util.lamD import get_lamD_mas\n",
    "import numpy as np\n",
    "from astropy.io import fits"
   ]
  },
  {
   "cell_type": "code",
   "execution_count": 2,
   "metadata": {},
   "outputs": [],
   "source": [
    "def get_band_mode(case):\n",
    "    band_mode = {'ELT-L' :  ('L', 'ELT'),\n",
    "                 'ELT-N' :  ('N2', 'ELT'),\n",
    "                 'APP-LM' : ('L', 'APP'),\n",
    "                 'RLS-LM' : ('L', 'RAVC'),\n",
    "                 'CLS-LM' : ('L', 'CVC'),\n",
    "                 'ULS-LM' : ('L', 'CLC'),\n",
    "                 'CLS-N'  : ('N2', 'CVC'),\n",
    "                 'ULS-N'  : ('N2', 'CLC'),\n",
    "                 'APP-LMS': ('L', 'APP'),\n",
    "                 'RLS-LMS': ('L', 'RAVC'),\n",
    "                 'CLS-LMS': ('L', 'CVC'),\n",
    "                 'ULS-LMS': ('L', 'CLC')}\n",
    "    return band_mode[case]\n",
    "\n",
    "def get_margins(case):\n",
    "    ls_dR = {'ELT-L' :  (0, 0, 0),# no stop at all\n",
    "             'ELT-N' :  (0, 0, 0),# no stop at all\n",
    "             'APP-LM' : (2.09, 2.09, 2.91),# load fits file\n",
    "             'RLS-LM' : (4.77, 4.00, 2.49),\n",
    "             'CLS-LM' : (2.09, 9.00, 2.45),\n",
    "             'ULS-LM' : (10.95, 4.91, 3.17),\n",
    "             'CLS-N'  : (2.68, 9.00, 3.57),\n",
    "             'ULS-N'  : (10.45, 5.11, 3.83),\n",
    "             'APP-LMS': (2.41, 2.41, 3.08),# load fits file\n",
    "             'RLS-LMS': (4.68, 4.00, 2.80),\n",
    "             'CLS-LMS': (2.18, 9.00, 2.88),\n",
    "             'ULS-LMS': (10.95, 4.91, 3.17)}\n",
    "    return np.round(np.array(ls_dR[case])/100, 4)\n",
    "\n",
    "def get_throughput(case, ap_flux_ELT=None, verbose=False):\n",
    "    band, mode = get_band_mode(case)\n",
    "    ls_dRext, ls_dRint, ls_dRspi = get_margins(case)\n",
    "    det = 'LMS' if 'LMS' in case else 'IMG'\n",
    "    f_app_amp = 'optics/app/METIS_%s_L_amp.fits'%det\n",
    "    conf = dict(band=band, mode=mode, nframes=1, add_phase=False, f_app_amp=f_app_amp,\n",
    "                ls_dRext=ls_dRext, ls_dRint=ls_dRint, ls_dRspi=ls_dRspi)\n",
    "    conf = heeps.config.read_config(**conf)\n",
    "    conf = heeps.config.update_config(**conf, verbose=verbose)\n",
    "    wf = heeps.pupil.pupil(**conf)\n",
    "    wf = heeps.optics.apodizer(wf, onaxis=False, **conf, verbose=verbose)\n",
    "    wf = heeps.optics.lyot_stop(wf, **conf, verbose=verbose)\n",
    "    pupil_throughtput = np.sum(get_wf(wf, 'amp')**2)\n",
    "    print('pupil throughput (wrt ELT) = %.4f'%pupil_throughtput)\n",
    "    psf_OFF = heeps.optics.detector(wf, **conf)\n",
    "    _, fwhm, ap_flux = psf_template(psf_OFF)\n",
    "    print('fwhm = %.2fpix, ap_flux = %.4f'%(fwhm, ap_flux))\n",
    "    if 'ELT' in mode:\n",
    "        return ap_flux\n",
    "    print('FWHM throughput (wrt ELT) = %.4f'%(ap_flux/ap_flux_ELT))\n",
    "    if 'VC' in mode:\n",
    "        data = fits.getdata(conf['f_vc_trans'])\n",
    "        mask_trans = np.interp(conf['lam']*1e6, data[0], data[1])\n",
    "        print('VPM transmittance = %.4f'%mask_trans)\n",
    "        oat = fits.getdata(conf['dir_input'] + 'optics/oat_%s_%s.fits'%(band, mode))\n",
    "        npix = 5*get_lamD_mas(**conf)/conf['pscale']\n",
    "        oat5 = np.interp(npix, oat[0], oat[1])\n",
    "        print('OAT @ 5 lambda/D = %.4f'%oat5)\n",
    "    elif 'APP' in mode:\n",
    "        data = fits.getdata(conf['f_app_trans'])\n",
    "        mask_trans = np.interp(conf['lam']*1e6, data[0], data[1])\n",
    "        print('APP transmittance = %.4f'%mask_trans)\n",
    "        print('APP Strehl ratio =', conf['app_strehl'])\n",
    "        print('APP single PSF =', conf['app_single_psf'])\n",
    "        oat5 = conf['app_strehl'] * conf['app_single_psf']\n",
    "    else:\n",
    "        mask_trans = 1\n",
    "        oat5 = 1\n",
    "    TOTAL =  ap_flux/ap_flux_ELT * mask_trans * oat5\n",
    "    print('Total throughput = %.4f'%TOTAL)\n",
    "    return TOTAL"
   ]
  },
  {
   "cell_type": "markdown",
   "metadata": {},
   "source": [
    "### ELT aperture photometry"
   ]
  },
  {
   "cell_type": "code",
   "execution_count": 3,
   "metadata": {},
   "outputs": [
    {
     "name": "stdout",
     "output_type": "stream",
     "text": [
      "pupil throughput (wrt ELT) = 1.0000\n",
      "fwhm = 3.51pix, ap_flux = 0.3513\n"
     ]
    }
   ],
   "source": [
    "ap_flux_ELT_L = get_throughput('ELT-L')"
   ]
  },
  {
   "cell_type": "code",
   "execution_count": 4,
   "metadata": {},
   "outputs": [
    {
     "name": "stdout",
     "output_type": "stream",
     "text": [
      "pupil throughput (wrt ELT) = 1.0000\n",
      "fwhm = 8.52pix, ap_flux = 0.3687\n"
     ]
    }
   ],
   "source": [
    "ap_flux_ELT_N = get_throughput('ELT-N')"
   ]
  },
  {
   "cell_type": "markdown",
   "metadata": {},
   "source": [
    "# LM modes"
   ]
  },
  {
   "cell_type": "code",
   "execution_count": 5,
   "metadata": {},
   "outputs": [
    {
     "name": "stdout",
     "output_type": "stream",
     "text": [
      "pupil throughput (wrt ELT) = 0.8095\n",
      "fwhm = 3.56pix, ap_flux = 0.2356\n",
      "FWHM throughput (wrt ELT) = 0.6706\n",
      "APP transmittance = 0.7334\n",
      "APP Strehl ratio = 0.6\n",
      "APP single PSF = 0.48\n",
      "Total throughput = 0.1416\n"
     ]
    }
   ],
   "source": [
    "get_throughput('APP-LM', ap_flux_ELT_L);"
   ]
  },
  {
   "cell_type": "code",
   "execution_count": 6,
   "metadata": {},
   "outputs": [
    {
     "name": "stdout",
     "output_type": "stream",
     "text": [
      "pupil throughput (wrt ELT) = 0.3668\n",
      "fwhm = 3.30pix, ap_flux = 0.0679\n",
      "FWHM throughput (wrt ELT) = 0.1931\n",
      "VPM transmittance = 0.8532\n",
      "OAT @ 5 lambda/D = 0.8829\n",
      "Total throughput = 0.1455\n"
     ]
    }
   ],
   "source": [
    "get_throughput('RLS-LM', ap_flux_ELT_L);"
   ]
  },
  {
   "cell_type": "code",
   "execution_count": 7,
   "metadata": {},
   "outputs": [
    {
     "name": "stdout",
     "output_type": "stream",
     "text": [
      "pupil throughput (wrt ELT) = 0.7974\n",
      "fwhm = 3.48pix, ap_flux = 0.2199\n",
      "FWHM throughput (wrt ELT) = 0.6258\n",
      "VPM transmittance = 0.8532\n",
      "OAT @ 5 lambda/D = 0.8188\n",
      "Total throughput = 0.4373\n"
     ]
    }
   ],
   "source": [
    "get_throughput('CLS-LM', ap_flux_ELT_L);"
   ]
  },
  {
   "cell_type": "code",
   "execution_count": 8,
   "metadata": {},
   "outputs": [
    {
     "name": "stdout",
     "output_type": "stream",
     "text": [
      "pupil throughput (wrt ELT) = 0.6340\n",
      "fwhm = 3.85pix, ap_flux = 0.1684\n",
      "FWHM throughput (wrt ELT) = 0.4794\n",
      "Total throughput = 0.4794\n"
     ]
    }
   ],
   "source": [
    "get_throughput('ULS-LM', ap_flux_ELT_L);"
   ]
  },
  {
   "cell_type": "markdown",
   "metadata": {},
   "source": [
    "# N modes"
   ]
  },
  {
   "cell_type": "code",
   "execution_count": 9,
   "metadata": {},
   "outputs": [
    {
     "name": "stdout",
     "output_type": "stream",
     "text": [
      "pupil throughput (wrt ELT) = 0.7560\n",
      "fwhm = 8.46pix, ap_flux = 0.2090\n",
      "FWHM throughput (wrt ELT) = 0.5669\n",
      "VPM transmittance = 0.9291\n",
      "OAT @ 5 lambda/D = 0.8332\n",
      "Total throughput = 0.4388\n"
     ]
    }
   ],
   "source": [
    "get_throughput('CLS-N', ap_flux_ELT_N);"
   ]
  },
  {
   "cell_type": "code",
   "execution_count": 10,
   "metadata": {},
   "outputs": [
    {
     "name": "stdout",
     "output_type": "stream",
     "text": [
      "pupil throughput (wrt ELT) = 0.6239\n",
      "fwhm = 9.32pix, ap_flux = 0.1737\n",
      "FWHM throughput (wrt ELT) = 0.4711\n",
      "Total throughput = 0.4711\n"
     ]
    }
   ],
   "source": [
    "get_throughput('ULS-N', ap_flux_ELT_N);"
   ]
  },
  {
   "cell_type": "markdown",
   "metadata": {},
   "source": [
    "# LMS modes"
   ]
  },
  {
   "cell_type": "code",
   "execution_count": 11,
   "metadata": {},
   "outputs": [
    {
     "name": "stdout",
     "output_type": "stream",
     "text": [
      "pupil throughput (wrt ELT) = 0.8130\n",
      "fwhm = 3.57pix, ap_flux = 0.2394\n",
      "FWHM throughput (wrt ELT) = 0.6816\n",
      "APP transmittance = 0.7334\n",
      "APP Strehl ratio = 0.6\n",
      "APP single PSF = 0.48\n",
      "Total throughput = 0.1440\n"
     ]
    }
   ],
   "source": [
    "get_throughput('APP-LMS', ap_flux_ELT_L);"
   ]
  },
  {
   "cell_type": "code",
   "execution_count": 12,
   "metadata": {},
   "outputs": [
    {
     "name": "stdout",
     "output_type": "stream",
     "text": [
      "pupil throughput (wrt ELT) = 0.3643\n",
      "fwhm = 3.30pix, ap_flux = 0.0669\n",
      "FWHM throughput (wrt ELT) = 0.1903\n",
      "VPM transmittance = 0.8532\n",
      "OAT @ 5 lambda/D = 0.8828\n",
      "Total throughput = 0.1434\n"
     ]
    }
   ],
   "source": [
    "get_throughput('RLS-LMS', ap_flux_ELT_L);"
   ]
  },
  {
   "cell_type": "code",
   "execution_count": 13,
   "metadata": {},
   "outputs": [
    {
     "name": "stdout",
     "output_type": "stream",
     "text": [
      "pupil throughput (wrt ELT) = 0.7839\n",
      "fwhm = 3.48pix, ap_flux = 0.2129\n",
      "FWHM throughput (wrt ELT) = 0.6060\n",
      "VPM transmittance = 0.8532\n",
      "OAT @ 5 lambda/D = 0.8190\n",
      "Total throughput = 0.4235\n"
     ]
    }
   ],
   "source": [
    "get_throughput('CLS-LMS', ap_flux_ELT_L);"
   ]
  },
  {
   "cell_type": "code",
   "execution_count": 14,
   "metadata": {},
   "outputs": [
    {
     "name": "stdout",
     "output_type": "stream",
     "text": [
      "pupil throughput (wrt ELT) = 0.6340\n",
      "fwhm = 3.85pix, ap_flux = 0.1684\n",
      "FWHM throughput (wrt ELT) = 0.4794\n",
      "Total throughput = 0.4794\n"
     ]
    }
   ],
   "source": [
    "get_throughput('ULS-LMS', ap_flux_ELT_L); # same as ULC-LM"
   ]
  }
 ],
 "metadata": {
  "kernelspec": {
   "display_name": "Python 3.7.0 ('base')",
   "language": "python",
   "name": "python3"
  },
  "language_info": {
   "codemirror_mode": {
    "name": "ipython",
    "version": 3
   },
   "file_extension": ".py",
   "mimetype": "text/x-python",
   "name": "python",
   "nbconvert_exporter": "python",
   "pygments_lexer": "ipython3",
   "version": "3.7.0"
  },
  "orig_nbformat": 4,
  "vscode": {
   "interpreter": {
    "hash": "cd78fef2128015050713e82ca51c6520b11aee7c9ee8df750520bbbc7384cbaa"
   }
  }
 },
 "nbformat": 4,
 "nbformat_minor": 2
}

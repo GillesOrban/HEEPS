{
 "cells": [
  {
   "cell_type": "code",
   "execution_count": 1,
   "metadata": {},
   "outputs": [],
   "source": [
    "import heeps\n",
    "from heeps.util.psf_template import psf_template\n",
    "from heeps.util.lamD import get_lamD_mas\n",
    "import numpy as np\n",
    "from astropy.io import fits"
   ]
  },
  {
   "cell_type": "markdown",
   "metadata": {},
   "source": [
    "### ELT aperture photometry"
   ]
  },
  {
   "cell_type": "code",
   "execution_count": 2,
   "metadata": {},
   "outputs": [],
   "source": [
    "conf = dict(\n",
    "    band='L',\n",
    "    nframes = 1,\n",
    "    add_phase = False,\n",
    ")\n",
    "conf = heeps.config.read_config(**conf)"
   ]
  },
  {
   "cell_type": "code",
   "execution_count": 3,
   "metadata": {},
   "outputs": [
    {
     "name": "stdout",
     "output_type": "stream",
     "text": [
      "Off-axis PSF:\n",
      "‾‾‾‾‾‾‾‾‾‾‾‾‾\n",
      "Create off-axis PSF cube\n",
      "   2022-06-29 02:53:06, e2e simulation using 12 cores\n",
      "   2022-06-29 02:53:07, completed in 0.91 seconds\n",
      "\n",
      "fwhm=3.51pix, ap_flux=3.51e-01\n",
      "( total flux = 0.9970582714582522 )\n"
     ]
    }
   ],
   "source": [
    "conf.update(mode='ELT')\n",
    "conf = heeps.config.update_config(**conf)\n",
    "wf = heeps.pupil.pupil(**conf)\n",
    "psf_OFF = heeps.wavefront.propagate(wf, onaxis=False, verbose=True, **conf)[0]\n",
    "_, fwhm, ap_flux_ELT = psf_template(psf_OFF)\n",
    "print('fwhm=%.2fpix, ap_flux=%.2e'%(fwhm, ap_flux_ELT))\n",
    "print('( total flux =', np.sum(psf_OFF), ')')"
   ]
  },
  {
   "cell_type": "markdown",
   "metadata": {},
   "source": [
    "### RAVC"
   ]
  },
  {
   "cell_type": "code",
   "execution_count": 4,
   "metadata": {},
   "outputs": [
    {
     "name": "stdout",
     "output_type": "stream",
     "text": [
      "fwhm=3.30pix, ap_flux=6.78e-02\n",
      "( total flux = 0.3648612634447917 )\n",
      "FWHM throughput = 0.193080520944404\n",
      "Vortex transmittance = 0.853226777335837\n",
      "OAT @ 5 lam/D = 0.8828983317001562\n",
      "Total throughput = 0.14544996960023243\n"
     ]
    }
   ],
   "source": [
    "conf.update(mode='RAVC', ls_dRext=0.0477, ls_dRint=0.04, ls_dRspi=0.0249)\n",
    "conf = heeps.config.update_config(**conf)\n",
    "wf = heeps.pupil.pupil(**conf)\n",
    "psf_OFF = heeps.wavefront.propagate_one(wf, onaxis=False, verbose=False, **conf)\n",
    "_, fwhm, ap_flux = psf_template(psf_OFF)\n",
    "print('fwhm=%.2fpix, ap_flux=%.2e'%(fwhm, ap_flux))\n",
    "print('( total flux =', np.sum(psf_OFF), ')')\n",
    "print('FWHM throughput =', ap_flux/ap_flux_ELT)\n",
    "data = fits.getdata(conf['f_vc_trans'])\n",
    "trans_vortex = np.interp(conf['lam']*1e6, data[0], data[1])\n",
    "print('Vortex transmittance =', trans_vortex)\n",
    "oat = fits.getdata(conf['dir_input'] + 'optics/oat_L_RAVC.fits')\n",
    "npix = 5*get_lamD_mas(**conf)/conf['pscale']\n",
    "oat5 = np.interp(npix, oat[0], oat[1])\n",
    "print('OAT @ 5 lam/D =', oat5)\n",
    "TOTAL =  ap_flux/ap_flux_ELT * trans_vortex * oat5\n",
    "print('Total throughput =', TOTAL)"
   ]
  },
  {
   "cell_type": "markdown",
   "metadata": {},
   "source": [
    "### CVC"
   ]
  },
  {
   "cell_type": "code",
   "execution_count": 5,
   "metadata": {},
   "outputs": [
    {
     "name": "stdout",
     "output_type": "stream",
     "text": [
      "fwhm=3.48pix, ap_flux=2.20e-01\n",
      "( total flux = 0.7938157033763246 )\n",
      "FWHM throughput = 0.6257444133596661\n",
      "Vortex transmittance = 0.853226777335837\n",
      "OAT @ 5 lam/D = 0.8188439381099766\n",
      "Total throughput = 0.4371823255551831\n"
     ]
    }
   ],
   "source": [
    "conf.update(mode='CVC', ls_dRext=0.0209, ls_dRint=0.09, ls_dRspi=0.0245)\n",
    "conf = heeps.config.update_config(**conf)\n",
    "wf = heeps.pupil.pupil(**conf)\n",
    "psf_OFF = heeps.wavefront.propagate_one(wf, onaxis=False, verbose=False, **conf)\n",
    "_, fwhm, ap_flux = psf_template(psf_OFF)\n",
    "print('fwhm=%.2fpix, ap_flux=%.2e'%(fwhm, ap_flux))\n",
    "print('( total flux =', np.sum(psf_OFF), ')')\n",
    "print('FWHM throughput =', ap_flux/ap_flux_ELT)\n",
    "data = fits.getdata(conf['f_vc_trans'])\n",
    "trans_vortex = np.interp(conf['lam']*1e6, data[0], data[1])\n",
    "print('Vortex transmittance =', trans_vortex)\n",
    "oat = fits.getdata(conf['dir_input'] + 'optics/oat_L_CVC.fits')\n",
    "npix = 5*get_lamD_mas(**conf)/conf['pscale']\n",
    "oat5 = np.interp(npix, oat[0], oat[1])\n",
    "print('OAT @ 5 lam/D =', oat5)\n",
    "TOTAL =  ap_flux/ap_flux_ELT * trans_vortex * oat5\n",
    "print('Total throughput =', TOTAL)"
   ]
  },
  {
   "cell_type": "markdown",
   "metadata": {},
   "source": [
    "### CLC"
   ]
  },
  {
   "cell_type": "code",
   "execution_count": 6,
   "metadata": {},
   "outputs": [
    {
     "name": "stdout",
     "output_type": "stream",
     "text": [
      "fwhm=3.85pix, ap_flux=1.68e-01\n",
      "( total flux = 0.6309422107851245 )\n",
      "FWHM throughput = 0.4793170095289134\n",
      "Total throughput = 0.4793170095289134\n"
     ]
    }
   ],
   "source": [
    "conf.update(mode='CLC', ls_dRext=0.1095, ls_dRint=0.0491, ls_dRspi=0.0317)\n",
    "conf = heeps.config.update_config(**conf)\n",
    "wf = heeps.pupil.pupil(**conf)\n",
    "psf_OFF = heeps.wavefront.propagate_one(wf, onaxis=False, verbose=False, **conf)\n",
    "_, fwhm, ap_flux = psf_template(psf_OFF)\n",
    "print('fwhm=%.2fpix, ap_flux=%.2e'%(fwhm, ap_flux))\n",
    "print('( total flux =', np.sum(psf_OFF), ')')\n",
    "print('FWHM throughput =', ap_flux/ap_flux_ELT)\n",
    "print('Total throughput =', ap_flux/ap_flux_ELT)"
   ]
  },
  {
   "cell_type": "markdown",
   "metadata": {},
   "source": [
    "### APP"
   ]
  },
  {
   "cell_type": "code",
   "execution_count": 7,
   "metadata": {},
   "outputs": [
    {
     "name": "stdout",
     "output_type": "stream",
     "text": [
      "fwhm=3.56pix, ap_flux=2.36e-01\n",
      "( total flux = 0.8061056187271394 )\n",
      "FWHM throughput = 0.6705688636641192\n",
      "APP transmittance = 0.7333889678395945\n",
      "APP Strehl ratio = 0.64\n",
      "APP single PSF = 0.48\n",
      "Total throughput = 0.2059987549176174\n"
     ]
    }
   ],
   "source": [
    "conf.update(mode='APP')\n",
    "conf = heeps.config.update_config(**conf)\n",
    "wf = heeps.pupil.pupil(**conf)\n",
    "psf_OFF = heeps.wavefront.propagate_one(wf, onaxis=False, verbose=False, **conf)\n",
    "_, fwhm, ap_flux = psf_template(psf_OFF)\n",
    "print('fwhm=%.2fpix, ap_flux=%.2e'%(fwhm, ap_flux))\n",
    "print('( total flux =', np.sum(psf_OFF), ')')\n",
    "print('FWHM throughput =', ap_flux/ap_flux_ELT)\n",
    "data = fits.getdata(conf['f_app_trans'])\n",
    "trans_app = np.interp(conf['lam']*1e6, data[0], data[1])\n",
    "print('APP transmittance =', trans_app)\n",
    "print('APP Strehl ratio =', conf['app_strehl'])\n",
    "print('APP single PSF =', conf['app_single_psf'])\n",
    "print('Total throughput =', ap_flux/ap_flux_ELT * conf['app_strehl'] * conf['app_single_psf'])"
   ]
  }
 ],
 "metadata": {
  "kernelspec": {
   "display_name": "Python 3.7.0 ('base')",
   "language": "python",
   "name": "python3"
  },
  "language_info": {
   "codemirror_mode": {
    "name": "ipython",
    "version": 3
   },
   "file_extension": ".py",
   "mimetype": "text/x-python",
   "name": "python",
   "nbconvert_exporter": "python",
   "pygments_lexer": "ipython3",
   "version": "3.7.0"
  },
  "orig_nbformat": 4,
  "vscode": {
   "interpreter": {
    "hash": "cd78fef2128015050713e82ca51c6520b11aee7c9ee8df750520bbbc7384cbaa"
   }
  }
 },
 "nbformat": 4,
 "nbformat_minor": 2
}

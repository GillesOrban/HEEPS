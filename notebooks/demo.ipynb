{
 "cells": [
  {
   "cell_type": "code",
   "execution_count": 1,
   "metadata": {},
   "outputs": [],
   "source": [
    "import heeps"
   ]
  },
  {
   "cell_type": "markdown",
   "metadata": {},
   "source": [
    "### 1. Create a config dictionary with your simulation parameters in read_config"
   ]
  },
  {
   "cell_type": "code",
   "execution_count": 2,
   "metadata": {},
   "outputs": [],
   "source": [
    "conf = dict(\n",
    "    dir_current = '$HOME/heeps_metis',  # specify a directory\n",
    "    nframes = 10,                       # number of SCAO phase screens selected\n",
    "    cpu_count = 10,                     # number of physical CPUs\n",
    "    f_phase = 'wavefront/COMPASS_201810_RandomWind_100screens_meters.fits',\n",
    "    f_pupil = 'pupil/ELT_allglass.fits',  # entrance pupil file\n",
    ")\n",
    "conf = heeps.config.read_config(verbose=False, **conf)"
   ]
  },
  {
   "cell_type": "markdown",
   "metadata": {},
   "source": [
    "### 2. Update config parameters. The following parameters will be updated to match the selected spectral band:\n",
    "lam, pscale, flux_star, flux_bckg, npupil, beam_ratio, ndet, hfov, hfov_lamD"
   ]
  },
  {
   "cell_type": "code",
   "execution_count": 3,
   "metadata": {},
   "outputs": [
    {
     "name": "stdout",
     "output_type": "stream",
     "text": [
      "Simulation config: band=L, mode=RAVC\n",
      "‾‾‾‾‾‾‾‾‾‾‾‾‾‾‾‾‾‾\n",
      "   loading vortex back-propagation params\n",
      "   vc_charge=2, ngrid=1024, diam_norm=1.0838, beam_ratio=0.2568\n",
      "   ravc_calc=True, ravc_t=0.7608, ravc_r=0.6213\n",
      "   npupil=285, pscale=5.4700 mas, lam=3.8112E-06 m\n",
      "   hfov=1.1 arcsec (-> ndet=403, 51.74 lam/D)\n",
      "\n"
     ]
    }
   ],
   "source": [
    "conf = heeps.config.update_config(saveconf=True, verbose=True, **conf) "
   ]
  },
  {
   "cell_type": "markdown",
   "metadata": {},
   "source": [
    "### 3. Load entrance pupil, and create 'wavefront' object"
   ]
  },
  {
   "cell_type": "code",
   "execution_count": 4,
   "metadata": {},
   "outputs": [
    {
     "name": "stdout",
     "output_type": "stream",
     "text": [
      "Load pupil from 'ELT_allglass.fits'\n"
     ]
    }
   ],
   "source": [
    "wf = heeps.pupil.pupil(savefits=True, verbose=True, **conf)"
   ]
  },
  {
   "cell_type": "markdown",
   "metadata": {},
   "source": [
    "### 4. Load wavefront errors"
   ]
  },
  {
   "cell_type": "code",
   "execution_count": 5,
   "metadata": {},
   "outputs": [
    {
     "name": "stdout",
     "output_type": "stream",
     "text": [
      "Load phase screens from 'COMPASS_201810_RandomWind_100screens_meters.fits'\n",
      "   nscreens=10 (nframes=10, nstep=1)\n"
     ]
    }
   ],
   "source": [
    "phase_screens, amp_screens, tiptilts, apo_misaligns, ls_misaligns = \\\n",
    "    heeps.wavefront.load_errors(verbose=True, **conf)"
   ]
  },
  {
   "cell_type": "markdown",
   "metadata": {},
   "source": [
    "### 5. Propagate one frame of off-axis psf (=planet)"
   ]
  },
  {
   "cell_type": "code",
   "execution_count": 6,
   "metadata": {},
   "outputs": [
    {
     "name": "stdout",
     "output_type": "stream",
     "text": [
      "Create single off-axis PSF\n",
      "   apply ring apodizer: ravc_t=0.7608, ravc_r=0.6213\n",
      "   apply Lyot stop: circ_ext=True, circ_int=True, ls_dRext=0.0207, ls_dRint=0.0207, ls_dRspi=0.0207\n",
      "   extract PSF on the detector: ndet=403\n"
     ]
    }
   ],
   "source": [
    "_ = heeps.wavefront.propagate_one(wf, onaxis=False, savefits=True, \n",
    "    verbose=True, **conf)"
   ]
  },
  {
   "cell_type": "markdown",
   "metadata": {},
   "source": [
    "### 6. Propagate cube of on-axis psfs (=star)"
   ]
  },
  {
   "cell_type": "code",
   "execution_count": 7,
   "metadata": {},
   "outputs": [
    {
     "name": "stdout",
     "output_type": "stream",
     "text": [
      "Create on-axis PSF cube\n",
      "   preloading RAVC apodizer\n",
      "   preloading Lyot stop\n",
      "   2022-05-18 12:01:50, e2e simulation using 10 cores\n",
      "   2022-05-18 12:01:55, completed in 5.52 seconds\n"
     ]
    }
   ],
   "source": [
    "_ = heeps.wavefront.propagate_cube(wf, phase_screens=phase_screens,\n",
    "    amp_screens=amp_screens, tiptilts=tiptilts, apo_misaligns=apo_misaligns,\n",
    "    ls_misaligns=ls_misaligns, onaxis=True, savefits=True, verbose=True, **conf)"
   ]
  },
  {
   "cell_type": "markdown",
   "metadata": {},
   "source": [
    "### 7. Produce a 5-sigma sensitivity (contrast) curve"
   ]
  },
  {
   "cell_type": "code",
   "execution_count": 8,
   "metadata": {},
   "outputs": [
    {
     "name": "stdout",
     "output_type": "stream",
     "text": [
      "Load PSFs for ADI\n",
      "   mode=RAVC, band=L\n",
      "   ncube=10, ndet=403\n",
      "   pscale=5.47 mas, dit=0.3 s\n",
      "――――――――――――――――――――――――――――――――――――――――――――――――――――――――――――――――――――――――――――――――\n",
      "Starting time: 2022-05-18 12:01:58\n",
      "――――――――――――――――――――――――――――――――――――――――――――――――――――――――――――――――――――――――――――――――\n",
      "ALGO : median_sub, FWHM = 3.1393353803419064, # BRANCHES = 1, SIGMA = 5, STARPHOT = 100000000000.0\n",
      "――――――――――――――――――――――――――――――――――――――――――――――――――――――――――――――――――――――――――――――――\n",
      "Finished the throughput calculation\n",
      "Running time:  0:00:06.020912\n",
      "――――――――――――――――――――――――――――――――――――――――――――――――――――――――――――――――――――――――――――――――\n"
     ]
    }
   ],
   "source": [
    "sep1, sen1 = heeps.contrast.adi_one(savepsf=True, savefits=True, \n",
    "    verbose=True, **conf)"
   ]
  },
  {
   "cell_type": "code",
   "execution_count": 9,
   "metadata": {},
   "outputs": [
    {
     "name": "stdout",
     "output_type": "stream",
     "text": [
      "Load PSFs for ADI\n",
      "   mode=RAVC, band=L\n",
      "   ncube=10, ndet=403\n",
      "   pscale=5.47 mas, dit=0.3 s\n",
      "   offaxis_trans=0.3297, mask_trans=0.8532,\n",
      "   mag=5, dit=0.300\n",
      "   star_signal=2.70e+08, bckg_noise=7.49e+03\n",
      "――――――――――――――――――――――――――――――――――――――――――――――――――――――――――――――――――――――――――――――――\n",
      "Starting time: 2022-05-18 12:02:06\n",
      "――――――――――――――――――――――――――――――――――――――――――――――――――――――――――――――――――――――――――――――――\n",
      "ALGO : median_sub, FWHM = 3.139335379765777, # BRANCHES = 1, SIGMA = 5, STARPHOT = 100000000000.0\n",
      "――――――――――――――――――――――――――――――――――――――――――――――――――――――――――――――――――――――――――――――――\n",
      "Finished the throughput calculation\n",
      "Running time:  0:00:06.018744\n",
      "――――――――――――――――――――――――――――――――――――――――――――――――――――――――――――――――――――――――――――――――\n"
     ]
    }
   ],
   "source": [
    "# now, add star flux + background flux + photon noise\n",
    "conf['add_bckg'] = True\n",
    "sep2, sen2 = heeps.contrast.adi_one(savepsf=True, savefits=True, \n",
    "    verbose=True, **conf)"
   ]
  },
  {
   "cell_type": "markdown",
   "metadata": {},
   "source": [
    "### 8. Create a figure "
   ]
  },
  {
   "cell_type": "code",
   "execution_count": 10,
   "metadata": {},
   "outputs": [],
   "source": [
    "import matplotlib.pyplot as plt\n",
    "from matplotlib.ticker import ScalarFormatter\n",
    "%matplotlib inline"
   ]
  },
  {
   "cell_type": "code",
   "execution_count": 11,
   "metadata": {},
   "outputs": [
    {
     "data": {
      "image/png": "[encoded data removed]",
      "text/plain": [
       "<Figure size 684x288 with 1 Axes>"
      ]
     },
     "metadata": {
      "needs_background": "light"
     },
     "output_type": "display_data"
    }
   ],
   "source": [
    "savename = 'ADI_contrast_curve.png'\n",
    "plt.figure(figsize=(9.5, 4))\n",
    "plt.grid(True), plt.grid(which='minor', linestyle=':')\n",
    "plt.loglog(), plt.gca().xaxis.set_major_formatter(ScalarFormatter())\n",
    "plt.xlabel('Angular separation $[arcsec]$')\n",
    "plt.ylabel('5-$\\sigma$ sensitivity (contrast)')\n",
    "plt.title('%s-band %s, SCAO only, %s frames'%(conf['band'], conf['mode'], conf['nframes']))\n",
    "plt.plot(sep1, sen1, 'C0', label='w/o background', marker='d', markevery=0.12, markersize=4)\n",
    "plt.plot(sep2, sen2, 'C0:', label='with background (star mag=5)', marker='d', markevery=0.12, markersize=4)\n",
    "plt.legend()\n",
    "plt.xlim(0.02, 0.75)\n",
    "plt.ylim(1e-8,1e-2)\n",
    "plt.xticks([0.02, 0.05, 0.1, 0.2, 0.5])\n",
    "plt.savefig('%s/%s'%(conf['dir_output'], savename), dpi=300, transparent=True);"
   ]
  }
 ],
 "metadata": {
  "interpreter": {
   "hash": "cd78fef2128015050713e82ca51c6520b11aee7c9ee8df750520bbbc7384cbaa"
  },
  "kernelspec": {
   "display_name": "Python 3.7.0 ('base')",
   "language": "python",
   "name": "python3"
  },
  "language_info": {
   "codemirror_mode": {
    "name": "ipython",
    "version": 3
   },
   "file_extension": ".py",
   "mimetype": "text/x-python",
   "name": "python",
   "nbconvert_exporter": "python",
   "pygments_lexer": "ipython3",
   "version": "3.7.0"
  }
 },
 "nbformat": 4,
 "nbformat_minor": 2
}

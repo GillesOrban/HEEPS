{
 "cells": [
  {
   "cell_type": "code",
   "execution_count": 1,
   "metadata": {},
   "outputs": [],
   "source": [
    "import heeps"
   ]
  },
  {
   "cell_type": "markdown",
   "metadata": {},
   "source": [
    "### 1. Create a config dictionary with your simulation parameters in read_config"
   ]
  },
  {
   "cell_type": "code",
   "execution_count": 2,
   "metadata": {},
   "outputs": [],
   "source": [
    "conf = dict(\n",
    "    dir_current = '$HOME/heeps_metis',  # specify a directory\n",
    "    nframes = 10,                       # number of SCAO phase screens selected\n",
    "    cpu_count = 10,                     # number of physical CPUs\n",
    "    f_phase = 'wavefront/COMPASS_201810_RandomWind_100screens_meters.fits',\n",
    "    f_pupil = 'pupil/ELT_allglass.fits',  # entrance pupil file\n",
    ")\n",
    "conf = heeps.config.read_config(verbose=False, **conf)"
   ]
  },
  {
   "cell_type": "markdown",
   "metadata": {},
   "source": [
    "### 2. Update config parameters. The following parameters will be updated to match the selected spectral band:\n",
    "lam, pscale, flux_star, flux_bckg, npupil, beam_ratio, ndet, hfov, hfov_lamD"
   ]
  },
  {
   "cell_type": "code",
   "execution_count": 3,
   "metadata": {},
   "outputs": [
    {
     "name": "stdout",
     "output_type": "stream",
     "text": [
      "Simulation config: band=L, mode=RAVC\n",
      "‾‾‾‾‾‾‾‾‾‾‾‾‾‾‾‾‾‾\n",
      "   loading vortex back-propagation params\n",
      "   vc_charge=2, ngrid=1024, diam_norm=1.0838, beam_ratio=0.2568\n",
      "   ravc_calc=True, ravc_t=0.7608, ravc_r=0.6213\n",
      "   npupil=285, pscale=5.47 mas, lam=3.8112E-06 m\n",
      "   hfov=1.1 arcsec (-> ndet=403, 51.74 lam/D)\n",
      "\n"
     ]
    }
   ],
   "source": [
    "conf = heeps.config.update_config(saveconf=True, verbose=True, **conf) "
   ]
  },
  {
   "cell_type": "markdown",
   "metadata": {},
   "source": [
    "### 3. Load entrance pupil, and create 'wavefront' object"
   ]
  },
  {
   "cell_type": "code",
   "execution_count": 4,
   "metadata": {},
   "outputs": [
    {
     "name": "stdout",
     "output_type": "stream",
     "text": [
      "Load pupil from 'ELT_allglass.fits'\n"
     ]
    }
   ],
   "source": [
    "wf = heeps.pupil.pupil(savefits=True, verbose=True, **conf)"
   ]
  },
  {
   "cell_type": "markdown",
   "metadata": {},
   "source": [
    "### 4. Load wavefront errors"
   ]
  },
  {
   "cell_type": "code",
   "execution_count": 5,
   "metadata": {},
   "outputs": [
    {
     "name": "stdout",
     "output_type": "stream",
     "text": [
      "Load phase screens from 'COMPASS_201810_RandomWind_100screens_meters.fits'\n",
      "   nscreens=10 (nframes=10, nstep=1)\n"
     ]
    }
   ],
   "source": [
    "phase_screens, amp_screens, tiptilts, apo_misaligns, ls_misaligns = \\\n",
    "    heeps.wavefront.load_errors(verbose=True, **conf)"
   ]
  },
  {
   "cell_type": "markdown",
   "metadata": {},
   "source": [
    "### 5. Propagate one frame of off-axis psf (=planet)"
   ]
  },
  {
   "cell_type": "code",
   "execution_count": 6,
   "metadata": {},
   "outputs": [
    {
     "name": "stdout",
     "output_type": "stream",
     "text": [
      "Create single off-axis PSF\n",
      "   apply ring apodizer: ravc_t=0.7608, ravc_r=0.6213\n",
      "   apply Lyot stop: circ_ext=True, circ_int=True, ls_dRext=0.0207, ls_dRint=0.0207, ls_dRspi=0.0207\n",
      "   extract PSF on the detector: ndet=403\n"
     ]
    }
   ],
   "source": [
    "_ = heeps.wavefront.propagate_one(wf, onaxis=False, savefits=True, \n",
    "    verbose=True, **conf)"
   ]
  },
  {
   "cell_type": "markdown",
   "metadata": {},
   "source": [
    "### 6. Propagate cube of on-axis psfs (=star)"
   ]
  },
  {
   "cell_type": "code",
   "execution_count": 7,
   "metadata": {},
   "outputs": [
    {
     "name": "stdout",
     "output_type": "stream",
     "text": [
      "Create on-axis PSF cube\n",
      "   preloading RAVC apodizer\n",
      "False\n",
      "RAVC [0, 0, 0, 0, 0, 0]\n",
      "   2022-04-08 13:20:35, e2e simulation using 10 cores\n",
      "   2022-04-08 13:20:42, completed in 6.41 seconds\n"
     ]
    }
   ],
   "source": [
    "_ = heeps.wavefront.propagate_cube(wf, phase_screens=phase_screens,\n",
    "    amp_screens=amp_screens, tiptilts=tiptilts, apo_misaligns=apo_misaligns,\n",
    "    ls_misaligns=ls_misaligns, onaxis=True, savefits=True, verbose=True, **conf)"
   ]
  },
  {
   "cell_type": "markdown",
   "metadata": {},
   "source": [
    "### 7. Produce a 5-sigma sensitivity (contrast) curve"
   ]
  },
  {
   "cell_type": "code",
   "execution_count": 8,
   "metadata": {},
   "outputs": [
    {
     "name": "stdout",
     "output_type": "stream",
     "text": [
      "Load PSFs for ADI\n",
      "   mode=RAVC, band=L\n",
      "   ncube=10, ndet=403\n",
      "   pscale=5.47 mas, dit=0.3 s\n",
      "――――――――――――――――――――――――――――――――――――――――――――――――――――――――――――――――――――――――――――――――\n",
      "Starting time: 2022-04-08 13:20:42\n",
      "――――――――――――――――――――――――――――――――――――――――――――――――――――――――――――――――――――――――――――――――\n",
      "ALGO : median_sub, FWHM = 3.139335523171968, # BRANCHES = 1, SIGMA = 5, STARPHOT = 100000000000.0\n",
      "――――――――――――――――――――――――――――――――――――――――――――――――――――――――――――――――――――――――――――――――\n",
      "Finished the throughput calculation\n",
      "Running time:  0:00:06.013004\n",
      "――――――――――――――――――――――――――――――――――――――――――――――――――――――――――――――――――――――――――――――――\n"
     ]
    }
   ],
   "source": [
    "sep1, sen1 = heeps.contrast.adi_one(savepsf=True, savefits=True, \n",
    "    verbose=True, **conf)"
   ]
  },
  {
   "cell_type": "code",
   "execution_count": 9,
   "metadata": {},
   "outputs": [
    {
     "name": "stdout",
     "output_type": "stream",
     "text": [
      "Load PSFs for ADI\n",
      "   mode=RAVC, band=L\n",
      "   ncube=10, ndet=403\n",
      "   pscale=5.47 mas, dit=0.3 s\n",
      "   offaxis_trans=0.3273, mask_trans=0.8532,\n",
      "   mag=5, dit=0.300\n",
      "   star_signal=2.70e+08, bckg_noise=7.44e+03\n",
      "――――――――――――――――――――――――――――――――――――――――――――――――――――――――――――――――――――――――――――――――\n",
      "Starting time: 2022-04-08 13:20:50\n",
      "――――――――――――――――――――――――――――――――――――――――――――――――――――――――――――――――――――――――――――――――\n",
      "ALGO : median_sub, FWHM = 3.139335490018043, # BRANCHES = 1, SIGMA = 5, STARPHOT = 100000000000.0\n",
      "――――――――――――――――――――――――――――――――――――――――――――――――――――――――――――――――――――――――――――――――\n"
     ]
    },
    {
     "ename": "KeyboardInterrupt",
     "evalue": "",
     "output_type": "error",
     "traceback": [
      "\u001b[0;31m---------------------------------------------------------------------------\u001b[0m",
      "\u001b[0;31mKeyboardInterrupt\u001b[0m                         Traceback (most recent call last)",
      "\u001b[0;32m<ipython-input-9-309a0645bbfe>\u001b[0m in \u001b[0;36m<module>\u001b[0;34m()\u001b[0m\n\u001b[1;32m      2\u001b[0m \u001b[0mconf\u001b[0m\u001b[0;34m[\u001b[0m\u001b[0;34m'add_bckg'\u001b[0m\u001b[0;34m]\u001b[0m \u001b[0;34m=\u001b[0m \u001b[0;32mTrue\u001b[0m\u001b[0;34m\u001b[0m\u001b[0m\n\u001b[1;32m      3\u001b[0m sep2, sen2 = heeps.contrast.adi_one(savepsf=True, savefits=True, \n\u001b[0;32m----> 4\u001b[0;31m     verbose=True, **conf)\n\u001b[0m",
      "\u001b[0;32m~/CODE/Python/HEEPS/heeps/contrast/adi_one.py\u001b[0m in \u001b[0;36madi_one\u001b[0;34m(dir_output, band, mode, add_bckg, pscale, dit, mag, lat, dec, app_strehl, nscreens, ndet, tag, OAT, student_distrib, savepsf, savefits, rim, starphot, verbose, **conf)\u001b[0m\n\u001b[1;32m    141\u001b[0m                 \u001b[0mfwhm\u001b[0m\u001b[0;34m,\u001b[0m \u001b[0mpscale\u001b[0m\u001b[0;34m/\u001b[0m\u001b[0;36m1e3\u001b[0m\u001b[0;34m,\u001b[0m \u001b[0mstarphot\u001b[0m\u001b[0;34m,\u001b[0m \u001b[0malgo\u001b[0m\u001b[0;34m=\u001b[0m\u001b[0malgo\u001b[0m\u001b[0;34m,\u001b[0m \u001b[0mnbranch\u001b[0m\u001b[0;34m=\u001b[0m\u001b[0;36m1\u001b[0m\u001b[0;34m,\u001b[0m \u001b[0msigma\u001b[0m\u001b[0;34m=\u001b[0m\u001b[0;36m5\u001b[0m\u001b[0;34m,\u001b[0m\u001b[0;34m\u001b[0m\u001b[0m\n\u001b[1;32m    142\u001b[0m                 \u001b[0mdebug\u001b[0m\u001b[0;34m=\u001b[0m\u001b[0;32mFalse\u001b[0m\u001b[0;34m,\u001b[0m \u001b[0mplot\u001b[0m\u001b[0;34m=\u001b[0m\u001b[0;32mFalse\u001b[0m\u001b[0;34m,\u001b[0m \u001b[0mtransmission\u001b[0m\u001b[0;34m=\u001b[0m\u001b[0mOAT\u001b[0m\u001b[0;34m,\u001b[0m \u001b[0mimlib\u001b[0m\u001b[0;34m=\u001b[0m\u001b[0;34m'opencv'\u001b[0m\u001b[0;34m,\u001b[0m\u001b[0;34m\u001b[0m\u001b[0m\n\u001b[0;32m--> 143\u001b[0;31m                 verbose=verbose)\n\u001b[0m\u001b[1;32m    144\u001b[0m     \u001b[0;31m# angular separations (in arcsec)\u001b[0m\u001b[0;34m\u001b[0m\u001b[0;34m\u001b[0m\u001b[0m\n\u001b[1;32m    145\u001b[0m     \u001b[0msep\u001b[0m \u001b[0;34m=\u001b[0m \u001b[0mcc_pp\u001b[0m\u001b[0;34m.\u001b[0m\u001b[0mloc\u001b[0m\u001b[0;34m[\u001b[0m\u001b[0;34m:\u001b[0m\u001b[0;34m,\u001b[0m\u001b[0;34m'distance_arcsec'\u001b[0m\u001b[0;34m]\u001b[0m\u001b[0;34m.\u001b[0m\u001b[0mvalues\u001b[0m\u001b[0;34m\u001b[0m\u001b[0m\n",
      "\u001b[0;32m/Applications/anaconda3/lib/python3.7/site-packages/vip_hci/metrics/contrcurve.py\u001b[0m in \u001b[0;36mcontrast_curve\u001b[0;34m(cube, angle_list, psf_template, fwhm, pxscale, starphot, algo, sigma, nbranch, theta, inner_rad, wedge, fc_snr, student, transmission, smooth, interp_order, plot, dpi, imlib, debug, verbose, full_output, save_plot, object_name, frame_size, fix_y_lim, figsize, **algo_dict)\u001b[0m\n\u001b[1;32m    181\u001b[0m                             \u001b[0mwedge\u001b[0m\u001b[0;34m=\u001b[0m\u001b[0mwedge\u001b[0m\u001b[0;34m,\u001b[0m \u001b[0mfc_snr\u001b[0m\u001b[0;34m=\u001b[0m\u001b[0mfc_snr\u001b[0m\u001b[0;34m,\u001b[0m \u001b[0mfull_output\u001b[0m\u001b[0;34m=\u001b[0m\u001b[0;32mTrue\u001b[0m\u001b[0;34m,\u001b[0m\u001b[0;34m\u001b[0m\u001b[0m\n\u001b[1;32m    182\u001b[0m                             \u001b[0malgo\u001b[0m\u001b[0;34m=\u001b[0m\u001b[0malgo\u001b[0m\u001b[0;34m,\u001b[0m \u001b[0mimlib\u001b[0m\u001b[0;34m=\u001b[0m\u001b[0mimlib\u001b[0m\u001b[0;34m,\u001b[0m \u001b[0mverbose\u001b[0m\u001b[0;34m=\u001b[0m\u001b[0mverbose_thru\u001b[0m\u001b[0;34m,\u001b[0m\u001b[0;34m\u001b[0m\u001b[0m\n\u001b[0;32m--> 183\u001b[0;31m                             **algo_dict)\n\u001b[0m\u001b[1;32m    184\u001b[0m     \u001b[0mvector_radd\u001b[0m \u001b[0;34m=\u001b[0m \u001b[0mres_throug\u001b[0m\u001b[0;34m[\u001b[0m\u001b[0;36m3\u001b[0m\u001b[0;34m]\u001b[0m\u001b[0;34m\u001b[0m\u001b[0m\n\u001b[1;32m    185\u001b[0m     \u001b[0;32mif\u001b[0m \u001b[0mres_throug\u001b[0m\u001b[0;34m[\u001b[0m\u001b[0;36m0\u001b[0m\u001b[0;34m]\u001b[0m\u001b[0;34m.\u001b[0m\u001b[0mshape\u001b[0m\u001b[0;34m[\u001b[0m\u001b[0;36m0\u001b[0m\u001b[0;34m]\u001b[0m \u001b[0;34m>\u001b[0m \u001b[0;36m1\u001b[0m\u001b[0;34m:\u001b[0m\u001b[0;34m\u001b[0m\u001b[0m\n",
      "\u001b[0;32m/Applications/anaconda3/lib/python3.7/site-packages/vip_hci/metrics/contrcurve.py\u001b[0m in \u001b[0;36mthroughput\u001b[0;34m(cube, angle_list, psf_template, fwhm, pxscale, algo, nbranch, theta, inner_rad, fc_rad_sep, wedge, fc_snr, full_output, imlib, interpolation, verbose, **algo_dict)\u001b[0m\n\u001b[1;32m    643\u001b[0m                                                      \u001b[0mimlib\u001b[0m\u001b[0;34m=\u001b[0m\u001b[0mimlib\u001b[0m\u001b[0;34m,\u001b[0m \u001b[0mverbose\u001b[0m\u001b[0;34m=\u001b[0m\u001b[0;32mFalse\u001b[0m\u001b[0;34m,\u001b[0m\u001b[0;34m\u001b[0m\u001b[0m\n\u001b[1;32m    644\u001b[0m                                                      \u001b[0minterpolation\u001b[0m\u001b[0;34m=\u001b[0m\u001b[0;34m\u001b[0m\u001b[0m\n\u001b[0;32m--> 645\u001b[0;31m                                                         interpolation)\n\u001b[0m\u001b[1;32m    646\u001b[0m                     y = cy + radvec[i] * np.sin(np.deg2rad(br * angle_branch +\n\u001b[1;32m    647\u001b[0m                                                            theta))\n",
      "\u001b[0;32m/Applications/anaconda3/lib/python3.7/site-packages/vip_hci/metrics/fakecomp.py\u001b[0m in \u001b[0;36mcube_inject_companions\u001b[0;34m(array, psf_template, angle_list, flevel, plsc, rad_dists, n_branches, theta, imlib, interpolation, transmission, full_output, verbose)\u001b[0m\n\u001b[1;32m    212\u001b[0m                         array_out[fr] += (frame_shift(fc_fr_ang, shift_y, \n\u001b[1;32m    213\u001b[0m                                                       \u001b[0mshift_x\u001b[0m\u001b[0;34m,\u001b[0m \u001b[0mimlib_sh\u001b[0m\u001b[0;34m,\u001b[0m\u001b[0;34m\u001b[0m\u001b[0m\n\u001b[0;32m--> 214\u001b[0;31m                                                       interpolation)\n\u001b[0m\u001b[1;32m    215\u001b[0m                                       * flevel)\n\u001b[1;32m    216\u001b[0m                     \u001b[0;32melse\u001b[0m\u001b[0;34m:\u001b[0m\u001b[0;34m\u001b[0m\u001b[0m\n",
      "\u001b[0;32m/Applications/anaconda3/lib/python3.7/site-packages/vip_hci/preproc/recentering.py\u001b[0m in \u001b[0;36mframe_shift\u001b[0;34m(array, shift_y, shift_x, imlib, interpolation, border_mode)\u001b[0m\n\u001b[1;32m    156\u001b[0m         \u001b[0mM\u001b[0m \u001b[0;34m=\u001b[0m \u001b[0mnp\u001b[0m\u001b[0;34m.\u001b[0m\u001b[0mfloat32\u001b[0m\u001b[0;34m(\u001b[0m\u001b[0;34m[\u001b[0m\u001b[0;34m[\u001b[0m\u001b[0;36m1\u001b[0m\u001b[0;34m,\u001b[0m \u001b[0;36m0\u001b[0m\u001b[0;34m,\u001b[0m \u001b[0mshift_x\u001b[0m\u001b[0;34m]\u001b[0m\u001b[0;34m,\u001b[0m \u001b[0;34m[\u001b[0m\u001b[0;36m0\u001b[0m\u001b[0;34m,\u001b[0m \u001b[0;36m1\u001b[0m\u001b[0;34m,\u001b[0m \u001b[0mshift_y\u001b[0m\u001b[0;34m]\u001b[0m\u001b[0;34m]\u001b[0m\u001b[0;34m)\u001b[0m\u001b[0;34m\u001b[0m\u001b[0m\n\u001b[1;32m    157\u001b[0m         array_shifted = cv2.warpAffine(image, M, (x, y), flags=intp,\n\u001b[0;32m--> 158\u001b[0;31m                                        borderMode=bormo)\n\u001b[0m\u001b[1;32m    159\u001b[0m \u001b[0;34m\u001b[0m\u001b[0m\n\u001b[1;32m    160\u001b[0m     \u001b[0;32melse\u001b[0m\u001b[0;34m:\u001b[0m\u001b[0;34m\u001b[0m\u001b[0m\n",
      "\u001b[0;31mKeyboardInterrupt\u001b[0m: "
     ]
    }
   ],
   "source": [
    "# now, add star flux + background flux + photon noise\n",
    "conf['add_bckg'] = True\n",
    "sep2, sen2 = heeps.contrast.adi_one(savepsf=True, savefits=True, \n",
    "    verbose=True, **conf)"
   ]
  },
  {
   "cell_type": "markdown",
   "metadata": {},
   "source": [
    "### 8. Create a figure "
   ]
  },
  {
   "cell_type": "code",
   "execution_count": null,
   "metadata": {},
   "outputs": [],
   "source": [
    "import matplotlib.pyplot as plt\n",
    "from matplotlib.ticker import ScalarFormatter\n",
    "%matplotlib inline"
   ]
  },
  {
   "cell_type": "code",
   "execution_count": null,
   "metadata": {},
   "outputs": [
    {
     "data": {
      "image/png": "[encoded data removed]",
      "text/plain": [
       "<Figure size 684x288 with 1 Axes>"
      ]
     },
     "metadata": {
      "needs_background": "light"
     },
     "output_type": "display_data"
    }
   ],
   "source": [
    "savename = 'ADI_contrast_curve.png'\n",
    "plt.figure(figsize=(9.5, 4))\n",
    "plt.grid(True), plt.grid(which='minor', linestyle=':')\n",
    "plt.loglog(), plt.gca().xaxis.set_major_formatter(ScalarFormatter())\n",
    "plt.xlabel('Angular separation $[arcsec]$')\n",
    "plt.ylabel('5-$\\sigma$ sensitivity (contrast)')\n",
    "plt.title('%s-band %s, SCAO only, %s frames'%(conf['band'], conf['mode'], conf['nframes']))\n",
    "plt.plot(sep1, sen1, 'C0', label='w/o background', marker='d', markevery=0.12, markersize=4)\n",
    "plt.plot(sep2, sen2, 'C0:', label='with background (star mag=5)', marker='d', markevery=0.12, markersize=4)\n",
    "plt.legend()\n",
    "plt.xlim(0.02, 0.75)\n",
    "plt.ylim(1e-8,1e-2)\n",
    "plt.xticks([0.02, 0.05, 0.1, 0.2, 0.5])\n",
    "plt.savefig('%s/%s'%(conf['dir_output'], savename), dpi=300, transparent=True);"
   ]
  }
 ],
 "metadata": {
  "interpreter": {
   "hash": "344443636c3027c5042750c9c609acdda283a9c43681b128a8c1053e7ad2aa7d"
  },
  "kernelspec": {
   "display_name": "Python 3.7.0 64-bit ('base': conda)",
   "name": "python3"
  },
  "language_info": {
   "codemirror_mode": {
    "name": "ipython",
    "version": 3
   },
   "file_extension": ".py",
   "mimetype": "text/x-python",
   "name": "python",
   "nbconvert_exporter": "python",
   "pygments_lexer": "ipython3",
   "version": "3.7.0"
  }
 },
 "nbformat": 4,
 "nbformat_minor": 2
}

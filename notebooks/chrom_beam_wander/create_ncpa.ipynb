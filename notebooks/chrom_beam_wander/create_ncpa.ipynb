{
 "cells": [
  {
   "cell_type": "code",
   "execution_count": 1,
   "metadata": {},
   "outputs": [],
   "source": [
    "from heeps.config.read_config import read_config\n",
    "from heeps.config.update_config import update_config\n",
    "from heeps.util.img_processing import resize_cube\n",
    "from astropy.io import fits\n",
    "import numpy as np\n",
    "import os"
   ]
  },
  {
   "cell_type": "code",
   "execution_count": 2,
   "metadata": {},
   "outputs": [],
   "source": [
    "os.chdir(os.path.normpath(os.path.expandvars('$HOME/heeps_metis/input_files')))\n",
    "npupil_L = update_config(**dict(read_config(), band='L'))['npupil']\n",
    "npupil_N = update_config(**dict(read_config(), band='N2'))['npupil']\n",
    "npupil = {'L':npupil_L, 'N2':npupil_N}\n",
    "mask_L = fits.getdata('wavefront/cfull/mask_Cfull_20211007_%s_%s.fits'%('L', npupil_L)) > 0.5\n",
    "mask_N = fits.getdata('wavefront/cfull/mask_Cfull_20211007_%s_%s.fits'%('N2', npupil_N)) > 0.5\n",
    "mask = {'L':mask_L, 'N2':mask_N}\n",
    "scao_L = fits.getdata('wavefront/cfull/cube_Cfull_20211007_3600s_300ms_0piston_meters_scao_only_%s_%s.fits'%('L', npupil_L))\n",
    "scao_N = fits.getdata('wavefront/cfull/cube_Cfull_20211007_3600s_300ms_0piston_meters_scao_only_%s_%s.fits'%('N2', npupil_N))\n",
    "scao = {'L':scao_L, 'N2':scao_N}\n",
    "filename = 'wavefront/ncpa/%s/DIFF_rep_%s_field_%s.fits'\n",
    "tag = {'L':'LM_20211122', 'N2':'N_20211122'}"
   ]
  },
  {
   "cell_type": "code",
   "execution_count": 3,
   "metadata": {},
   "outputs": [
    {
     "name": "stdout",
     "output_type": "stream",
     "text": [
      "NCPA: 98.27 nm\n",
      "NCPA: 95.44 nm\n"
     ]
    }
   ],
   "source": [
    "for band, rep in zip(['L','N2'],[15,13]):\n",
    "    start = 38 # 0, 13, 25, 32, (38), 44 \n",
    "    for i,field in enumerate(range(start, start+25)):\n",
    "        ncpa = fits.getdata(filename%(tag[band], rep, field))\n",
    "        ncpa = resize_cube(ncpa, npupil[band])\n",
    "        ncpa -= np.mean(ncpa[mask[band]]) # remove piston\n",
    "        ncpa[~mask[band]] = 0             # mask with zeros\n",
    "        stack = np.dstack([ncpa.T]*480).T\n",
    "        if i == 0:\n",
    "            cube = stack\n",
    "        else:\n",
    "            cube = np.vstack((cube, stack))\n",
    "    fits.writeto('wavefront/ncpa/%s_%s_%s_rep_%s.fits'%(tag[band], band, npupil[band], rep), cube, overwrite=True)\n",
    "    print('NCPA: %.2f nm'%(np.mean([np.std(x[mask[band]]) for x in cube*1e9])))\n",
    "    cube += scao[band]\n",
    "    fits.writeto('wavefront/cfull/cube_Cfull_20211007_3600s_300ms_0piston_meters_all_ncpa_%s_%s_rep_%s_-0h30.fits'%\n",
    "                 (band, npupil[band], rep), cube, overwrite=True)"
   ]
  }
 ],
 "metadata": {
  "kernelspec": {
   "display_name": "Python 3",
   "language": "python",
   "name": "python3"
  },
  "language_info": {
   "codemirror_mode": {
    "name": "ipython",
    "version": 3
   },
   "file_extension": ".py",
   "mimetype": "text/x-python",
   "name": "python",
   "nbconvert_exporter": "python",
   "pygments_lexer": "ipython3",
   "version": "3.7.0"
  }
 },
 "nbformat": 4,
 "nbformat_minor": 2
}

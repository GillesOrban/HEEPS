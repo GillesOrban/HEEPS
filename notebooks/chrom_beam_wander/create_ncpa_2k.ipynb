{
 "cells": [
  {
   "cell_type": "code",
   "execution_count": 1,
   "metadata": {},
   "outputs": [],
   "source": [
    "from heeps.config.read_config import read_config\n",
    "from heeps.config.update_config import update_config\n",
    "from heeps.util.img_processing import resize_cube\n",
    "from astropy.io import fits\n",
    "import numpy as np\n",
    "import os"
   ]
  },
  {
   "cell_type": "code",
   "execution_count": 2,
   "metadata": {},
   "outputs": [],
   "source": [
    "os.chdir(os.path.normpath(os.path.expandvars('$HOME/heeps_metis/input_files')))\n",
    "npupil_L = update_config(**dict(read_config(), band='L'))['npupil']\n",
    "npupil_N = update_config(**dict(read_config(), band='N2'))['npupil']\n",
    "npupil = {'L':npupil_L, 'N2':npupil_N}\n",
    "mask_L = fits.getdata('wavefront/cfull/mask_Cfull_20211007_%s_%s.fits'%('L', npupil_L)) > 0.5\n",
    "mask_N = fits.getdata('wavefront/cfull/mask_Cfull_20211007_%s_%s.fits'%('N2', npupil_N)) > 0.5\n",
    "mask = {'L':mask_L, 'N2':mask_N}\n",
    "scao_L = fits.getdata('wavefront/cfull/cube_Cfull_20211007_3600s_300ms_0piston_meters_scao_only_%s_%s.fits'%('L', npupil_L))\n",
    "scao_N = fits.getdata('wavefront/cfull/cube_Cfull_20211007_3600s_300ms_0piston_meters_scao_only_%s_%s.fits'%('N2', npupil_N))\n",
    "scao = {'L':scao_L, 'N2':scao_N}\n",
    "filename = 'wavefront/ncpa/%s/DIFF_rep_1_field_%s.fits.gz'\n",
    "tag = {'L':'LM_20211122_2000pts', 'N2':'N_20211122_2000pts'}"
   ]
  },
  {
   "cell_type": "code",
   "execution_count": 3,
   "metadata": {},
   "outputs": [
    {
     "name": "stdout",
     "output_type": "stream",
     "text": [
      "0\n",
      "100\n",
      "200\n",
      "300\n",
      "400\n",
      "500\n",
      "600\n",
      "700\n",
      "800\n",
      "900\n",
      "1000\n",
      "1100\n",
      "1200\n",
      "1300\n",
      "1400\n",
      "1500\n",
      "1600\n",
      "1700\n",
      "1800\n",
      "1900\n",
      "SCAO+NCPA: 165.76 nm\n",
      "0\n",
      "100\n",
      "200\n",
      "300\n",
      "400\n",
      "500\n",
      "600\n",
      "700\n",
      "800\n",
      "900\n",
      "1000\n",
      "1100\n",
      "1200\n",
      "1300\n",
      "1400\n",
      "1500\n",
      "1600\n",
      "1700\n",
      "1800\n",
      "1900\n",
      "SCAO+NCPA: 127.54 nm\n"
     ]
    }
   ],
   "source": [
    "for band in ['L', 'N2']:\n",
    "    for i,field in enumerate(range(0, 2000)):\n",
    "        if i % 100 == 0:\n",
    "            print(i)\n",
    "        ncpa = fits.getdata(filename%(tag[band], field))\n",
    "        ncpa = resize_cube(ncpa, npupil[band])\n",
    "        ncpa -= np.mean(ncpa[mask[band]]) # remove piston\n",
    "        ncpa[~mask[band]] = 0             # mask with zeros\n",
    "        stack = np.dstack([ncpa.T]*6).T\n",
    "        if i == 0:\n",
    "            cube = stack\n",
    "        else:\n",
    "            cube = np.vstack((cube, stack))\n",
    "    cube += scao[band]\n",
    "    fits.writeto('wavefront/cfull/cube_Cfull_20211007_3600s_300ms_0piston_meters_all_ncpa_%s_%s_rep_1_2000pts.fits'%\n",
    "                 (band, npupil[band]), cube, overwrite=True)\n",
    "    print('SCAO+NCPA: %.2f nm'%(np.mean([np.std(x[mask[band]]) for x in cube*1e9])))"
   ]
  }
 ],
 "metadata": {
  "kernelspec": {
   "display_name": "Python 3",
   "language": "python",
   "name": "python3"
  },
  "language_info": {
   "codemirror_mode": {
    "name": "ipython",
    "version": 3
   },
   "file_extension": ".py",
   "mimetype": "text/x-python",
   "name": "python",
   "nbconvert_exporter": "python",
   "pygments_lexer": "ipython3",
   "version": "3.7.0"
  }
 },
 "nbformat": 4,
 "nbformat_minor": 2
}

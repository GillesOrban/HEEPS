{
 "cells": [
  {
   "cell_type": "code",
   "execution_count": 1,
   "metadata": {},
   "outputs": [],
   "source": [
    "from heeps.util.multiCPU import multiCPU\n",
    "from heeps.util.freq_decomp import remove_zernike\n",
    "from heeps.util.img_processing import resize_cube\n",
    "import os.path\n",
    "import proper\n",
    "from copy import deepcopy"
   ]
  },
  {
   "cell_type": "code",
   "execution_count": 2,
   "metadata": {},
   "outputs": [],
   "source": [
    "rep = '/mnt/disk4tb/METIS/METIS_CBASIC_CUBES/water_vapor/'\n",
    "scao = rep + '../cube_Cbasic_20201130_3600s_300ms_0piston_meters_%s_285.fits'\n",
    "wv = rep + 'cube_Cbasic_20210601_3600s_300ms_0piston_meters_scao_only_720_WV.fits'\n",
    "pup = fits.getdata(rep + 'mask_Cbasic_20210601_720.fits')\n",
    "pup[pup < .5] = 0\n",
    "n1 = fits.getdata(rep + 'cube_Cbasic_20210601_3600s_100ms_0piston_meters_scao_only_720_WV_zpols_100_nLF_1_nHF_1_G_0.4.fits')[::3]\n",
    "n3 = fits.getdata(rep + 'cube_Cbasic_20210601_3600s_100ms_0piston_meters_scao_only_720_WV_zpols_100_nLF_3_nHF_3_G_0.4.fits')[::3]\n",
    "n10 = fits.getdata(rep + 'cube_Cbasic_20210601_3600s_100ms_0piston_meters_scao_only_720_WV_zpols_100_nLF_10_nHF_10_G_0.4.fits')[::3]\n",
    "nimg = 720\n",
    "npupil = 285\n",
    "temporal_rms = 8814.11\n",
    "rms_L = 100\n",
    "rms_N = 1200"
   ]
  },
  {
   "cell_type": "code",
   "execution_count": 3,
   "metadata": {},
   "outputs": [
    {
     "name": "stdout",
     "output_type": "stream",
     "text": [
      "file exists: /mnt/disk4tb/METIS/METIS_CBASIC_CUBES/water_vapor/cube_Cbasic_20210601_3600s_300ms_0piston_meters_all_ncpa_285_WVN_G_0.4_qacits_1.fits\n",
      "file exists: /mnt/disk4tb/METIS/METIS_CBASIC_CUBES/water_vapor/cube_Cbasic_20210601_3600s_300ms_0piston_meters_all_ncpa_285_WVN_G_0.4_qacits_3.fits\n",
      "file exists: /mnt/disk4tb/METIS/METIS_CBASIC_CUBES/water_vapor/cube_Cbasic_20210601_3600s_300ms_0piston_meters_all_ncpa_285_WVN_G_0.4_qacits_10.fits\n"
     ]
    }
   ],
   "source": [
    "wf = proper.prop_begin(nimg, 1, nimg, 1) # initial wavefront\n",
    "name = rep + 'cube_Cbasic_20210601_3600s_300ms_0piston_meters_%s_285_WV%s_G_0.4_qacits_%s.fits'\n",
    "for freq, zern in zip([1,3,10], [n1[:,:3], n3[:,:3], n10[:,:3]]):\n",
    "    if os.path.isfile(name%('all_ncpa', 'N', freq)):\n",
    "        print('file exists: ' + name%('all_ncpa', 'N', freq))\n",
    "    else:\n",
    "        _, HSF = multiCPU(remove_zernike, posargs=[deepcopy(wf), pup], \\\n",
    "            posvars=[fits.getdata(wv), zern], \\\n",
    "            case='qacits n%s'%freq, nout=2, verbose=True)\n",
    "        HSF = resize_cube(HSF, npupil)\n",
    "        for rms, band in zip([rms_L, rms_N], ['L', 'N']):\n",
    "            for case in ['scao_only', 'all_ncpa']:\n",
    "                print('writeto ' + name%(case, band, freq))\n",
    "                fits.writeto(name%(case, band, freq), np.float32(fits.getdata(scao%case) + HSF*(rms/temporal_rms)), overwrite=True)"
   ]
  }
 ],
 "metadata": {
  "kernelspec": {
   "display_name": "Python 3",
   "language": "python",
   "name": "python3"
  },
  "language_info": {
   "codemirror_mode": {
    "name": "ipython",
    "version": 3
   },
   "file_extension": ".py",
   "mimetype": "text/x-python",
   "name": "python",
   "nbconvert_exporter": "python",
   "pygments_lexer": "ipython3",
   "version": "3.7.0"
  }
 },
 "nbformat": 4,
 "nbformat_minor": 2
}

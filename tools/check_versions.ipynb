{
 "cells": [
  {
   "cell_type": "code",
   "execution_count": 1,
   "source": [
    "import proper as pr\n",
    "import vip_hci as vh\n",
    "import skimage as si\n",
    "import numpy as np\n",
    "import astropy as ap\n",
    "import matplotlib as ml\n",
    "import scipy as sp\n"
   ],
   "outputs": [],
   "metadata": {}
  },
  {
   "cell_type": "code",
   "execution_count": 2,
   "source": [
    "for module in [pr, vh, si, np, ap, ml, sp]:\n",
    "    print('%s v%s'%(module.__name__, module.__version__))"
   ],
   "outputs": [
    {
     "output_type": "stream",
     "name": "stdout",
     "text": [
      "proper v3.2.5\n",
      "vip_hci v0.9.11\n",
      "skimage v0.14.2\n",
      "numpy v1.19.4\n",
      "astropy v3.2.3\n",
      "matplotlib v2.2.3\n",
      "scipy v1.1.0\n"
     ]
    }
   ],
   "metadata": {}
  }
 ],
 "metadata": {
  "orig_nbformat": 4,
  "language_info": {
   "name": "python",
   "version": "3.7.0",
   "mimetype": "text/x-python",
   "codemirror_mode": {
    "name": "ipython",
    "version": 3
   },
   "pygments_lexer": "ipython3",
   "nbconvert_exporter": "python",
   "file_extension": ".py"
  },
  "kernelspec": {
   "name": "python3",
   "display_name": "Python 3.7.0 64-bit ('base': conda)"
  },
  "interpreter": {
   "hash": "344443636c3027c5042750c9c609acdda283a9c43681b128a8c1053e7ad2aa7d"
  }
 },
 "nbformat": 4,
 "nbformat_minor": 2
}
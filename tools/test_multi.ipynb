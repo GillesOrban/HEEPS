{
 "cells": [
  {
   "cell_type": "code",
   "execution_count": 1,
   "metadata": {},
   "outputs": [],
   "source": [
    "import numpy as np\n",
    "from heeps.util.multiCPU import multiCPU"
   ]
  },
  {
   "cell_type": "code",
   "execution_count": 2,
   "metadata": {},
   "outputs": [
    {
     "name": "stdout",
     "output_type": "stream",
     "text": [
      "[[[1. 1. 1. 1. 1.]\n",
      "  [1. 1. 1. 1. 1.]\n",
      "  [1. 1. 1. 1. 1.]\n",
      "  [2. 1. 1. 1. 1.]\n",
      "  [1. 1. 1. 1. 1.]]\n",
      "\n",
      " [[2. 2. 2. 2. 2.]\n",
      "  [2. 2. 2. 2. 2.]\n",
      "  [2. 2. 2. 2. 2.]\n",
      "  [4. 2. 2. 2. 2.]\n",
      "  [2. 2. 2. 2. 2.]]\n",
      "\n",
      " [[3. 3. 3. 3. 3.]\n",
      "  [3. 3. 3. 3. 3.]\n",
      "  [3. 3. 3. 3. 3.]\n",
      "  [6. 3. 3. 3. 3.]\n",
      "  [3. 3. 3. 3. 3.]]]\n"
     ]
    }
   ],
   "source": [
    "a = 1\n",
    "b = 2\n",
    "c = 7\n",
    "frame1 = np.ones((5,5))\n",
    "frame1[3,0] *= 2\n",
    "cube = np.float32(np.vstack(([frame1], [frame1*2], [frame1*3])))\n",
    "print(cube)"
   ]
  },
  {
   "cell_type": "code",
   "execution_count": 3,
   "metadata": {},
   "outputs": [],
   "source": [
    "def calc_zero(A):\n",
    "    return A.T[0,1:].T\n",
    "def calc_one(a, b, A, B, C, c=0):\n",
    "    D = (a*A + b*B + c*C).T\n",
    "    return D[0,1:].T\n",
    "def calc_two(a, b, A, B, C, c=0):\n",
    "    D = calc_one(a, b, A, B, C, c)\n",
    "    return D, -D"
   ]
  },
  {
   "cell_type": "markdown",
   "metadata": {},
   "source": [
    "## case zero"
   ]
  },
  {
   "cell_type": "code",
   "execution_count": 4,
   "metadata": {},
   "outputs": [
    {
     "name": "stdout",
     "output_type": "stream",
     "text": [
      "len = 4\n",
      "type = <class 'numpy.ndarray'>\n",
      "array shape = (4,)\n"
     ]
    },
    {
     "data": {
      "text/plain": [
       "array([1., 1., 2., 1.], dtype=float32)"
      ]
     },
     "execution_count": 4,
     "metadata": {},
     "output_type": "execute_result"
    }
   ],
   "source": [
    "frame0 = calc_zero(cube[0])\n",
    "print('len = %s'%len(frame0))\n",
    "print('type = %s'%type(frame0))\n",
    "print('array shape =', np.array(frame0).shape)\n",
    "frame0"
   ]
  },
  {
   "cell_type": "code",
   "execution_count": 5,
   "metadata": {},
   "outputs": [
    {
     "name": "stdout",
     "output_type": "stream",
     "text": [
      "len = 3\n",
      "type = <class 'numpy.ndarray'>\n",
      "array shape = (3, 4)\n"
     ]
    },
    {
     "data": {
      "text/plain": [
       "array([[1., 1., 2., 1.],\n",
       "       [2., 2., 4., 2.],\n",
       "       [3., 3., 6., 3.]], dtype=float32)"
      ]
     },
     "execution_count": 5,
     "metadata": {},
     "output_type": "execute_result"
    }
   ],
   "source": [
    "cube0 = calc_zero(cube)\n",
    "print('len = %s'%len(cube0))\n",
    "print('type = %s'%type(cube0))\n",
    "print('array shape =', np.array(cube0).shape)\n",
    "cube0"
   ]
  },
  {
   "cell_type": "code",
   "execution_count": 6,
   "metadata": {},
   "outputs": [
    {
     "name": "stdout",
     "output_type": "stream",
     "text": [
      "   2021-05-10 17:58:38, using 12 cores\n",
      "   2021-05-10 17:58:38, completed in 0.17 seconds\n",
      "len = 3\n",
      "type = <class 'numpy.ndarray'>\n",
      "array shape = (3, 4)\n"
     ]
    },
    {
     "data": {
      "text/plain": [
       "array([[1., 1., 2., 1.],\n",
       "       [2., 2., 4., 2.],\n",
       "       [3., 3., 6., 3.]], dtype=float32)"
      ]
     },
     "execution_count": 6,
     "metadata": {},
     "output_type": "execute_result"
    }
   ],
   "source": [
    "mult0 = multiCPU(calc_zero, posvars=[cube])\n",
    "print('len = %s'%len(mult0))\n",
    "print('type = %s'%type(mult0))\n",
    "print('array shape =', np.array(mult0).shape)\n",
    "mult0"
   ]
  },
  {
   "cell_type": "markdown",
   "metadata": {},
   "source": [
    "## case one"
   ]
  },
  {
   "cell_type": "code",
   "execution_count": 7,
   "metadata": {},
   "outputs": [
    {
     "name": "stdout",
     "output_type": "stream",
     "text": [
      "len = 4\n",
      "type = <class 'numpy.ndarray'>\n",
      "array shape = (4,)\n"
     ]
    },
    {
     "data": {
      "text/plain": [
       "array([10., 10., 20., 10.], dtype=float32)"
      ]
     },
     "execution_count": 7,
     "metadata": {},
     "output_type": "execute_result"
    }
   ],
   "source": [
    "frame1 = calc_one(a, b, cube[0], cube[0], cube[0], c)\n",
    "print('len = %s'%len(frame1))\n",
    "print('type = %s'%type(frame1))\n",
    "print('array shape =', np.array(frame1).shape)\n",
    "frame1"
   ]
  },
  {
   "cell_type": "code",
   "execution_count": 8,
   "metadata": {},
   "outputs": [
    {
     "name": "stdout",
     "output_type": "stream",
     "text": [
      "len = 3\n",
      "type = <class 'numpy.ndarray'>\n",
      "array shape = (3, 4)\n"
     ]
    },
    {
     "data": {
      "text/plain": [
       "array([[10., 10., 20., 10.],\n",
       "       [20., 20., 40., 20.],\n",
       "       [30., 30., 60., 30.]], dtype=float32)"
      ]
     },
     "execution_count": 8,
     "metadata": {},
     "output_type": "execute_result"
    }
   ],
   "source": [
    "cube1 = calc_one(a, b, cube, cube, cube, c)\n",
    "print('len = %s'%len(cube1))\n",
    "print('type = %s'%type(cube1))\n",
    "print('array shape =', np.array(cube1).shape)\n",
    "cube1"
   ]
  },
  {
   "cell_type": "code",
   "execution_count": 9,
   "metadata": {},
   "outputs": [
    {
     "name": "stdout",
     "output_type": "stream",
     "text": [
      "   2021-05-10 17:58:38, using 12 cores\n",
      "   2021-05-10 17:58:38, completed in 0.18 seconds\n",
      "len = 3\n",
      "type = <class 'numpy.ndarray'>\n",
      "array shape = (3, 4)\n"
     ]
    },
    {
     "data": {
      "text/plain": [
       "array([[10., 10., 20., 10.],\n",
       "       [20., 20., 40., 20.],\n",
       "       [30., 30., 60., 30.]], dtype=float32)"
      ]
     },
     "execution_count": 9,
     "metadata": {},
     "output_type": "execute_result"
    }
   ],
   "source": [
    "mult1 = multiCPU(calc_one, posargs=[a,b], posvars=[cube,cube,cube], kwargs=dict(c=c))\n",
    "print('len = %s'%len(mult1))\n",
    "print('type = %s'%type(mult1))\n",
    "print('array shape =', np.array(mult1).shape)\n",
    "mult1"
   ]
  },
  {
   "cell_type": "code",
   "execution_count": 10,
   "metadata": {},
   "outputs": [
    {
     "name": "stdout",
     "output_type": "stream",
     "text": [
      "   2021-05-10 17:58:38, using 1 core\n",
      "   2021-05-10 17:58:38, completed in 0.0 seconds\n",
      "len = 3\n",
      "type = <class 'numpy.ndarray'>\n",
      "array shape = (3, 4)\n"
     ]
    },
    {
     "data": {
      "text/plain": [
       "array([[10., 10., 20., 10.],\n",
       "       [20., 20., 40., 20.],\n",
       "       [30., 30., 60., 30.]], dtype=float32)"
      ]
     },
     "execution_count": 10,
     "metadata": {},
     "output_type": "execute_result"
    }
   ],
   "source": [
    "mult1 = multiCPU(calc_one, posargs=[a,b], posvars=[cube,cube,cube], kwargs=dict(c=c), cpu_count=1)\n",
    "print('len = %s'%len(mult1))\n",
    "print('type = %s'%type(mult1))\n",
    "print('array shape =', np.array(mult1).shape)\n",
    "mult1"
   ]
  },
  {
   "cell_type": "markdown",
   "metadata": {},
   "source": [
    "## case two"
   ]
  },
  {
   "cell_type": "code",
   "execution_count": 11,
   "metadata": {},
   "outputs": [
    {
     "name": "stdout",
     "output_type": "stream",
     "text": [
      "len = 2\n",
      "type = <class 'tuple'>\n",
      "array shape = (2, 4)\n"
     ]
    },
    {
     "data": {
      "text/plain": [
       "(array([10., 10., 20., 10.], dtype=float32),\n",
       " array([-10., -10., -20., -10.], dtype=float32))"
      ]
     },
     "execution_count": 11,
     "metadata": {},
     "output_type": "execute_result"
    }
   ],
   "source": [
    "frame2 = calc_two(a, b, cube[0], cube[0], cube[0], c)\n",
    "print('len = %s'%len(frame2))\n",
    "print('type = %s'%type(frame2))\n",
    "print('array shape =', np.array(frame2).shape)\n",
    "frame2"
   ]
  },
  {
   "cell_type": "code",
   "execution_count": 12,
   "metadata": {},
   "outputs": [
    {
     "name": "stdout",
     "output_type": "stream",
     "text": [
      "len = 2\n",
      "type = <class 'tuple'>\n",
      "array shape = (2, 3, 4)\n"
     ]
    },
    {
     "data": {
      "text/plain": [
       "(array([[10., 10., 20., 10.],\n",
       "        [20., 20., 40., 20.],\n",
       "        [30., 30., 60., 30.]], dtype=float32), array([[-10., -10., -20., -10.],\n",
       "        [-20., -20., -40., -20.],\n",
       "        [-30., -30., -60., -30.]], dtype=float32))"
      ]
     },
     "execution_count": 12,
     "metadata": {},
     "output_type": "execute_result"
    }
   ],
   "source": [
    "cube2 = calc_two(a, b, cube, cube, cube, c)\n",
    "print('len = %s'%len(cube2))\n",
    "print('type = %s'%type(cube2))\n",
    "print('array shape =', np.array(cube2).shape)\n",
    "cube2"
   ]
  },
  {
   "cell_type": "code",
   "execution_count": 13,
   "metadata": {},
   "outputs": [
    {
     "name": "stdout",
     "output_type": "stream",
     "text": [
      "   2021-05-10 17:58:38, using 12 cores\n",
      "   2021-05-10 17:58:38, completed in 0.17 seconds\n",
      "len = 2\n",
      "type = <class 'tuple'>\n",
      "array shape = (2, 3, 4)\n"
     ]
    },
    {
     "data": {
      "text/plain": [
       "(array([[10., 10., 20., 10.],\n",
       "        [20., 20., 40., 20.],\n",
       "        [30., 30., 60., 30.]], dtype=float32), array([[-10., -10., -20., -10.],\n",
       "        [-20., -20., -40., -20.],\n",
       "        [-30., -30., -60., -30.]], dtype=float32))"
      ]
     },
     "execution_count": 13,
     "metadata": {},
     "output_type": "execute_result"
    }
   ],
   "source": [
    "mult2 = multiCPU(calc_two, multi_out=True, \n",
    "    posargs=[a,b], posvars=[cube,cube,cube], kwargs=dict(c=c))\n",
    "print('len = %s'%len(mult2))\n",
    "print('type = %s'%type(mult2))\n",
    "print('array shape =', np.array(mult2).shape)\n",
    "mult2"
   ]
  },
  {
   "cell_type": "code",
   "execution_count": 14,
   "metadata": {},
   "outputs": [
    {
     "name": "stdout",
     "output_type": "stream",
     "text": [
      "   2021-05-10 17:58:38, using 1 core\n",
      "   2021-05-10 17:58:38, completed in 0.0 seconds\n",
      "len = 2\n",
      "type = <class 'tuple'>\n",
      "array shape = (2, 3, 4)\n"
     ]
    },
    {
     "data": {
      "text/plain": [
       "(array([[10., 10., 20., 10.],\n",
       "        [20., 20., 40., 20.],\n",
       "        [30., 30., 60., 30.]], dtype=float32), array([[-10., -10., -20., -10.],\n",
       "        [-20., -20., -40., -20.],\n",
       "        [-30., -30., -60., -30.]], dtype=float32))"
      ]
     },
     "execution_count": 14,
     "metadata": {},
     "output_type": "execute_result"
    }
   ],
   "source": [
    "mult2 = multiCPU(calc_two, multi_out=True, cpu_count=1,\n",
    "    posargs=[a,b], posvars=[cube,cube,cube], kwargs=dict(c=c))\n",
    "print('len = %s'%len(mult2))\n",
    "print('type = %s'%type(mult2))\n",
    "print('array shape =', np.array(mult2).shape)\n",
    "mult2"
   ]
  }
 ],
 "metadata": {
  "kernelspec": {
   "display_name": "Python 3.7.0 64-bit ('base': conda)",
   "name": "python370jvsc74a57bd0344443636c3027c5042750c9c609acdda283a9c43681b128a8c1053e7ad2aa7d"
  },
  "language_info": {
   "codemirror_mode": {
    "name": "ipython",
    "version": 3
   },
   "file_extension": ".py",
   "mimetype": "text/x-python",
   "name": "python",
   "nbconvert_exporter": "python",
   "pygments_lexer": "ipython3",
   "version": "3.7.0"
  },
  "orig_nbformat": 2
 },
 "nbformat": 4,
 "nbformat_minor": 2
}

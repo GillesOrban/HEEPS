{
 "metadata": {
  "language_info": {
   "codemirror_mode": {
    "name": "ipython",
    "version": 3
   },
   "file_extension": ".py",
   "mimetype": "text/x-python",
   "name": "python",
   "nbconvert_exporter": "python",
   "pygments_lexer": "ipython3",
   "version": "3.7.0"
  },
  "orig_nbformat": 2,
  "kernelspec": {
   "name": "python370jvsc74a57bd0344443636c3027c5042750c9c609acdda283a9c43681b128a8c1053e7ad2aa7d",
   "display_name": "Python 3.7.0 64-bit ('base': conda)"
  }
 },
 "nbformat": 4,
 "nbformat_minor": 2,
 "cells": [
  {
   "cell_type": "code",
   "execution_count": 1,
   "metadata": {},
   "outputs": [],
   "source": [
    "import numpy as np\n",
    "from heeps.util.multiCPU import multiCPU"
   ]
  },
  {
   "cell_type": "code",
   "execution_count": 2,
   "metadata": {},
   "outputs": [
    {
     "output_type": "stream",
     "name": "stdout",
     "text": [
      "[[[1. 1. 1. 1. 1.]\n  [1. 1. 1. 1. 1.]\n  [1. 1. 1. 1. 1.]\n  [2. 1. 1. 1. 1.]\n  [1. 1. 1. 1. 1.]]\n\n [[2. 2. 2. 2. 2.]\n  [2. 2. 2. 2. 2.]\n  [2. 2. 2. 2. 2.]\n  [4. 2. 2. 2. 2.]\n  [2. 2. 2. 2. 2.]]\n\n [[3. 3. 3. 3. 3.]\n  [3. 3. 3. 3. 3.]\n  [3. 3. 3. 3. 3.]\n  [6. 3. 3. 3. 3.]\n  [3. 3. 3. 3. 3.]]]\n"
     ]
    }
   ],
   "source": [
    "a = 1\n",
    "b = 2\n",
    "c = 7\n",
    "frame1 = np.ones((5,5))\n",
    "frame1[3,0] *= 2\n",
    "cube = np.float32(np.vstack(([frame1], [frame1*2], [frame1*3])))\n",
    "print(cube)"
   ]
  },
  {
   "cell_type": "code",
   "execution_count": 3,
   "metadata": {},
   "outputs": [],
   "source": [
    "def calc_zero(A):\n",
    "    return A.T[0,1:].T\n",
    "def calc_one(a, b, A, B, C, c=0):\n",
    "    D = (a*A + b*B + c*C).T\n",
    "    return D[0,1:].T\n",
    "def calc_two(a, b, A, B, C, c=0):\n",
    "    D = calc_one(a, b, A, B, C, c)\n",
    "    return D, -D"
   ]
  },
  {
   "source": [
    "## case zero"
   ],
   "cell_type": "markdown",
   "metadata": {}
  },
  {
   "cell_type": "code",
   "execution_count": 4,
   "metadata": {},
   "outputs": [
    {
     "output_type": "stream",
     "name": "stdout",
     "text": [
      "len = 4\ntype = <class 'numpy.ndarray'>\narray shape = (4,)\n"
     ]
    },
    {
     "output_type": "execute_result",
     "data": {
      "text/plain": [
       "array([1., 1., 2., 1.], dtype=float32)"
      ]
     },
     "metadata": {},
     "execution_count": 4
    }
   ],
   "source": [
    "frame0 = calc_zero(cube[0])\n",
    "print('len = %s'%len(frame0))\n",
    "print('type = %s'%type(frame0))\n",
    "print('array shape =', np.array(frame0).shape)\n",
    "frame0"
   ]
  },
  {
   "cell_type": "code",
   "execution_count": 5,
   "metadata": {},
   "outputs": [
    {
     "output_type": "stream",
     "name": "stdout",
     "text": [
      "len = 3\ntype = <class 'numpy.ndarray'>\narray shape = (3, 4)\n"
     ]
    },
    {
     "output_type": "execute_result",
     "data": {
      "text/plain": [
       "array([[1., 1., 2., 1.],\n",
       "       [2., 2., 4., 2.],\n",
       "       [3., 3., 6., 3.]], dtype=float32)"
      ]
     },
     "metadata": {},
     "execution_count": 5
    }
   ],
   "source": [
    "cube0 = calc_zero(cube)\n",
    "print('len = %s'%len(cube0))\n",
    "print('type = %s'%type(cube0))\n",
    "print('array shape =', np.array(cube0).shape)\n",
    "cube0"
   ]
  },
  {
   "cell_type": "code",
   "execution_count": 6,
   "metadata": {},
   "outputs": [
    {
     "output_type": "stream",
     "name": "stdout",
     "text": [
      "   2021-05-10 17:58:38, using 12 cores\n",
      "   2021-05-10 17:58:38, completed in 0.17 seconds\n",
      "len = 3\n",
      "type = <class 'numpy.ndarray'>\n",
      "array shape = (3, 4)\n"
     ]
    },
    {
     "output_type": "execute_result",
     "data": {
      "text/plain": [
       "array([[1., 1., 2., 1.],\n",
       "       [2., 2., 4., 2.],\n",
       "       [3., 3., 6., 3.]], dtype=float32)"
      ]
     },
     "metadata": {},
     "execution_count": 6
    }
   ],
   "source": [
    "mult0 = multiCPU(calc_zero, posvars=[cube])\n",
    "print('len = %s'%len(mult0))\n",
    "print('type = %s'%type(mult0))\n",
    "print('array shape =', np.array(mult0).shape)\n",
    "mult0"
   ]
  },
  {
   "source": [
    "## case one"
   ],
   "cell_type": "markdown",
   "metadata": {}
  },
  {
   "cell_type": "code",
   "execution_count": 7,
   "metadata": {},
   "outputs": [
    {
     "output_type": "stream",
     "name": "stdout",
     "text": [
      "len = 4\ntype = <class 'numpy.ndarray'>\narray shape = (4,)\n"
     ]
    },
    {
     "output_type": "execute_result",
     "data": {
      "text/plain": [
       "array([10., 10., 20., 10.], dtype=float32)"
      ]
     },
     "metadata": {},
     "execution_count": 7
    }
   ],
   "source": [
    "frame1 = calc_one(a, b, cube[0], cube[0], cube[0], c)\n",
    "print('len = %s'%len(frame1))\n",
    "print('type = %s'%type(frame1))\n",
    "print('array shape =', np.array(frame1).shape)\n",
    "frame1"
   ]
  },
  {
   "cell_type": "code",
   "execution_count": 8,
   "metadata": {},
   "outputs": [
    {
     "output_type": "stream",
     "name": "stdout",
     "text": [
      "len = 3\n",
      "type = <class 'numpy.ndarray'>\n",
      "array shape = (3, 4)\n"
     ]
    },
    {
     "output_type": "execute_result",
     "data": {
      "text/plain": [
       "array([[10., 10., 20., 10.],\n",
       "       [20., 20., 40., 20.],\n",
       "       [30., 30., 60., 30.]], dtype=float32)"
      ]
     },
     "metadata": {},
     "execution_count": 8
    }
   ],
   "source": [
    "cube1 = calc_one(a, b, cube, cube, cube, c)\n",
    "print('len = %s'%len(cube1))\n",
    "print('type = %s'%type(cube1))\n",
    "print('array shape =', np.array(cube1).shape)\n",
    "cube1"
   ]
  },
  {
   "cell_type": "code",
   "execution_count": 9,
   "metadata": {},
   "outputs": [
    {
     "output_type": "stream",
     "name": "stdout",
     "text": [
      "   2021-05-10 17:58:38, using 12 cores\n",
      "   2021-05-10 17:58:38, completed in 0.18 seconds\n",
      "len = 3\n",
      "type = <class 'numpy.ndarray'>\n",
      "array shape = (3, 4)\n"
     ]
    },
    {
     "output_type": "execute_result",
     "data": {
      "text/plain": [
       "array([[10., 10., 20., 10.],\n",
       "       [20., 20., 40., 20.],\n",
       "       [30., 30., 60., 30.]], dtype=float32)"
      ]
     },
     "metadata": {},
     "execution_count": 9
    }
   ],
   "source": [
    "mult1 = multiCPU(calc_one, posargs=[a,b], posvars=[cube,cube,cube], kwargs=dict(c=c))\n",
    "print('len = %s'%len(mult1))\n",
    "print('type = %s'%type(mult1))\n",
    "print('array shape =', np.array(mult1).shape)\n",
    "mult1"
   ]
  },
  {
   "cell_type": "code",
   "execution_count": 10,
   "metadata": {},
   "outputs": [
    {
     "output_type": "stream",
     "name": "stdout",
     "text": [
      "   2021-05-10 17:58:38, using 1 core\n   2021-05-10 17:58:38, completed in 0.0 seconds\nlen = 3\ntype = <class 'numpy.ndarray'>\narray shape = (3, 4)\n"
     ]
    },
    {
     "output_type": "execute_result",
     "data": {
      "text/plain": [
       "array([[10., 10., 20., 10.],\n",
       "       [20., 20., 40., 20.],\n",
       "       [30., 30., 60., 30.]], dtype=float32)"
      ]
     },
     "metadata": {},
     "execution_count": 10
    }
   ],
   "source": [
    "mult1 = multiCPU(calc_one, posargs=[a,b], posvars=[cube,cube,cube], kwargs=dict(c=c), cpu_count=1)\n",
    "print('len = %s'%len(mult1))\n",
    "print('type = %s'%type(mult1))\n",
    "print('array shape =', np.array(mult1).shape)\n",
    "mult1"
   ]
  },
  {
   "source": [
    "## case two"
   ],
   "cell_type": "markdown",
   "metadata": {}
  },
  {
   "cell_type": "code",
   "execution_count": 11,
   "metadata": {},
   "outputs": [
    {
     "output_type": "stream",
     "name": "stdout",
     "text": [
      "len = 2\ntype = <class 'tuple'>\narray shape = (2, 4)\n"
     ]
    },
    {
     "output_type": "execute_result",
     "data": {
      "text/plain": [
       "(array([10., 10., 20., 10.], dtype=float32),\n",
       " array([-10., -10., -20., -10.], dtype=float32))"
      ]
     },
     "metadata": {},
     "execution_count": 11
    }
   ],
   "source": [
    "frame2 = calc_two(a, b, cube[0], cube[0], cube[0], c)\n",
    "print('len = %s'%len(frame2))\n",
    "print('type = %s'%type(frame2))\n",
    "print('array shape =', np.array(frame2).shape)\n",
    "frame2"
   ]
  },
  {
   "cell_type": "code",
   "execution_count": 12,
   "metadata": {},
   "outputs": [
    {
     "output_type": "stream",
     "name": "stdout",
     "text": [
      "len = 2\ntype = <class 'tuple'>\narray shape = (2, 3, 4)\n"
     ]
    },
    {
     "output_type": "execute_result",
     "data": {
      "text/plain": [
       "(array([[10., 10., 20., 10.],\n",
       "        [20., 20., 40., 20.],\n",
       "        [30., 30., 60., 30.]], dtype=float32), array([[-10., -10., -20., -10.],\n",
       "        [-20., -20., -40., -20.],\n",
       "        [-30., -30., -60., -30.]], dtype=float32))"
      ]
     },
     "metadata": {},
     "execution_count": 12
    }
   ],
   "source": [
    "cube2 = calc_two(a, b, cube, cube, cube, c)\n",
    "print('len = %s'%len(cube2))\n",
    "print('type = %s'%type(cube2))\n",
    "print('array shape =', np.array(cube2).shape)\n",
    "cube2"
   ]
  },
  {
   "cell_type": "code",
   "execution_count": 13,
   "metadata": {},
   "outputs": [
    {
     "output_type": "stream",
     "name": "stdout",
     "text": [
      "   2021-05-10 17:58:38, using 12 cores\n",
      "   2021-05-10 17:58:38, completed in 0.17 seconds\n",
      "len = 2\n",
      "type = <class 'tuple'>\n",
      "array shape = (2, 3, 4)\n"
     ]
    },
    {
     "output_type": "execute_result",
     "data": {
      "text/plain": [
       "(array([[10., 10., 20., 10.],\n",
       "        [20., 20., 40., 20.],\n",
       "        [30., 30., 60., 30.]], dtype=float32), array([[-10., -10., -20., -10.],\n",
       "        [-20., -20., -40., -20.],\n",
       "        [-30., -30., -60., -30.]], dtype=float32))"
      ]
     },
     "metadata": {},
     "execution_count": 13
    }
   ],
   "source": [
    "mult2 = multiCPU(calc_two, posargs=[a,b], posvars=[cube,cube,cube], kwargs=dict(c=c), nout=2)\n",
    "print('len = %s'%len(mult2))\n",
    "print('type = %s'%type(mult2))\n",
    "print('array shape =', np.array(mult2).shape)\n",
    "mult2"
   ]
  },
  {
   "cell_type": "code",
   "execution_count": 14,
   "metadata": {},
   "outputs": [
    {
     "output_type": "stream",
     "name": "stdout",
     "text": [
      "   2021-05-10 17:58:38, using 1 core\n   2021-05-10 17:58:38, completed in 0.0 seconds\nlen = 2\ntype = <class 'tuple'>\narray shape = (2, 3, 4)\n"
     ]
    },
    {
     "output_type": "execute_result",
     "data": {
      "text/plain": [
       "(array([[10., 10., 20., 10.],\n",
       "        [20., 20., 40., 20.],\n",
       "        [30., 30., 60., 30.]], dtype=float32), array([[-10., -10., -20., -10.],\n",
       "        [-20., -20., -40., -20.],\n",
       "        [-30., -30., -60., -30.]], dtype=float32))"
      ]
     },
     "metadata": {},
     "execution_count": 14
    }
   ],
   "source": [
    "mult2 = multiCPU(calc_two, posargs=[a,b], posvars=[cube,cube,cube], kwargs=dict(c=c), nout=2, cpu_count=1)\n",
    "print('len = %s'%len(mult2))\n",
    "print('type = %s'%type(mult2))\n",
    "print('array shape =', np.array(mult2).shape)\n",
    "mult2"
   ]
  }
 ]
}
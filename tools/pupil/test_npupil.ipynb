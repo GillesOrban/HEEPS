{
 "cells": [
  {
   "cell_type": "code",
   "execution_count": 1,
   "metadata": {},
   "outputs": [],
   "source": [
    "from heeps.util.img_processing import resize_img, pad_img, crop_img, oversamp\n",
    "from heeps.util.round2odd import round2odd\n",
    "import astropy.units as u"
   ]
  },
  {
   "cell_type": "code",
   "execution_count": 2,
   "metadata": {},
   "outputs": [],
   "source": [
    "nimg = 10526\n",
    "ngrid = 1024\n",
    "pscale = 5.47*u.mas.to('rad')\n",
    "lam = 3.81e-6\n",
    "pup_img_size = 40\n",
    "diam_ext = 37\n",
    "npup_hr = 3280*45/127\n",
    "pupil_scaling = 4"
   ]
  },
  {
   "cell_type": "code",
   "execution_count": 3,
   "metadata": {},
   "outputs": [
    {
     "name": "stdout",
     "output_type": "stream",
     "text": [
      "3.8113363869827678e-06 285\n",
      "40 5.47\n"
     ]
    }
   ],
   "source": [
    "lam_npupil = pup_img_size*ngrid*pscale\n",
    "npupil = round2odd(lam_npupil/lam)\n",
    "lam = lam_npupil/npupil\n",
    "print(lam, npupil)\n",
    "print(pup_img_size, pscale*u.rad.to('mas'))"
   ]
  },
  {
   "cell_type": "code",
   "execution_count": 4,
   "metadata": {},
   "outputs": [
    {
     "name": "stdout",
     "output_type": "stream",
     "text": [
      "1162.2047244094488 10526\n",
      "10805 1193 1.0265057951738552\n",
      "41.06023180695421 5.576497516581829\n"
     ]
    }
   ],
   "source": [
    "print(npup_hr, nimg)\n",
    "nimg_pad, npup_vpm = oversamp(nimg, npup_hr, precision=1e-2)\n",
    "print(nimg_pad, npup_vpm, nimg_pad/nimg)\n",
    "ngrid_vpm = pupil_scaling*ngrid\n",
    "pup_img_size_vpm = pup_img_size*nimg_pad/nimg\n",
    "pscale_vpm = pscale*npup_vpm/(pupil_scaling*npupil)*nimg/nimg_pad\n",
    "print(pup_img_size_vpm, pscale_vpm*u.rad.to('mas'))\n"
   ]
  },
  {
   "cell_type": "code",
   "execution_count": 5,
   "metadata": {},
   "outputs": [
    {
     "name": "stdout",
     "output_type": "stream",
     "text": [
      "0.2574462890625 0.26245860906951357\n",
      "1192.9999999999998 1193 3.811336386982767e-06\n"
     ]
    }
   ],
   "source": [
    "beam_ratio1 = diam_ext/pup_img_size*npupil/ngrid\n",
    "beam_ratio2 = diam_ext/pup_img_size_vpm*npup_vpm/ngrid_vpm\n",
    "print(beam_ratio1, beam_ratio2)\n",
    "\n",
    "lam_npupil = pup_img_size_vpm*ngrid_vpm*pscale_vpm\n",
    "npupil2 = round2odd(lam_npupil/lam)\n",
    "lam2 = lam_npupil/npupil2\n",
    "print(lam_npupil/lam, npupil2, lam2)"
   ]
  }
 ],
 "metadata": {
  "interpreter": {
   "hash": "cd78fef2128015050713e82ca51c6520b11aee7c9ee8df750520bbbc7384cbaa"
  },
  "kernelspec": {
   "display_name": "Python 3.7.0 ('base')",
   "language": "python",
   "name": "python3"
  },
  "language_info": {
   "codemirror_mode": {
    "name": "ipython",
    "version": 3
   },
   "file_extension": ".py",
   "mimetype": "text/x-python",
   "name": "python",
   "nbconvert_exporter": "python",
   "pygments_lexer": "ipython3",
   "version": "3.7.0"
  },
  "orig_nbformat": 4
 },
 "nbformat": 4,
 "nbformat_minor": 2
}

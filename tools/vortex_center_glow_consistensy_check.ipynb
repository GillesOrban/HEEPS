{
 "cells": [
  {
   "cell_type": "markdown",
   "metadata": {},
   "source": [
    "# Vortex center glow"
   ]
  },
  {
   "cell_type": "markdown",
   "metadata": {},
   "source": [
    "The aim of this simulation is to model the vortex center glow effect, which is caused to diffraction of the thermal emission from the environment outside the entrance pupil to the pupil image formed on the detector, by the vortex phase mask. \n",
    "To model the effect, several points outside the entrance pupil are taken and their intensity on the detector is evaluated. Net effect is determined by adding contributions from all these points."
   ]
  },
  {
   "cell_type": "markdown",
   "metadata": {},
   "source": [
    "### Imports"
   ]
  },
  {
   "cell_type": "code",
   "execution_count": 13,
   "metadata": {},
   "outputs": [],
   "source": [
    "import heeps\n",
    "from heeps.optics.lens import lens, lens_offset\n",
    "from heeps.optics.vortex_init import vortex_init\n",
    "from heeps.util.coord import cart_coord, polar_coord\n",
    "from heeps.util.img_processing import resize_img, crop_img, pad_img, get_radial_profile\n",
    "from heeps.optics import lyot_stop, detector\n",
    "from copy import deepcopy\n",
    "import proper\n",
    "import numpy as np\n",
    "np.set_printoptions(threshold=np.inf, linewidth=200)\n",
    "import os.path\n",
    "from astropy.io import fits\n",
    "import matplotlib.pyplot as plt\n",
    "import multiprocessing as mpro\n",
    "from functools import partial\n",
    "from sys import platform\n",
    "import time\n",
    "%matplotlib inline"
   ]
  },
  {
   "cell_type": "markdown",
   "metadata": {},
   "source": [
    "### Input parameters"
   ]
  },
  {
   "cell_type": "code",
   "execution_count": 14,
   "metadata": {},
   "outputs": [],
   "source": [
    "diam_ext_cold_stop = 40.944\n",
    "diam_int_cold_stop = 7.363\n",
    "diam_ext_eff = 37.812\n",
    "diam_int_eff = 10.196\n",
    "r_spot = 0.1 # m\n",
    "rad = 4.998\n",
    "theta = 60\n",
    "ncrop = 101 # for psf visualization\n",
    "#Roy's input\n",
    "flux_env_per_m2 = 1.213e+03 # [photons/s/m2/pix]\n",
    "flux_spi_per_m2 = 1.001e+03 # [photons/s/m2/pix]\n",
    "flux_env = 3.3403e+05 # [photons/s/pix]\n",
    "flux_spi = 4.47823e+04 # [photons/s/pix]"
   ]
  },
  {
   "cell_type": "markdown",
   "metadata": {},
   "source": [
    "### Initialize wavefront using PROPER"
   ]
  },
  {
   "cell_type": "code",
   "execution_count": 15,
   "metadata": {},
   "outputs": [
    {
     "name": "stdout",
     "output_type": "stream",
     "text": [
      "Simulation config: band=L, mode=CVC\n",
      "‾‾‾‾‾‾‾‾‾‾‾‾‾‾‾‾‾‾\n",
      "   loading vortex back-propagation params\n",
      "   vc_charge=2, ngrid=1024, beam_ratio=0.2847\n",
      "   npupil=293, pscale=5.47 mas, lam=3.8133E-06 m\n",
      "   hfov=1.0 arcsec (-> ndet=365, 51.97 lam/D)\n",
      "\n",
      "293\n"
     ]
    }
   ],
   "source": [
    "conf = dict(\n",
    "#    dir_current = '/Users/cdelacroix/dox/METIS/METIS_HCI_HEEPS_simulations/VCG',\n",
    "    band = 'L',\n",
    "    mode = 'CVC',\n",
    "    file_lyot_stop = 'pupil/ls_VCG_293_spi_0.54.fits',\n",
    "    dir_output = 'VCG',\n",
    "    cpu_count = None,\n",
    "    hfov = 1,\n",
    "    pupil_img_size = diam_ext_cold_stop + 2*r_spot,\n",
    "    diam_ext = diam_ext_cold_stop, \n",
    "    diam_int = diam_int_cold_stop,\n",
    "    )\n",
    "conf = heeps.config.read_config(verbose=False, **conf)\n",
    "conf = heeps.config.update_config(saveconf=True, verbose=True, **conf)\n",
    "dir_current = conf['dir_current']\n",
    "dir_output = conf['dir_output']\n",
    "npupil = conf['npupil']\n",
    "ngrid = conf['ngrid']\n",
    "diam_ext = conf['diam_ext']\n",
    "pupil_img_size = conf['pupil_img_size']\n",
    "lam = conf['lam']\n",
    "pscale = conf['pscale']\n",
    "spi_width = conf['spi_width']\n",
    "ndet = conf['ndet']\n",
    "cpu_count = conf['cpu_count']\n",
    "beam_ratio = npupil/ngrid*(diam_ext/pupil_img_size)\n",
    "wf = proper.prop_begin(pupil_img_size, lam, ngrid, beam_ratio)\n",
    "print(npupil)"
   ]
  },
  {
   "cell_type": "markdown",
   "metadata": {},
   "source": [
    "### Create cold stop"
   ]
  },
  {
   "cell_type": "code",
   "execution_count": 16,
   "metadata": {},
   "outputs": [
    {
     "name": "stdout",
     "output_type": "stream",
     "text": [
      "(293, 293)\n"
     ]
    },
    {
     "data": {
      "image/png": "[encoded data removed]",
      "text/plain": [
       "<Figure size 432x288 with 1 Axes>"
      ]
     },
     "metadata": {
      "needs_background": "light"
     },
     "output_type": "display_data"
    }
   ],
   "source": [
    "conf_stop = dict(conf, spi_width=0, seg_width=0)\n",
    "cold_stop = heeps.pupil.create_pupil(**conf_stop)\n",
    "print(cold_stop.shape)\n",
    "plt.imshow(cold_stop), plt.xlabel('pixels'), plt.ylabel('pixels');\n",
    "cold_stop = pad_img(cold_stop, ngrid)"
   ]
  },
  {
   "cell_type": "markdown",
   "metadata": {},
   "source": [
    "### Create a spot, normalized by square meter of surface"
   ]
  },
  {
   "cell_type": "code",
   "execution_count": 17,
   "metadata": {},
   "outputs": [],
   "source": [
    "def create_spot(rad, theta, nimg=10526):\n",
    "    x, y = cart_coord(nimg)\n",
    "    x *= pupil_img_size/2\n",
    "    y *= pupil_img_size/2\n",
    "    c = (rad*np.cos(np.deg2rad(theta)), rad*np.sin(np.deg2rad(theta)))\n",
    "    r =  np.abs((x-c[0]) + 1j*(y-c[1]))\n",
    "    spot = (r <= r_spot)                    # create a spot\n",
    "    spot = resize_img(spot, npupil)         # resize to npupil\n",
    "    spot = pad_img(spot, ngrid)             # pad with zeros\n",
    "    # normalize the entrance pupil intensity (total flux = 1/spot_area)\n",
    "    I_spot = spot**2\n",
    "    spot_area = np.pi*r_spot**2\n",
    "    spot = np.sqrt(I_spot/spot_area)\n",
    "    return spot"
   ]
  },
  {
   "cell_type": "markdown",
   "metadata": {},
   "source": [
    "### vortex phase mask(VPM)"
   ]
  },
  {
   "cell_type": "code",
   "execution_count": 18,
   "metadata": {},
   "outputs": [],
   "source": [
    "def fp_mask(wf, rad, mode='RAVC', focal=660, vc_zoffset=1e-3/2, verbose=False, **conf):\n",
    "        if verbose is True:\n",
    "            print('   apply vortex phase mask')                        \n",
    "        # update conf\n",
    "        conf.update(focal=focal)\n",
    "        # propagate to vortex\n",
    "        lens_offset(wf, focal, offset_after=vc_zoffset)\n",
    "        # load vortex calibration files: psf_num, vvc, perf_num\n",
    "        conf = vortex_init(verbose=verbose, **conf)\n",
    "        # intensity before rescaling\n",
    "        int_distri = (proper.prop_get_amplitude(wf))**2\n",
    "        print('Intensity at CFO-PP2, before rescaling = %s photons/s/m\\u00b2'%np.sum(int_distri))\n",
    "        # get maximum aplitude \n",
    "        amp_array = proper.prop_get_amplitude(wf)\n",
    "        amp_max = np.amax(amp_array)\n",
    "        print('Intensity of the pixel with max. intensity = %s photons/s/m\\u00b2/pix'%\"{:.2E}\".format(amp_max))\n",
    "        #rescale flux\n",
    "        if rad in np.arange(diam_ext_eff/2 + r_spot, diam_ext_cold_stop/2 + r_spot, 2*r_spot):\n",
    "            proper.prop_multiply(wf, np.sqrt(flux_spi_per_m2)/amp_max)\n",
    "            print('Intensity of the pixel with max. intensity, rescaled to %s photons/s/m\\u00b2/pix'%\"{:.2E}\".format(flux_spi_per_m2))\n",
    "        else:\n",
    "            proper.prop_multiply(wf, np.sqrt(flux_env_per_m2)/amp_max)\n",
    "            print('Intensity of the pixel with max. intensity, rescaled to %s photons/s/m\\u00b2/pix'%\"{:.2E}\".format(flux_env_per_m2))\n",
    "        # intensity before vortex\n",
    "        int_distri = (proper.prop_get_amplitude(wf))**2\n",
    "        print('Intensity just before VPM = %s photons/s/m\\u00b2'%\"{:.2E}\".format(np.sum(int_distri)))\n",
    "        # apply vortex\n",
    "        scale_psf = wf._wfarr[0,0]/conf['psf_num'][0,0]\n",
    "        wf_corr = (conf['psf_num']*conf['vvc'] - conf['perf_num'])*scale_psf\n",
    "        wf._wfarr = wf._wfarr*conf['vvc'] - wf_corr\n",
    "        # intensity after vortex\n",
    "        int_distri = (proper.prop_get_amplitude(wf))**2\n",
    "        print('Intensity just after VPM = %s photons/s/m\\u00b2'%\"{:.2E}\".format(np.sum(int_distri)))\n",
    "        # propagate to lyot stop\n",
    "        lens_offset(wf, focal, offset_before=-vc_zoffset)\n",
    "        return wf"
   ]
  },
  {
   "cell_type": "markdown",
   "metadata": {},
   "source": [
    "### Propagate spot"
   ]
  },
  {
   "cell_type": "markdown",
   "metadata": {},
   "source": [
    "#### create a normalized spot"
   ]
  },
  {
   "cell_type": "code",
   "execution_count": 19,
   "metadata": {},
   "outputs": [
    {
     "name": "stdout",
     "output_type": "stream",
     "text": [
      "Intensity of the spot = 17.727089 photons/s/m²\n"
     ]
    }
   ],
   "source": [
    "spot = create_spot(rad, theta)\n",
    "print('Intensity of the spot = %s photons/s/m\\u00b2'%np.sum(spot**2))\n",
    "#plt.imshow(spot)"
   ]
  },
  {
   "cell_type": "markdown",
   "metadata": {},
   "source": [
    "#### add spot to wavefront"
   ]
  },
  {
   "cell_type": "code",
   "execution_count": 20,
   "metadata": {},
   "outputs": [
    {
     "name": "stdout",
     "output_type": "stream",
     "text": [
      "Intensity at the entrance pupil = 17.727086919626096 photons/s/m²\n"
     ]
    }
   ],
   "source": [
    "# keep a copy of the input wavefront\n",
    "wf1 = deepcopy(wf)\n",
    "# add spot to wavefront\n",
    "proper.prop_multiply(wf1, spot)\n",
    "int_distri = (proper.prop_get_amplitude(wf1))**2\n",
    "print('Intensity at the entrance pupil = %s photons/s/m\\u00b2'%np.sum(int_distri))\n",
    "#plt.imshow(int_distri)"
   ]
  },
  {
   "cell_type": "markdown",
   "metadata": {},
   "source": [
    "#### apply cold stop"
   ]
  },
  {
   "cell_type": "code",
   "execution_count": 21,
   "metadata": {},
   "outputs": [
    {
     "name": "stdout",
     "output_type": "stream",
     "text": [
      "Intensity after cold stop = 17.727086919626096 photons/s/m²\n"
     ]
    }
   ],
   "source": [
    "proper.prop_multiply(wf1, cold_stop)\n",
    "int_distri = (proper.prop_get_amplitude(wf1))**2\n",
    "print('Intensity after cold stop = %s photons/s/m\\u00b2'%np.sum(int_distri))\n",
    "#plt.imshow(int_distri)"
   ]
  },
  {
   "cell_type": "markdown",
   "metadata": {},
   "source": [
    "#### apply vortex phase mask (VPM)"
   ]
  },
  {
   "cell_type": "code",
   "execution_count": 22,
   "metadata": {},
   "outputs": [
    {
     "name": "stdout",
     "output_type": "stream",
     "text": [
      "Intensity at CFO-PP2, before rescaling = 17.727086919626103 photons/s/m²\n",
      "Intensity of the pixel with max. intensity = 8.78E-03 photons/s/m²/pix\n",
      "Intensity of the pixel with max. intensity, rescaled to 1.21E+03 photons/s/m²/pix\n",
      "Intensity just before VPM = 2.79E+08 photons/s/m²\n",
      "Intensity just after VPM = 2.79E+08 photons/s/m²\n"
     ]
    }
   ],
   "source": [
    "wf1 = fp_mask(wf1, rad, **conf)\n",
    "int_distri = (proper.prop_get_amplitude(wf1))**2\n",
    "pix_tot = int_distri.shape[0]**2\n",
    "#plt.imshow(int_distri)"
   ]
  },
  {
   "cell_type": "markdown",
   "metadata": {},
   "source": [
    "#### apply lyot stop"
   ]
  },
  {
   "cell_type": "code",
   "execution_count": 23,
   "metadata": {},
   "outputs": [
    {
     "name": "stdout",
     "output_type": "stream",
     "text": [
      "Intensity after lyot stop = 1.68E+06 photons/s/m²\n"
     ]
    },
    {
     "data": {
      "text/plain": [
       "<matplotlib.image.AxesImage at 0x17e1b8f2320>"
      ]
     },
     "execution_count": 23,
     "metadata": {},
     "output_type": "execute_result"
    },
    {
     "data": {
      "image/png": "[encoded data removed]",
      "text/plain": [
       "<Figure size 432x288 with 1 Axes>"
      ]
     },
     "metadata": {
      "needs_background": "light"
     },
     "output_type": "display_data"
    }
   ],
   "source": [
    "wf1 = lyot_stop(wf1, **conf)\n",
    "int_distri = (proper.prop_get_amplitude(wf1))**2\n",
    "print('Intensity after lyot stop = %s photons/s/m\\u00b2'%\"{:.2E}\".format(np.sum(int_distri)))\n",
    "plt.imshow(int_distri)"
   ]
  },
  {
   "cell_type": "markdown",
   "metadata": {},
   "source": [
    "#### propogate to detector"
   ]
  },
  {
   "cell_type": "code",
   "execution_count": 24,
   "metadata": {},
   "outputs": [
    {
     "name": "stdout",
     "output_type": "stream",
     "text": [
      "Intensity at the detector = 1.48E+06 photons/s/m²\n",
      "Intensity of the pixel with max. intensity = 2.54E+03 photons/s/m²/pix\n"
     ]
    },
    {
     "data": {
      "text/plain": [
       "<matplotlib.image.AxesImage at 0x17e1ad4d550>"
      ]
     },
     "execution_count": 24,
     "metadata": {},
     "output_type": "execute_result"
    },
    {
     "data": {
      "image/png": "[encoded data removed]",
      "text/plain": [
       "<Figure size 432x288 with 1 Axes>"
      ]
     },
     "metadata": {
      "needs_background": "light"
     },
     "output_type": "display_data"
    }
   ],
   "source": [
    "psf = detector(wf1, **conf)\n",
    "print('Intensity at the detector = %s photons/s/m\\u00b2'%\"{:.2E}\".format(np.sum(psf)))\n",
    "print('Intensity of the pixel with max. intensity = %s photons/s/m\\u00b2/pix'%\"{:.2E}\".format(np.amax(psf)))\n",
    "plt.imshow(psf)"
   ]
  },
  {
   "cell_type": "code",
   "execution_count": null,
   "metadata": {},
   "outputs": [],
   "source": []
  }
 ],
 "metadata": {
  "kernelspec": {
   "display_name": "Python 3",
   "language": "python",
   "name": "python3"
  },
  "language_info": {
   "codemirror_mode": {
    "name": "ipython",
    "version": 3
   },
   "file_extension": ".py",
   "mimetype": "text/x-python",
   "name": "python",
   "nbconvert_exporter": "python",
   "pygments_lexer": "ipython3",
   "version": "3.7.3"
  }
 },
 "nbformat": 4,
 "nbformat_minor": 4
}

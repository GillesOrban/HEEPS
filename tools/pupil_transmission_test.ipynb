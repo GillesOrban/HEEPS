{
 "cells": [
  {
   "cell_type": "markdown",
   "metadata": {},
   "source": [
    "# PupilTransmission tests"
   ]
  },
  {
   "cell_type": "markdown",
   "metadata": {},
   "source": [
    "This notebook features integration tests of the `PupilTransmission` class. They are based on L-band imaging of a star and test that the measured flux in the simulated images varies in proportion to the throughput of the `PupilTransmission`."
   ]
  },
  {
   "cell_type": "code",
   "execution_count": 1,
   "metadata": {},
   "outputs": [],
   "source": [
    "import numpy as np\n",
    "from matplotlib import pyplot as plt\n",
    "%matplotlib inline"
   ]
  },
  {
   "cell_type": "code",
   "execution_count": 2,
   "metadata": {},
   "outputs": [],
   "source": [
    "import scopesim as sim"
   ]
  },
  {
   "cell_type": "code",
   "execution_count": 3,
   "metadata": {},
   "outputs": [
    {
     "name": "stdout",
     "output_type": "stream",
     "text": [
      "Python:\n",
      " 3.9.7 (default, Sep 24 2021, 09:43:00) \n",
      "[GCC 10.3.0]\n",
      "\n",
      "scopesim :  0.1.1\n",
      "numpy :  1.21.2\n",
      "scipy :  1.7.1\n",
      "astropy :  4.3.1\n",
      "matplotlib :  3.4.3\n",
      "synphot :  1.0.1\n",
      "requests :  2.25.1\n",
      "bs4 :  4.9.3\n",
      "yaml :  5.3.1\n",
      "\n",
      "Operating system:  Linux\n",
      "         Release:  5.14.0-1-amd64\n",
      "         Version:  #1 SMP Debian 5.14.6-2 (2021-09-19)\n",
      "         Machine:  x86_64\n"
     ]
    }
   ],
   "source": [
    "sim.bug_report()"
   ]
  },
  {
   "cell_type": "code",
   "execution_count": 4,
   "metadata": {},
   "outputs": [],
   "source": [
    "import os\n",
    "PKGS_DIR = os.path.abspath(\n",
    "    os.path.join(\n",
    "        os.path.dirname(\"/home/oczoske/ELT_Development/irdb/METIS\")))\n",
    "sim.rc.__config__[\"!SIM.file.local_packages_path\"] = PKGS_DIR"
   ]
  },
  {
   "cell_type": "code",
   "execution_count": 5,
   "metadata": {},
   "outputs": [],
   "source": [
    "cmds = sim.UserCommands(use_instrument=\"METIS\", set_modes=['img_lm'])"
   ]
  },
  {
   "cell_type": "markdown",
   "metadata": {},
   "source": [
    "The pupil transmission is given by the parameter `!INST.pupil_transmission`, which defaults to 1. In the current implementation it needs to be set before building the optical train. Also, the optical train needs to be rebuilt every time that `!INST.pupil_transmission` is changed."
   ]
  },
  {
   "cell_type": "code",
   "execution_count": 6,
   "metadata": {},
   "outputs": [],
   "source": [
    "metis = sim.OpticalTrain(cmds)"
   ]
  },
  {
   "cell_type": "code",
   "execution_count": 7,
   "metadata": {},
   "outputs": [
    {
     "data": {
      "text/html": [
       "<div><i>Table length=21</i>\n",
       "<table id=\"table140484424198704\" class=\"table-striped table-bordered table-condensed\">\n",
       "<thead><tr><th>element</th><th>name</th><th>class</th><th>included</th><th>z_orders</th></tr></thead>\n",
       "<thead><tr><th>str27</th><th>str32</th><th>str22</th><th>str9</th><th>object</th></tr></thead>\n",
       "<tr><td>armazones</td><td>armazones_atmo_skycalc_ter_curve</td><td>SkycalcTERCurve</td><td>True</td><td>[112, 512]</td></tr>\n",
       "<tr><td>armazones</td><td>armazones_atmo_dispersion</td><td>AtmosphericDispersion</td><td>False</td><td>[231]</td></tr>\n",
       "<tr><td>armazones</td><td>armazones_atmo_default_ter_curve</td><td>AtmosphericTERCurve</td><td>False</td><td>[111, 511]</td></tr>\n",
       "<tr><td>ELT</td><td>eso_combined_reflection</td><td>SurfaceList</td><td>True</td><td>[20, 120, 520]</td></tr>\n",
       "<tr><td>ELT</td><td>scope_vibration</td><td>Vibration</td><td>False</td><td>[244, 744]</td></tr>\n",
       "<tr><td>ELT</td><td>scope_surface_list</td><td>SurfaceList</td><td>False</td><td>[20, 120, 520]</td></tr>\n",
       "<tr><td>METIS</td><td>metis_cfo_surfaces</td><td>SurfaceList</td><td>True</td><td>[20, 120, 520]</td></tr>\n",
       "<tr><td>METIS</td><td>slit_wheel</td><td>SlitWheel</td><td>!OBS.slit</td><td>[80, 280, 580]</td></tr>\n",
       "<tr><td>METIS</td><td>cold_stop</td><td>PupilTransmission</td><td>True</td><td>[10, 110, 510]</td></tr>\n",
       "<tr><td>METIS_IMG_LM</td><td>metis_img_lm_mirror_list</td><td>SurfaceList</td><td>True</td><td>[20, 120, 520]</td></tr>\n",
       "<tr><td>METIS_IMG_LM</td><td>filter_wheel</td><td>FilterWheel</td><td>True</td><td>[124, 224, 524]</td></tr>\n",
       "<tr><td>METIS_IMG_LM</td><td>nd_filter_wheel</td><td>FilterWheel</td><td>True</td><td>[124, 224, 524]</td></tr>\n",
       "<tr><td>METIS_IMG_LM</td><td>metis_psf_img</td><td>FieldConstantPSF</td><td>True</td><td>[262, 662]</td></tr>\n",
       "<tr><td>metis_img_lm_detector_array</td><td>detector_array_list</td><td>DetectorList</td><td>True</td><td>[90, 290, 390, 490]</td></tr>\n",
       "<tr><td>metis_img_lm_detector_array</td><td>detector_window</td><td>DetectorWindow</td><td>False</td><td>[90, 290, 390, 490]</td></tr>\n",
       "<tr><td>metis_img_lm_detector_array</td><td>qe_curve</td><td>QuantumEfficiencyCurve</td><td>True</td><td>[113, 513]</td></tr>\n",
       "<tr><td>metis_img_lm_detector_array</td><td>exposure_action</td><td>SummedExposure</td><td>True</td><td>[860]</td></tr>\n",
       "<tr><td>metis_img_lm_detector_array</td><td>dark_current</td><td>DarkCurrent</td><td>True</td><td>[830]</td></tr>\n",
       "<tr><td>metis_img_lm_detector_array</td><td>detector_linearity</td><td>LinearityCurve</td><td>True</td><td>[840]</td></tr>\n",
       "<tr><td>metis_img_lm_detector_array</td><td>shot_noise</td><td>ShotNoise</td><td>True</td><td>[820]</td></tr>\n",
       "<tr><td>metis_img_lm_detector_array</td><td>readout_noise</td><td>BasicReadoutNoise</td><td>True</td><td>[811]</td></tr>\n",
       "</table></div>"
      ],
      "text/plain": [
       "<Table length=21>\n",
       "          element           ...       z_orders     \n",
       "           str27            ...        object      \n",
       "--------------------------- ... -------------------\n",
       "                  armazones ...          [112, 512]\n",
       "                  armazones ...               [231]\n",
       "                  armazones ...          [111, 511]\n",
       "                        ELT ...      [20, 120, 520]\n",
       "                        ELT ...          [244, 744]\n",
       "                        ELT ...      [20, 120, 520]\n",
       "                      METIS ...      [20, 120, 520]\n",
       "                      METIS ...      [80, 280, 580]\n",
       "                      METIS ...      [10, 110, 510]\n",
       "               METIS_IMG_LM ...      [20, 120, 520]\n",
       "               METIS_IMG_LM ...     [124, 224, 524]\n",
       "               METIS_IMG_LM ...     [124, 224, 524]\n",
       "               METIS_IMG_LM ...          [262, 662]\n",
       "metis_img_lm_detector_array ... [90, 290, 390, 490]\n",
       "metis_img_lm_detector_array ... [90, 290, 390, 490]\n",
       "metis_img_lm_detector_array ...          [113, 513]\n",
       "metis_img_lm_detector_array ...               [860]\n",
       "metis_img_lm_detector_array ...               [830]\n",
       "metis_img_lm_detector_array ...               [840]\n",
       "metis_img_lm_detector_array ...               [820]\n",
       "metis_img_lm_detector_array ...               [811]"
      ]
     },
     "execution_count": 7,
     "metadata": {},
     "output_type": "execute_result"
    }
   ],
   "source": [
    "metis.effects"
   ]
  },
  {
   "cell_type": "markdown",
   "metadata": {},
   "source": [
    "The cold stop is included, the default transmission is 1 as we can see by various means."
   ]
  },
  {
   "cell_type": "code",
   "execution_count": 8,
   "metadata": {},
   "outputs": [
    {
     "data": {
      "text/plain": [
       "[1.0, 1.0]"
      ]
     },
     "execution_count": 8,
     "metadata": {},
     "output_type": "execute_result"
    }
   ],
   "source": [
    "metis['cold_stop'].meta['transmission']"
   ]
  },
  {
   "cell_type": "code",
   "execution_count": 9,
   "metadata": {},
   "outputs": [],
   "source": [
    "from astropy import units as u"
   ]
  },
  {
   "cell_type": "code",
   "execution_count": 10,
   "metadata": {},
   "outputs": [
    {
     "data": {
      "text/latex": [
       "$1 \\; \\mathrm{}$"
      ],
      "text/plain": [
       "<Quantity 1.>"
      ]
     },
     "execution_count": 10,
     "metadata": {},
     "output_type": "execute_result"
    }
   ],
   "source": [
    "metis['cold_stop'].throughput(3.74 * u.um)"
   ]
  },
  {
   "cell_type": "code",
   "execution_count": 11,
   "metadata": {},
   "outputs": [
    {
     "data": {
      "image/png": "[encoded data removed]",
      "text/plain": [
       "<Figure size 720x360 with 1 Axes>"
      ]
     },
     "metadata": {
      "needs_background": "light"
     },
     "output_type": "display_data"
    }
   ],
   "source": [
    "metis['cold_stop'].plot();"
   ]
  },
  {
   "cell_type": "markdown",
   "metadata": {},
   "source": [
    "## Changing the pupil transmission"
   ]
  },
  {
   "cell_type": "markdown",
   "metadata": {},
   "source": [
    "We now change the pupil transmission to 0.74 and check that the change is reflected properly."
   ]
  },
  {
   "cell_type": "code",
   "execution_count": 12,
   "metadata": {},
   "outputs": [],
   "source": [
    "cmds[\"!INST.pupil_transmission\"] = 0.74"
   ]
  },
  {
   "cell_type": "code",
   "execution_count": 13,
   "metadata": {},
   "outputs": [],
   "source": [
    "metis = sim.OpticalTrain(cmds)"
   ]
  },
  {
   "cell_type": "code",
   "execution_count": 14,
   "metadata": {},
   "outputs": [
    {
     "data": {
      "text/plain": [
       "[0.74, 0.74]"
      ]
     },
     "execution_count": 14,
     "metadata": {},
     "output_type": "execute_result"
    }
   ],
   "source": [
    "metis['cold_stop'].meta['transmission']"
   ]
  },
  {
   "cell_type": "code",
   "execution_count": 15,
   "metadata": {},
   "outputs": [
    {
     "data": {
      "text/latex": [
       "$0.74 \\; \\mathrm{}$"
      ],
      "text/plain": [
       "<Quantity 0.74>"
      ]
     },
     "execution_count": 15,
     "metadata": {},
     "output_type": "execute_result"
    }
   ],
   "source": [
    "metis['cold_stop'].throughput(3.74 * u.um)"
   ]
  },
  {
   "cell_type": "code",
   "execution_count": 16,
   "metadata": {},
   "outputs": [
    {
     "data": {
      "image/png": "[encoded data removed]",
      "text/plain": [
       "<Figure size 720x360 with 1 Axes>"
      ]
     },
     "metadata": {
      "needs_background": "light"
     },
     "output_type": "display_data"
    }
   ],
   "source": [
    "metis['cold_stop'].plot();"
   ]
  },
  {
   "cell_type": "markdown",
   "metadata": {},
   "source": [
    "The pupil transmission can be changed in an existing `OpticalTrain` by doing"
   ]
  },
  {
   "cell_type": "code",
   "execution_count": 17,
   "metadata": {},
   "outputs": [],
   "source": [
    "metis['cold_stop'].update_transmission(0.32)"
   ]
  },
  {
   "cell_type": "code",
   "execution_count": 18,
   "metadata": {},
   "outputs": [
    {
     "data": {
      "text/latex": [
       "$0.32 \\; \\mathrm{}$"
      ],
      "text/plain": [
       "<Quantity 0.32>"
      ]
     },
     "execution_count": 18,
     "metadata": {},
     "output_type": "execute_result"
    }
   ],
   "source": [
    "metis['cold_stop'].throughput(3.74 * u.um)"
   ]
  },
  {
   "cell_type": "markdown",
   "metadata": {},
   "source": [
    "## Running simulations with varying pupil transmission"
   ]
  },
  {
   "cell_type": "markdown",
   "metadata": {},
   "source": [
    "Create a `Source` object, we use a star."
   ]
  },
  {
   "cell_type": "code",
   "execution_count": 19,
   "metadata": {},
   "outputs": [],
   "source": [
    "spec = sim.source.source_templates.vega_spectrum(mag=12)\n",
    "src = sim.Source(x=[0], y=[0], ref=[0], spectra=[spec])"
   ]
  },
  {
   "cell_type": "code",
   "execution_count": 20,
   "metadata": {},
   "outputs": [],
   "source": [
    "from photutils import CircularAperture, aperture_photometry"
   ]
  },
  {
   "cell_type": "code",
   "execution_count": 21,
   "metadata": {},
   "outputs": [],
   "source": [
    "images = []"
   ]
  },
  {
   "cell_type": "code",
   "execution_count": 22,
   "metadata": {},
   "outputs": [],
   "source": [
    "pupil_transmission = [1., 0.75, 0.5, 0.25, 0.]"
   ]
  },
  {
   "cell_type": "code",
   "execution_count": 23,
   "metadata": {},
   "outputs": [
    {
     "name": "stdout",
     "output_type": "stream",
     "text": [
      "1.0\n",
      "Preparing 1 FieldOfViews\n",
      "0.75\n",
      "Preparing 1 FieldOfViews\n",
      "0.5\n",
      "Preparing 1 FieldOfViews\n",
      "0.25\n",
      "Preparing 1 FieldOfViews\n",
      "0.0\n",
      "Preparing 1 FieldOfViews\n"
     ]
    }
   ],
   "source": [
    "cmds[\"!OBS.dit\"] = 10.\n",
    "metis = sim.OpticalTrain(cmds)\n",
    "metis['detector_linearity'].include = False\n",
    "\n",
    "for ptrans in pupil_transmission:\n",
    "    print(ptrans)\n",
    "    metis['cold_stop'].update_transmission(ptrans)\n",
    "    metis.observe(src, update=True)\n",
    "    outhdul = metis.readout()[0]\n",
    "    images.append(outhdul[1].data[981:1068, 981:1068])"
   ]
  },
  {
   "cell_type": "markdown",
   "metadata": {},
   "source": [
    "Look at one of the images:"
   ]
  },
  {
   "cell_type": "code",
   "execution_count": 24,
   "metadata": {},
   "outputs": [
    {
     "data": {
      "text/plain": [
       "<matplotlib.image.AxesImage at 0x7fc516d97ac0>"
      ]
     },
     "execution_count": 24,
     "metadata": {},
     "output_type": "execute_result"
    },
    {
     "data": {
      "image/png": "[encoded data removed]",
      "text/plain": [
       "<Figure size 432x288 with 1 Axes>"
      ]
     },
     "metadata": {
      "needs_background": "light"
     },
     "output_type": "display_data"
    }
   ],
   "source": [
    "plt.imshow(images[3], origin='lower')"
   ]
  },
  {
   "cell_type": "markdown",
   "metadata": {},
   "source": [
    "We perform aperture photometry on the images to check that pupil transmission is properly accounted for."
   ]
  },
  {
   "cell_type": "code",
   "execution_count": 25,
   "metadata": {},
   "outputs": [],
   "source": [
    "aperture = CircularAperture([42., 42.], r=10.)\n",
    "bglevel = np.zeros(5)\n",
    "bgnoise = np.zeros(5)\n",
    "starsum = np.zeros(5)\n",
    "starnoise = np.zeros(5)"
   ]
  },
  {
   "cell_type": "code",
   "execution_count": 26,
   "metadata": {},
   "outputs": [],
   "source": [
    "for i, img in enumerate(images):\n",
    "    bglevel[i] = np.mean(img[0:30, 0:30])\n",
    "    bgnoise[i] = np.std(img[0:30, 0:30])\n",
    "    \n",
    "    phot_table = aperture_photometry(img - bglevel[i], aperture, error=np.ones_like(img) * bgnoise[i])\n",
    "    starsum[i] = phot_table['aperture_sum'][0]\n",
    "    starnoise[i] = phot_table['aperture_sum_err'][0]"
   ]
  },
  {
   "cell_type": "code",
   "execution_count": 27,
   "metadata": {},
   "outputs": [],
   "source": [
    "from astropy.table import Table"
   ]
  },
  {
   "cell_type": "code",
   "execution_count": 28,
   "metadata": {},
   "outputs": [],
   "source": [
    "table = Table([pupil_transmission, bglevel, bgnoise, starsum, starsum/starnoise],\n",
    "             names=['Transmission', 'bg level', 'bg noise', 'Star counts', 'S/N'])\n",
    "table['bg level'].format = '.0f'\n",
    "table['bg noise'].format = '.1f'\n",
    "table['Star counts'].format = '.1f'\n",
    "table['S/N'].format = '.2f'"
   ]
  },
  {
   "cell_type": "code",
   "execution_count": 29,
   "metadata": {},
   "outputs": [
    {
     "name": "stdout",
     "output_type": "stream",
     "text": [
      "Transmission bg level bg noise Star counts   S/N  \n",
      "------------ -------- -------- ----------- -------\n",
      "         1.0   728768    918.0  34303106.3 2108.29\n",
      "        0.75   546537    753.6  25743688.9 1927.22\n",
      "         0.5   364354    600.8  17170756.8 1612.45\n",
      "        0.25   182176    433.0   8592456.3 1119.53\n",
      "         0.0        1     12.0      -579.7   -2.72\n"
     ]
    }
   ],
   "source": [
    "table.pprint()"
   ]
  },
  {
   "cell_type": "code",
   "execution_count": 30,
   "metadata": {},
   "outputs": [
    {
     "data": {
      "image/png": "[encoded data removed]",
      "text/plain": [
       "<Figure size 432x288 with 1 Axes>"
      ]
     },
     "metadata": {
      "needs_background": "light"
     },
     "output_type": "display_data"
    }
   ],
   "source": [
    "plt.plot(table['Transmission'], table['Star counts'], 'o')\n",
    "plt.xlabel('Pupil transmission')\n",
    "plt.ylabel(\"Star counts\")\n",
    "plt.title(\"Star counts\");"
   ]
  },
  {
   "cell_type": "code",
   "execution_count": 31,
   "metadata": {},
   "outputs": [
    {
     "data": {
      "image/png": "[encoded data removed]",
      "text/plain": [
       "<Figure size 432x288 with 1 Axes>"
      ]
     },
     "metadata": {
      "needs_background": "light"
     },
     "output_type": "display_data"
    }
   ],
   "source": [
    "plt.plot(table['Transmission'], table['S/N'], 'o')\n",
    "plt.xlabel('Pupil transmission')\n",
    "plt.ylabel('Signal-to-noise ratio')\n",
    "plt.title(\"Signal-to-noise ratio\");"
   ]
  }
 ],
 "metadata": {
  "kernelspec": {
   "display_name": "Python 3",
   "language": "python",
   "name": "python3"
  },
  "language_info": {
   "codemirror_mode": {
    "name": "ipython",
    "version": 3
   },
   "file_extension": ".py",
   "mimetype": "text/x-python",
   "name": "python",
   "nbconvert_exporter": "python",
   "pygments_lexer": "ipython3",
   "version": "3.9.7"
  }
 },
 "nbformat": 4,
 "nbformat_minor": 4
}

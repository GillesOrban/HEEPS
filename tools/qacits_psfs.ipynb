{
 "cells": [
  {
   "cell_type": "code",
   "execution_count": 1,
   "metadata": {},
   "outputs": [],
   "source": [
    "import heeps\n",
    "from heeps.util.coord import mas2rms, disk_coord\n",
    "from heeps.contrast.background import background\n",
    "import astropy.units as u\n",
    "from astropy.io import fits\n",
    "import os.path\n",
    "from copy import deepcopy\n",
    "import matplotlib.pyplot as plt\n",
    "%matplotlib inline"
   ]
  },
  {
   "cell_type": "markdown",
   "metadata": {},
   "source": [
    "### Offsets"
   ]
  },
  {
   "cell_type": "code",
   "execution_count": 2,
   "metadata": {},
   "outputs": [
    {
     "name": "stdout",
     "output_type": "stream",
     "text": [
      "nb offsets = 110\n"
     ]
    },
    {
     "data": {
      "image/png": "[encoded data removed]",
      "text/plain": [
       "<Figure size 432x288 with 1 Axes>"
      ]
     },
     "metadata": {
      "needs_background": "light"
     },
     "output_type": "display_data"
    }
   ],
   "source": [
    "# up to 0.1 lam/D, step = 1/100\n",
    "# up to 1 lam/D, step = 1/10\n",
    "xy = np.append(np.arange(100)/1000, np.arange(1,11)/10)\n",
    "print('nb offsets =', len(xy))\n",
    "plt.plot(xy,'-+')\n",
    "plt.xlim(0, len(xy))\n",
    "plt.ylim(0, 1)\n",
    "plt.xlabel('points')\n",
    "plt.ylabel('offsets [lam/D]')\n",
    "plt.grid(True), plt.grid(which='minor', linestyle=':');"
   ]
  },
  {
   "cell_type": "markdown",
   "metadata": {},
   "source": [
    "### Select target"
   ]
  },
  {
   "cell_type": "code",
   "execution_count": 3,
   "metadata": {},
   "outputs": [
    {
     "name": "stdout",
     "output_type": "stream",
     "text": [
      "noffsets = 39\n"
     ]
    },
    {
     "data": {
      "image/png": "[encoded data removed]",
      "text/plain": [
       "<Figure size 432x288 with 1 Axes>"
      ]
     },
     "metadata": {
      "needs_background": "light"
     },
     "output_type": "display_data"
    }
   ],
   "source": [
    "#target = ['point', 0]\n",
    "target = ['alphaCen', 4.26] # mas\n",
    "#target = ['pi1Gru', 9.18] # mas\n",
    "name = target[0]\n",
    "rstar = target[1]\n",
    "diam_ext = 36.905\n",
    "if name in ['alphaCen', 'pi1Gru']:\n",
    "    fp_offsets_mas = disk_coord(rstar, nr=4)\n",
    "    fp_offsets = mas2rms(fp_offsets_mas, diam_ext)\n",
    "else:\n",
    "    fp_offsets = None\n",
    "# scatter plot\n",
    "if fp_offsets is not None:\n",
    "    print('noffsets = %s'%len(fp_offsets))\n",
    "    plt.scatter(fp_offsets_mas[:,0], fp_offsets_mas[:,1])\n",
    "    circ = plt.Circle((0,0), rstar, linestyle=':', color='k', Fill=False)\n",
    "    ax = plt.gca()\n",
    "    ax.add_artist(circ)\n",
    "    ax.axis('equal')\n",
    "    plt.xlabel('x [mas]')\n",
    "    plt.ylabel('y [mas]')\n",
    "    plt.title('R = %s mas (%s) - %s pts'%(rstar, name, len(fp_offsets)))"
   ]
  },
  {
   "cell_type": "markdown",
   "metadata": {},
   "source": [
    "### Range of magnitudes"
   ]
  },
  {
   "cell_type": "code",
   "execution_count": 4,
   "metadata": {},
   "outputs": [
    {
     "name": "stdout",
     "output_type": "stream",
     "text": [
      "mags = None\n"
     ]
    }
   ],
   "source": [
    "mag_min = 5\n",
    "mag_max = 12\n",
    "mags = np.arange(mag_min, mag_max+1) if fp_offsets is None else None\n",
    "print('mags = %s'%mags)"
   ]
  },
  {
   "cell_type": "code",
   "execution_count": 5,
   "metadata": {},
   "outputs": [],
   "source": [
    "conf = dict(\n",
    "    mode = 'CVC',\n",
    "    file_pupil = 'pupil/ELT_fullM1.fits',\n",
    "    file_phase = 'wavefront/cube_Cbasic_20201130_3600s_300ms_0piston_meters_scao_only_285.fits',\n",
    "    file_point_err = 'wavefront/point_all_3600s_300ms.fits',\n",
    "    add_phase = True,\n",
    "    add_point_err = True,\n",
    "    nframes = 2*len(xy),\n",
    "    cube_duration = 2*len(xy)*0.3,\n",
    "    fp_offsets = fp_offsets,\n",
    "    )"
   ]
  },
  {
   "cell_type": "code",
   "execution_count": 6,
   "metadata": {},
   "outputs": [],
   "source": [
    "def create_psfs(conf, case, mags=None, verbose=False):\n",
    "    # update dir_output\n",
    "    conf.update(dir_output=case)\n",
    "    # initialize wavefront\n",
    "    conf = heeps.config.read_config(verbose=False, **conf)\n",
    "    conf = heeps.config.update_config(saveconf=True, verbose=verbose, **conf)\n",
    "    wf = heeps.pupil.pupil(savefits=True, verbose=verbose, **conf)\n",
    "    # load errors\n",
    "    phase_screens, amp_screens, tiptilts, misaligns = heeps.wavefront.load_errors(verbose=verbose, **conf)\n",
    "    # off-axis PSF\n",
    "    psf = heeps.wavefront.propagate_one(wf, onaxis=False, savefits=True, verbose=verbose, **conf)\n",
    "    # linear tiptilt\n",
    "    lamD = conf['lam']/conf['diam_nominal']*u.rad.to('mas')\n",
    "    xy_rms = mas2rms(xy*lamD, conf['diam_ext']) # converted to mas, then to rms\n",
    "    tt = [(x,0) for x in xy_rms] + [(0,y) for y in xy_rms]\n",
    "    # choose case\n",
    "    print('\\nCase = %s'%case)\n",
    "    if 'linear_drift_only' in case:\n",
    "        tiptilts = tt\n",
    "        phase_screens = np.array([None]*conf['nframes'])\n",
    "    elif 'scao_only' in case:\n",
    "        tiptilts = np.array([None]*conf['nframes'])\n",
    "    elif 'scao+linear_drift' in case:\n",
    "        tiptilts = tt\n",
    "    elif 'scao+random_drift' in case:\n",
    "        pass\n",
    "    # on-axis PSFs\n",
    "    psfs = heeps.wavefront.propagate_cube(wf, phase_screens=phase_screens, \\\n",
    "        amp_screens=amp_screens, tiptilts=tiptilts, misaligns=misaligns, onaxis=True, \\\n",
    "        savefits=True, verbose=True, **conf)\n",
    "    # add background\n",
    "    if mags is not None:\n",
    "        print('mag', end='')\n",
    "        for conf['mag'] in mags:\n",
    "            print(', %s'%conf['mag'], end='')\n",
    "            psf_ON, psf_OFF = background(deepcopy(psfs), deepcopy(psf), **conf)\n",
    "            fits.writeto(os.path.join(conf['dir_output'], 'onaxis_PSF_%s_%s_mag%s.fits'\\\n",
    "                %(conf['band'], conf['mode'], conf['mag'])), np.float32(psf_ON), overwrite=True)\n",
    "            fits.writeto(os.path.join(conf['dir_output'], 'offaxis_PSF_%s_%s_mag%s.fits'\\\n",
    "                %(conf['band'], conf['mode'], conf['mag'])), np.float32(psf_OFF), overwrite=True)\n",
    "        print('')"
   ]
  },
  {
   "cell_type": "markdown",
   "metadata": {},
   "source": [
    "## L-band CVC"
   ]
  },
  {
   "cell_type": "code",
   "execution_count": 7,
   "metadata": {},
   "outputs": [
    {
     "name": "stdout",
     "output_type": "stream",
     "text": [
      "Simulation config: band=L, mode=CVC\n",
      "‾‾‾‾‾‾‾‾‾‾‾‾‾‾‾‾‾‾\n",
      "   loading vortex back-propagation params\n",
      "   vc_charge=2, ngrid=1024, beam_ratio=0.2568\n",
      "   npupil=285, pscale=5.47 mas, lam=3.8112E-06 m\n",
      "   hfov=1.1 arcsec (-> ndet=403, 51.74 lam/D)\n",
      "\n",
      "Load pupil from 'ELT_fullM1.fits'\n",
      "Load phase screens from 'cube_Cbasic_20201130_3600s_300ms_0piston_meters_scao_only_285.fits'\n",
      "   nscreens=220 (nframes=220, nstep=1)\n",
      "Load pointing errors from 'point_all_3600s_300ms.fits'\n",
      "   nscreens=220\n",
      "Create single off-axis PSF\n",
      "\n",
      "Case = alphaCen_L/linear_drift_only\n",
      "Create on-axis PSF cube\n",
      "   2021-06-13 12:02:08, e2e simulation using 56 cores\n",
      "   expected time to complete: 222.06 seconds\n",
      "   2021-06-13 13:10:17, completed in 4144.1 seconds\n"
     ]
    }
   ],
   "source": [
    "conf.update(\n",
    "    band = 'L',\n",
    "    file_lyot_stop = 'pupil/ls_LM_CVC_0.0291_0.08_0.0317_285.fits',\n",
    ")\n",
    "create_psfs(conf, '%s_%s/linear_drift_only'%(name, conf['band']), verbose=True)\n",
    "if fp_offsets is None:\n",
    "    create_psfs(conf, '%s_%s/scao_only'%(name, conf['band']), mags=mags)\n",
    "    create_psfs(conf, '%s_%s/scao+linear_drift'%(name, conf['band']), mags=mags)\n",
    "    create_psfs(conf, '%s_%s/scao+random_drift'%(name, conf['band']), mags=mags)"
   ]
  },
  {
   "cell_type": "markdown",
   "metadata": {},
   "source": [
    "## N2-band CVC"
   ]
  },
  {
   "cell_type": "code",
   "execution_count": 8,
   "metadata": {},
   "outputs": [
    {
     "name": "stdout",
     "output_type": "stream",
     "text": [
      "Simulation config: band=N2, mode=CVC\n",
      "‾‾‾‾‾‾‾‾‾‾‾‾‾‾‾‾‾‾\n",
      "   loading vortex back-propagation params\n",
      "   vc_charge=2, ngrid=1024, beam_ratio=0.1072\n",
      "   npupil=119, pscale=6.79 mas, lam=1.1330E-05 m\n",
      "   hfov=1.1 arcsec (-> ndet=325, 17.42 lam/D)\n",
      "\n",
      "Load pupil from 'ELT_fullM1.fits'\n",
      "Load phase screens from 'cube_Cbasic_20201130_3600s_300ms_0piston_meters_scao_only_285.fits'\n",
      "   nscreens=220 (nframes=220, nstep=1)\n",
      "Load pointing errors from 'point_all_3600s_300ms.fits'\n",
      "   nscreens=220\n",
      "Create single off-axis PSF\n",
      "\n",
      "Case = alphaCen_N2/linear_drift_only\n",
      "Create on-axis PSF cube\n",
      "   2021-06-13 13:11:45, e2e simulation using 56 cores\n",
      "   expected time to complete: 233.04 seconds\n",
      "   2021-06-13 14:18:26, completed in 4059.24 seconds\n"
     ]
    }
   ],
   "source": [
    "conf.update(\n",
    "    band = 'N2',\n",
    "    file_lyot_stop = 'pupil/ls_N_CVC_0.0356_0.08_0.0383_119.fits',\n",
    ")\n",
    "create_psfs(conf, '%s_%s/linear_drift_only'%(name, conf['band']), verbose=True)\n",
    "if fp_offsets is None:\n",
    "    create_psfs(conf, '%s_%s/scao_only'%(name, conf['band']), mags=mags)\n",
    "    create_psfs(conf, '%s_%s/scao+linear_drift'%(name, conf['band']), mags=mags)\n",
    "    create_psfs(conf, '%s_%s/scao+random_drift'%(name, conf['band']), mags=mags)"
   ]
  }
 ],
 "metadata": {
  "kernelspec": {
   "display_name": "Python 3",
   "language": "python",
   "name": "python3"
  },
  "language_info": {
   "codemirror_mode": {
    "name": "ipython",
    "version": 3
   },
   "file_extension": ".py",
   "mimetype": "text/x-python",
   "name": "python",
   "nbconvert_exporter": "python",
   "pygments_lexer": "ipython3",
   "version": "3.7.0"
  },
  "metadata": {
   "interpreter": {
    "hash": "344443636c3027c5042750c9c609acdda283a9c43681b128a8c1053e7ad2aa7d"
   }
  }
 },
 "nbformat": 4,
 "nbformat_minor": 2
}

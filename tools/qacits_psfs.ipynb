{
 "cells": [
  {
   "cell_type": "code",
   "execution_count": 1,
   "metadata": {},
   "outputs": [],
   "source": [
    "import heeps\n",
    "from heeps.util.coord import mas2rms\n",
    "from heeps.contrast.background import background\n",
    "import astropy.units as u\n",
    "from astropy.io import fits\n",
    "import os.path\n",
    "from copy import deepcopy\n",
    "import matplotlib.pyplot as plt\n",
    "%matplotlib inline"
   ]
  },
  {
   "cell_type": "markdown",
   "metadata": {},
   "source": [
    "## General inputs"
   ]
  },
  {
   "cell_type": "code",
   "execution_count": 2,
   "metadata": {},
   "outputs": [
    {
     "name": "stdout",
     "output_type": "stream",
     "text": [
      "mags = [ 5  6  7  8  9 10 11 12]\n",
      "nb offsets = 110\n",
      "offsets = [0.    0.001 0.002 0.003 0.004 0.005 0.006 0.007 0.008 0.009 0.01  0.011\n",
      " 0.012 0.013 0.014 0.015 0.016 0.017 0.018 0.019 0.02  0.021 0.022 0.023\n",
      " 0.024 0.025 0.026 0.027 0.028 0.029 0.03  0.031 0.032 0.033 0.034 0.035\n",
      " 0.036 0.037 0.038 0.039 0.04  0.041 0.042 0.043 0.044 0.045 0.046 0.047\n",
      " 0.048 0.049 0.05  0.051 0.052 0.053 0.054 0.055 0.056 0.057 0.058 0.059\n",
      " 0.06  0.061 0.062 0.063 0.064 0.065 0.066 0.067 0.068 0.069 0.07  0.071\n",
      " 0.072 0.073 0.074 0.075 0.076 0.077 0.078 0.079 0.08  0.081 0.082 0.083\n",
      " 0.084 0.085 0.086 0.087 0.088 0.089 0.09  0.091 0.092 0.093 0.094 0.095\n",
      " 0.096 0.097 0.098 0.099 0.1   0.2   0.3   0.4   0.5   0.6   0.7   0.8\n",
      " 0.9   1.   ]\n"
     ]
    }
   ],
   "source": [
    "conf = dict(\n",
    "    mode = 'CVC',\n",
    "    file_pupil = 'pupil/ELT_fullM1.fits',\n",
    "    file_phase = 'wavefront/cube_Cbasic_20201130_3600s_300ms_0piston_meters_scao_only_285.fits',\n",
    "    file_point_err = 'wavefront/point_all_3600s_300ms.fits',\n",
    "    add_phase = True,\n",
    "    add_point_err = True,\n",
    "    nframes = 220,\n",
    "    cube_duration = 220*0.3,\n",
    ")\n",
    "# range of magnitudes\n",
    "mags = np.arange(5, 12+1)\n",
    "print('mags = %s'%mags)\n",
    "# offsets:\n",
    "# up to 0.1 lam/D, step = 1/100\n",
    "# up to 1 lam/D, step = 1/10\n",
    "xy = np.append(np.arange(100)/1000, np.arange(1,11)/10)\n",
    "print('nb offsets = %s\\noffsets = %s'%(xy.shape[0], xy))"
   ]
  },
  {
   "cell_type": "code",
   "execution_count": 3,
   "metadata": {},
   "outputs": [],
   "source": [
    "def create_psfs(conf, case, mags=None, verbose=False):\n",
    "    # update dir_output\n",
    "    conf.update(dir_output=case)\n",
    "    # initialize wavefront\n",
    "    conf = heeps.config.read_config(verbose=False, **conf)\n",
    "    conf = heeps.config.update_config(saveconf=True, verbose=verbose, **conf)\n",
    "    wf = heeps.pupil.pupil(savefits=True, verbose=verbose, **conf)\n",
    "    # load errors\n",
    "    phase_screens, amp_screens, tiptilts, misaligns = heeps.wavefront.load_errors(verbose=verbose, **conf)\n",
    "    # off-axis PSF\n",
    "    psf = heeps.wavefront.propagate_one(wf, onaxis=False, savefits=True, verbose=verbose, **conf)\n",
    "    # linear tiptilt\n",
    "    lamD = conf['lam']/conf['diam_nominal']*u.rad.to('mas')\n",
    "    xy_rms = mas2rms(xy*lamD, conf['diam_nominal']) # converted to mas, then to rms\n",
    "    tt = [(x,0) for x in xy_rms] + [(0,y) for y in xy_rms]\n",
    "    # choose case\n",
    "    print('\\nCase = %s'%case)\n",
    "    if 'linear_drift_only' in case:\n",
    "        tiptilts = tt\n",
    "        phase_screens = np.array([None]*conf['nframes'])\n",
    "    elif 'scao_only' in case:\n",
    "        tiptilts = np.array([None]*conf['nframes'])\n",
    "    elif 'scao+linear_drift' in case:\n",
    "        tiptilts = tt\n",
    "    elif 'scao+random_drift' in case:\n",
    "        pass\n",
    "    # on-axis PSFs\n",
    "    psfs = heeps.wavefront.propagate_cube(wf, phase_screens=phase_screens, \\\n",
    "        amp_screens=amp_screens, tiptilts=tiptilts, misaligns=misaligns, onaxis=True, \\\n",
    "        savefits=True, verbose=True, **conf)\n",
    "    # add background\n",
    "    if mags is not None:\n",
    "        print('mag', end='')\n",
    "        for conf['mag'] in mags:\n",
    "            print(', %s'%conf['mag'], end='')\n",
    "            psf_ON, psf_OFF = background(deepcopy(psfs), deepcopy(psf), **conf)\n",
    "            fits.writeto(os.path.join(conf['dir_output'], 'onaxis_PSF_%s_%s_mag%s.fits'\\\n",
    "                %(conf['band'], conf['mode'], conf['mag'])), np.float32(psf_ON), overwrite=True)\n",
    "            fits.writeto(os.path.join(conf['dir_output'], 'offaxis_PSF_%s_%s_mag%s.fits'\\\n",
    "                %(conf['band'], conf['mode'], conf['mag'])), np.float32(psf_OFF), overwrite=True)\n",
    "        print('')"
   ]
  },
  {
   "cell_type": "markdown",
   "metadata": {},
   "source": [
    "## L-band CVC"
   ]
  },
  {
   "cell_type": "code",
   "execution_count": 4,
   "metadata": {},
   "outputs": [
    {
     "name": "stdout",
     "output_type": "stream",
     "text": [
      "Simulation config: band=L, mode=CVC\n",
      "‾‾‾‾‾‾‾‾‾‾‾‾‾‾‾‾‾‾\n",
      "   loading vortex back-propagation params\n",
      "   vc_charge=2, ngrid=1024, beam_ratio=0.2568\n",
      "   npupil=285, pscale=5.47 mas, lam=3.8112E-06 m\n",
      "   hfov=1.1 arcsec (-> ndet=403, 51.74 lam/D)\n",
      "\n",
      "Load pupil from 'ELT_fullM1.fits'\n",
      "Load phase screens from 'cube_Cbasic_20201130_3600s_300ms_0piston_meters_scao_only_285.fits'\n",
      "   nscreens=220 (nframes=220, nstep=1)\n",
      "Load pointing errors from 'point_all_3600s_300ms.fits'\n",
      "   nscreens=220\n",
      "Create single off-axis PSF\n",
      "   apply lyot stop from 'ls_LM_CVC_0.0291_0.08_0.0317_285.fits'\n",
      "   extract PSF on the detector: ndet=403\n",
      "\n",
      "Case = qacits_L/linear_drift_only\n",
      "Create on-axis PSF cube\n",
      "   2021-05-17 17:08:01, e2e simulation using 56 cores\n",
      "   expected time to complete: 6.96 seconds\n",
      "   2021-05-17 17:10:05, completed in 125.48 seconds\n",
      "\n",
      "Case = qacits_L/scao_only\n",
      "Create on-axis PSF cube\n",
      "   2021-05-17 17:10:09, e2e simulation using 56 cores\n",
      "   expected time to complete: 4.71 seconds\n",
      "   2021-05-17 17:12:15, completed in 126.48 seconds\n",
      "mag, 5, 6, 7, 8, 9, 10, 11, 12\n",
      "\n",
      "Case = qacits_L/scao+linear_drift\n",
      "Create on-axis PSF cube\n",
      "   2021-05-17 17:12:37, e2e simulation using 56 cores\n",
      "   expected time to complete: 6.59 seconds\n",
      "   2021-05-17 17:14:44, completed in 128.85 seconds\n",
      "mag, 5, 6, 7, 8, 9, 10, 11, 12\n",
      "\n",
      "Case = qacits_L/scao+random_drift\n",
      "Create on-axis PSF cube\n",
      "   2021-05-17 17:15:07, e2e simulation using 56 cores\n",
      "   expected time to complete: 5.78 seconds\n",
      "   2021-05-17 17:17:23, completed in 137.29 seconds\n",
      "mag, 5, 6, 7, 8, 9, 10, 11, 12\n"
     ]
    }
   ],
   "source": [
    "conf.update(\n",
    "    band = 'L',\n",
    "    file_lyot_stop = 'pupil/ls_LM_CVC_0.0291_0.08_0.0317_285.fits',\n",
    ")\n",
    "create_psfs(conf, 'qacits_L/linear_drift_only', verbose=True)\n",
    "create_psfs(conf, 'qacits_L/scao_only', mags=mags)\n",
    "create_psfs(conf, 'qacits_L/scao+linear_drift', mags=mags)\n",
    "create_psfs(conf, 'qacits_L/scao+random_drift', mags=mags)"
   ]
  },
  {
   "cell_type": "markdown",
   "metadata": {},
   "source": [
    "## N2-band CVC"
   ]
  },
  {
   "cell_type": "code",
   "execution_count": 5,
   "metadata": {},
   "outputs": [
    {
     "name": "stdout",
     "output_type": "stream",
     "text": [
      "Simulation config: band=N2, mode=CVC\n",
      "‾‾‾‾‾‾‾‾‾‾‾‾‾‾‾‾‾‾\n",
      "   loading vortex back-propagation params\n",
      "   vc_charge=2, ngrid=1024, beam_ratio=0.1072\n",
      "   npupil=119, pscale=6.79 mas, lam=1.1330E-05 m\n",
      "   hfov=1.1 arcsec (-> ndet=325, 17.42 lam/D)\n",
      "\n",
      "Load pupil from 'ELT_fullM1.fits'\n",
      "Load phase screens from 'cube_Cbasic_20201130_3600s_300ms_0piston_meters_scao_only_285.fits'\n",
      "   nscreens=220 (nframes=220, nstep=1)\n",
      "Load pointing errors from 'point_all_3600s_300ms.fits'\n",
      "   nscreens=220\n",
      "Create single off-axis PSF\n",
      "   apply lyot stop from 'ls_N_CVC_0.0356_0.08_0.0383_119.fits'\n",
      "   extract PSF on the detector: ndet=325\n",
      "\n",
      "Case = qacits_N2/linear_drift_only\n",
      "Create on-axis PSF cube\n",
      "   2021-05-17 17:17:46, e2e simulation using 56 cores\n",
      "   expected time to complete: 6.17 seconds\n",
      "   2021-05-17 17:19:52, completed in 126.86 seconds\n",
      "\n",
      "Case = qacits_N2/scao_only\n",
      "Create on-axis PSF cube\n",
      "   2021-05-17 17:19:55, e2e simulation using 56 cores\n",
      "   expected time to complete: 6.09 seconds\n",
      "   2021-05-17 17:21:58, completed in 124.27 seconds\n",
      "mag, 5, 6, 7, 8, 9, 10, 11, 12\n",
      "\n",
      "Case = qacits_N2/scao+linear_drift\n",
      "Create on-axis PSF cube\n",
      "   2021-05-17 17:22:15, e2e simulation using 56 cores\n",
      "   expected time to complete: 7.71 seconds\n",
      "   2021-05-17 17:24:20, completed in 127.88 seconds\n",
      "mag, 5, 6, 7, 8, 9, 10, 11, 12\n",
      "\n",
      "Case = qacits_N2/scao+random_drift\n",
      "Create on-axis PSF cube\n",
      "   2021-05-17 17:24:37, e2e simulation using 56 cores\n",
      "   expected time to complete: 7.01 seconds\n",
      "   2021-05-17 17:26:43, completed in 127.68 seconds\n",
      "mag, 5, 6, 7, 8, 9, 10, 11, 12\n"
     ]
    }
   ],
   "source": [
    "conf.update(\n",
    "    band = 'N2',\n",
    "    file_lyot_stop = 'pupil/ls_N_CVC_0.0356_0.08_0.0383_119.fits',\n",
    ")\n",
    "create_psfs(conf, 'qacits_N2/linear_drift_only', verbose=True)\n",
    "create_psfs(conf, 'qacits_N2/scao_only', mags=mags)\n",
    "create_psfs(conf, 'qacits_N2/scao+linear_drift', mags=mags)\n",
    "create_psfs(conf, 'qacits_N2/scao+random_drift', mags=mags)"
   ]
  }
 ],
 "metadata": {
  "kernelspec": {
   "display_name": "Python 3",
   "language": "python",
   "name": "python3"
  },
  "language_info": {
   "codemirror_mode": {
    "name": "ipython",
    "version": 3
   },
   "file_extension": ".py",
   "mimetype": "text/x-python",
   "name": "python",
   "nbconvert_exporter": "python",
   "pygments_lexer": "ipython3",
   "version": "3.7.0"
  }
 },
 "nbformat": 4,
 "nbformat_minor": 2
}

{
 "cells": [
  {
   "cell_type": "markdown",
   "metadata": {},
   "source": [
    "# Vortex center glow"
   ]
  },
  {
   "cell_type": "markdown",
   "metadata": {},
   "source": [
    "The aim of this simulation is to model the vortex center glow effect, which is caused to diffraction of the thermal emission from the environment outside the entrance pupil to the pupil image formed on the detector, by the vortex phase mask. \n",
    "To model the effect, several points outside the entrance pupil are taken and their intensity on the detector is evaluated. Net effect is determined by adding contributions from all these points."
   ]
  },
  {
   "cell_type": "markdown",
   "metadata": {},
   "source": [
    "### Imports"
   ]
  },
  {
   "cell_type": "code",
   "execution_count": null,
   "metadata": {},
   "outputs": [],
   "source": [
    "import heeps\n",
    "from heeps.util.coord import cart_coord, polar_coord\n",
    "from heeps.util.img_processing import resize_img, crop_img, pad_img\n",
    "from heeps.optics import fp_mask, lyot_stop, detector\n",
    "from copy import deepcopy\n",
    "import math\n",
    "import proper\n",
    "import os.path\n",
    "import numpy as np\n",
    "from astropy.io import fits\n",
    "import matplotlib.pyplot as plt"
   ]
  },
  {
   "cell_type": "markdown",
   "metadata": {},
   "source": [
    "### Create a spot"
   ]
  },
  {
   "cell_type": "code",
   "execution_count": null,
   "metadata": {},
   "outputs": [],
   "source": [
    "def spot(npupil, rad, theta, r_spot):\n",
    "    x, y = cart_coord(npupil)\n",
    "    c = (rad*np.cos(np.deg2rad(theta)), rad*np.sin(np.deg2rad(theta)))\n",
    "    r =  np.abs((x-c[0]) + 1j*(y-c[1]))\n",
    "    circ = (r < r_spot)\n",
    "    return circ"
   ]
  },
  {
   "cell_type": "markdown",
   "metadata": {},
   "source": [
    "### VCG simulations"
   ]
  },
  {
   "cell_type": "code",
   "execution_count": null,
   "metadata": {},
   "outputs": [],
   "source": [
    "conf = dict(\n",
    "    band = 'L',\n",
    "    mode = 'CVC',\n",
    "    dir_output = 'vcg',\n",
    "    file_lyot_stop = '',\n",
    "    cpu_count = None\n",
    "    )\n",
    "# 1. Create a config dictionary with your simulation parameters in read_config\n",
    "conf = heeps.config.read_config(verbose=False, **conf)\n",
    "npupil = conf['npupil']\n",
    "ngrid = conf['ngrid']\n",
    "diam_ext = conf['diam_ext']\n",
    "pupil_img_size = conf['pupil_img_size']\n",
    "lam = conf['lam']\n",
    "\n",
    "# 2. Update config parameters. \n",
    "conf = heeps.config.update_config(saveconf=True, verbose=True, **conf)\n",
    "conf['ls_dRint'] = 0.0291\n",
    "conf['ls_dRext'] = 0.0291\n",
    "conf['ls_dRspi'] = 0.0317\n",
    "\n",
    "# 3. Load cold stop\n",
    "cold_stop = fits.getdata('input_files/pupil/cold_stop.fits')\n",
    "cold_stop = resize_img(cold_stop, npupil)\n",
    "cold_stop = pad_img(cold_stop, ngrid)\n",
    "\n",
    "# 4. Initialize wavefront using PROPER\n",
    "beam_ratio = npupil/ngrid*(diam_ext/pupil_img_size)\n",
    "wf = proper.prop_begin(pupil_img_size, lam, ngrid, beam_ratio)\n",
    "\n",
    "# 5. VCG from points inside central obscuration\n",
    "vcg_in = []\n",
    "for rad in list(np.arange(0.0, 0.28, 0.005)):\n",
    "    for theta in np.arange(0,360,10):\n",
    "        print(rad, theta)\n",
    "        # keep a copy of the input wavefront\n",
    "        wf1 = deepcopy(wf)\n",
    "        # create entrance pupil\n",
    "        r_spot = 0.0025                           # specify spot size\n",
    "        pup = spot(10526, rad, theta, r_spot)     # create a spot\n",
    "        pup = resize_img(pup, npupil)             # resize to npupil\n",
    "        pup = pad_img(pup, ngrid)                 # pad with zeros\n",
    "        # normalize the entrance pupil intensity (total flux = 1)\n",
    "        I_pup = pup**2\n",
    "        pup = np.sqrt(I_pup/np.sum(I_pup))\n",
    "        # add to wavefront\n",
    "        proper.prop_multiply(wf1, pup)\n",
    "        # propagate one frame of onaxis psf (i.e. star)\n",
    "        proper.prop_multiply(wf1, cold_stop)      # apply cold stop\n",
    "        wf1 = fp_mask(wf1, verbose=True, **conf)\n",
    "        wf1 = lyot_stop(wf1, verbose=True, **conf)\n",
    "        psf = detector(wf1, verbose=True, **conf)\n",
    "        # scale the psf\n",
    "        psf = [((i/36)*(4*rad))/(r_spot) for i in psf]\n",
    "        vcg_in.append(psf)\n",
    "\n",
    "# 6. VCG from points beyond ELT pupil's outer edge\n",
    "vcg_out = []\n",
    "for rad in list(np.arange(0.92, 1.0, 0.005)):\n",
    "    for theta in np.arange(0,360,5):\n",
    "        print(rad, theta)\n",
    "        # keep a copy of the input wavefront\n",
    "        wf1 = deepcopy(wf)\n",
    "        # create entrance pupil\n",
    "        r_spot = 0.0025                           # specify spot size\n",
    "        pup = spot(10526, rad, theta, r_spot)     # create a spot\n",
    "        pup = resize_img(pup, npupil)             # resize to npupil\n",
    "        pup = pad_img(pup, ngrid)                 # pad with zeros\n",
    "        # normalize the entrance pupil intensity (total flux = 1)\n",
    "        I_pup = pup**2\n",
    "        pup = np.sqrt(I_pup/np.sum(I_pup))\n",
    "        # add to wavefront\n",
    "        proper.prop_multiply(wf1, pup)\n",
    "        # propagate one frame of onaxis psf (i.e. star)\n",
    "        proper.prop_multiply(wf1, cold_stop)       # apply cold stop\n",
    "        wf1 = fp_mask(wf1, verbose=True, **conf)\n",
    "        wf1 = lyot_stop(wf1, verbose=True, **conf)\n",
    "        psf = detector(wf1, verbose=True, **conf)\n",
    "        # scale the psf\n",
    "        psf = [((i/72)*(4*rad))/(r_spot) for i in psf]\n",
    "        vcg_out.append(psf)\n",
    "\n",
    "# 7. VCG from points along spiders\n",
    "vcg_spi = []\n",
    "for rad in list(np.arange(0.28, 0.92, 0.005)):\n",
    "    for theta in np.arange(30,360,60):\n",
    "        print(rad, theta)\n",
    "        # keep a copy of the input wavefront\n",
    "        wf1 = deepcopy(wf)\n",
    "        # create entrance pupil\n",
    "        r_spot = 0.0025                           # specify spot size\n",
    "        pup = spot(10526, rad, theta, r_spot)     # create a spot\n",
    "        pup = resize_img(pup, npupil)             # resize to npupil\n",
    "        pup = pad_img(pup, ngrid)                 # pad with zeros\n",
    "        # normalize the entrance pupil intensity (total flux = 1)\n",
    "        I_pup = pup**2\n",
    "        pup = np.sqrt(I_pup/np.sum(I_pup))\n",
    "        # add to wavefront\n",
    "        proper.prop_multiply(wf1, pup)\n",
    "        # propagate one frame of onaxis psf (i.e. star)\n",
    "        proper.prop_multiply(wf1, cold_stop)       # apply cold stop\n",
    "        wf1 = fp_mask(wf1, verbose=True, **conf)\n",
    "        wf1 = lyot_stop(wf1, verbose=True, **conf)\n",
    "        psf = detector(wf1, verbose=True, **conf)\n",
    "        # scale the psf\n",
    "        psf = [(i*(2*50))/(math.pi*20) for i in psf]\n",
    "        vcg_spi.append(psf)\n",
    "\n",
    "vcg_inner = sum(np.array(vcg_in))\n",
    "vcg_outer = sum(np.array(vcg_out))\n",
    "vcg_spiders = sum(np.array(vcg_spi))\n",
    "vcg_net = sum(np.array(vcg_in) + np.array(vcg_out) + np.array(vcg_spi))\n",
    "plt.imshow(vcg_net, origin='lower')\n",
    "fits.writeto('VCG_inner.fits', np.float32(vcg_inner), overwrite=True)\n",
    "fits.writeto('VCG_outer.fits', np.float32(vcg_outer), overwrite=True)\n",
    "fits.writeto('VCG_spiders.fits', np.float32(vcg_spiders), overwrite=True)\n",
    "fits.writeto('VCG.fits', np.float32(vcg_net), overwrite=True)"
   ]
  },
  {
   "cell_type": "code",
   "execution_count": null,
   "metadata": {},
   "outputs": [],
   "source": []
  }
 ],
 "metadata": {
  "kernelspec": {
   "display_name": "Python 3",
   "language": "python",
   "name": "python3"
  },
  "language_info": {
   "codemirror_mode": {
    "name": "ipython",
    "version": 3
   },
   "file_extension": ".py",
   "mimetype": "text/x-python",
   "name": "python",
   "nbconvert_exporter": "python",
   "pygments_lexer": "ipython3",
   "version": "3.7.3"
  }
 },
 "nbformat": 4,
 "nbformat_minor": 4
}

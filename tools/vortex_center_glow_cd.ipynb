{
 "cells": [
  {
   "cell_type": "markdown",
   "metadata": {},
   "source": [
    "# Vortex center glow"
   ]
  },
  {
   "cell_type": "markdown",
   "metadata": {},
   "source": [
    "The aim of this simulation is to model the vortex center glow effect, which is caused to diffraction of the thermal emission from the environment outside the entrance pupil to the pupil image formed on the detector, by the vortex phase mask. \n",
    "To model the effect, several points outside the entrance pupil are taken and their intensity on the detector is evaluated. Net effect is determined by adding contributions from all these points."
   ]
  },
  {
   "cell_type": "markdown",
   "metadata": {},
   "source": [
    "### Imports"
   ]
  },
  {
   "cell_type": "code",
   "execution_count": 1,
   "metadata": {},
   "outputs": [],
   "source": [
    "import heeps\n",
    "from heeps.util.coord import cart_coord, polar_coord\n",
    "from heeps.util.img_processing import resize_img, crop_img, pad_img\n",
    "from heeps.optics import fp_mask, lyot_stop, detector\n",
    "from copy import deepcopy\n",
    "import proper\n",
    "import numpy as np\n",
    "from astropy.io import fits\n",
    "import matplotlib.pyplot as plt\n",
    "import multiprocessing as mpro\n",
    "from functools import partial\n",
    "from sys import platform\n",
    "import time\n",
    "%matplotlib inline"
   ]
  },
  {
   "cell_type": "markdown",
   "metadata": {},
   "source": [
    "### Input parameters"
   ]
  },
  {
   "cell_type": "code",
   "execution_count": 2,
   "metadata": {},
   "outputs": [],
   "source": [
    "nimg = 10526\n",
    "r_spot = 0.1 # m\n",
    "diam_ext_cold_stop = 40.944\n",
    "diam_int_cold_stop = 7.363\n",
    "diam_ext_eff = 37.812\n",
    "diam_int_eff = 10.196"
   ]
  },
  {
   "cell_type": "markdown",
   "metadata": {},
   "source": [
    "### Initialize wavefront using PROPER"
   ]
  },
  {
   "cell_type": "code",
   "execution_count": 3,
   "metadata": {},
   "outputs": [
    {
     "name": "stdout",
     "output_type": "stream",
     "text": [
      "Simulation config: band=L, mode=CVC\n",
      "‾‾‾‾‾‾‾‾‾‾‾‾‾‾‾‾‾‾\n",
      "   loading vortex back-propagation params\n",
      "   vc_charge=2, ngrid=1024, beam_ratio=0.2568\n",
      "   npupil=285, pscale=5.47 mas, lam=3.8112E-06 m\n",
      "   hfov=0.8 arcsec (-> ndet=293, 37.62 lam/D)\n",
      "\n"
     ]
    }
   ],
   "source": [
    "conf = dict(\n",
    "    band = 'L',\n",
    "    mode = 'CVC',\n",
    "    dir_output = 'vcg',\n",
    "    file_lyot_stop = 'pupil/ls_LM_CVC_circ_0.0291_0.0291_0.0317_285.fits',\n",
    "    cpu_count = None,\n",
    "    hfov = 0.8,\n",
    "    )\n",
    "conf = heeps.config.read_config(verbose=False, **conf)\n",
    "conf = heeps.config.update_config(saveconf=True, verbose=True, **conf)\n",
    "npupil = conf['npupil']\n",
    "ngrid = conf['ngrid']\n",
    "diam_ext = conf['diam_ext']\n",
    "pupil_img_size = conf['pupil_img_size']\n",
    "lam = conf['lam']\n",
    "beam_ratio = npupil/ngrid*(diam_ext/pupil_img_size)\n",
    "wf = proper.prop_begin(pupil_img_size, lam, ngrid, beam_ratio)"
   ]
  },
  {
   "cell_type": "markdown",
   "metadata": {},
   "source": [
    "### Create cold stop"
   ]
  },
  {
   "cell_type": "code",
   "execution_count": 4,
   "metadata": {},
   "outputs": [
    {
     "data": {
      "image/png": "[encoded data removed]",
      "text/plain": [
       "<Figure size 432x288 with 1 Axes>"
      ]
     },
     "metadata": {
      "needs_background": "light"
     },
     "output_type": "display_data"
    }
   ],
   "source": [
    "conf_stop = dict(\n",
    "    diam_ext = diam_ext_cold_stop, \n",
    "    diam_int = diam_int_cold_stop,\n",
    "    spi_width = 0,\n",
    "    seg_width = 0,\n",
    "    )\n",
    "conf_stop = heeps.config.read_config(**conf_stop)\n",
    "cold_stop = heeps.pupil.create_pupil(**conf_stop)\n",
    "plt.imshow(cold_stop)\n",
    "cold_stop = pad_img(cold_stop, ngrid)"
   ]
  },
  {
   "cell_type": "markdown",
   "metadata": {},
   "source": [
    "### Create a spot"
   ]
  },
  {
   "cell_type": "code",
   "execution_count": 5,
   "metadata": {},
   "outputs": [],
   "source": [
    "def create_spot(rad, theta):\n",
    "    x, y = cart_coord(nimg)\n",
    "    x *= pupil_img_size/2\n",
    "    y *= pupil_img_size/2\n",
    "    c = (rad*np.cos(np.deg2rad(theta)), rad*np.sin(np.deg2rad(theta)))\n",
    "    r =  np.abs((x-c[0]) + 1j*(y-c[1]))\n",
    "    spot = (r <= r_spot)                    # create a spot\n",
    "    spot = resize_img(spot, npupil)         # resize to npupil\n",
    "    spot = pad_img(spot, ngrid)             # pad with zeros\n",
    "    # normalize the entrance pupil intensity (total flux = 1)\n",
    "    I_spot = spot**2\n",
    "    spot = np.sqrt(I_spot/np.sum(I_spot))\n",
    "    return spot"
   ]
  },
  {
   "cell_type": "markdown",
   "metadata": {},
   "source": [
    "### Propagate functions"
   ]
  },
  {
   "cell_type": "code",
   "execution_count": 6,
   "metadata": {},
   "outputs": [],
   "source": [
    "def propag_one_spot(rad, theta, verbose=False):\n",
    "        #print(rad, theta)\n",
    "        # keep a copy of the input wavefront\n",
    "        wf1 = deepcopy(wf)\n",
    "        # create a normalized spot\n",
    "        spot = create_spot(rad, theta)\n",
    "        # add spot to wavefront\n",
    "        proper.prop_multiply(wf1, spot)\n",
    "        # apply cold stop\n",
    "        #proper.prop_multiply(wf1, cold_stop)\n",
    "        # propagate one frame of onaxis psf (i.e. star)\n",
    "        wf1 = fp_mask(wf1, verbose=verbose, **conf)\n",
    "        wf1 = lyot_stop(wf1, verbose=verbose, **conf)\n",
    "        psf = detector(wf1, verbose=verbose, **conf)\n",
    "        return psf"
   ]
  },
  {
   "cell_type": "code",
   "execution_count": 7,
   "metadata": {},
   "outputs": [],
   "source": [
    "def propag_multi_spots(rads, thetas, cpu_count=conf['cpu_count'], verbose=False):\n",
    "    nrads = len(rads)\n",
    "    nthetas = len(thetas)\n",
    "    print('radii = %s'%rads)\n",
    "    print('angles = %s'%thetas)\n",
    "    psf_int = []\n",
    "    # run simulation\n",
    "    t0 = time.time()\n",
    "    if cpu_count != 1 and platform in ['linux', 'linux2', 'darwin']:\n",
    "        if cpu_count == None:\n",
    "            cpu_count = mpro.cpu_count() - 1\n",
    "        print('   %s: VCG simulation starts, using %s cores'\\\n",
    "            %(time.strftime(\"%Y-%m-%d %H:%M:%S\", time.localtime()), cpu_count))\n",
    "        p = mpro.Pool(cpu_count)\n",
    "        func = partial(propag_one_spot, verbose=verbose)\n",
    "        psf_int = np.array(p.starmap(func, zip(np.repeat(rads, nthetas), np.tile(thetas, nrads))))\n",
    "        p.close()\n",
    "        p.join()\n",
    "    else:\n",
    "        print('   %s: VCG simulation starts, using 1 core'\\\n",
    "            %(time.strftime(\"%Y-%m-%d %H:%M:%S\", time.localtime())))\n",
    "        for rad in rads:\n",
    "            for theta in thetas:\n",
    "                psf_int.append(propag_one_spot(rad, theta, verbose=verbose))\n",
    "    print('   %s: finished, elapsed %.3f seconds'\\\n",
    "        %(time.strftime(\"%Y-%m-%d %H:%M:%S\", time.localtime()), time.time() - t0))\n",
    "    return np.array(psf_int)"
   ]
  },
  {
   "cell_type": "markdown",
   "metadata": {},
   "source": [
    "### VCG from points inside central obscuration"
   ]
  },
  {
   "cell_type": "code",
   "execution_count": 8,
   "metadata": {},
   "outputs": [
    {
     "name": "stdout",
     "output_type": "stream",
     "text": [
      "range = [5.098, 3.6815]\n",
      "radii = [4.998 4.798 4.598 4.398 4.198 3.998 3.798]\n",
      "angles = [  0  10  20  30  40  50  60  70  80  90 100 110 120 130 140 150 160 170\n",
      " 180 190 200 210 220 230 240 250 260 270 280 290 300 310 320 330 340 350]\n",
      "   2021-03-25 10:09:50: VCG simulation starts, using 55 cores\n",
      "   2021-03-25 10:19:19: finished, elapsed 569.280 seconds\n"
     ]
    }
   ],
   "source": [
    "print('range = [%s, %s]'%(diam_int_eff/2, diam_int_cold_stop/2))\n",
    "rads = np.arange(diam_int_eff/2 - r_spot, diam_int_cold_stop/2 + r_spot, -2*r_spot)\n",
    "thetas = np.arange(0, 360, 10)\n",
    "psfs = propag_multi_spots(rads, thetas)\n",
    "fits.writeto('psf_int.fits', np.float32(psfs), overwrite=True)"
   ]
  },
  {
   "cell_type": "code",
   "execution_count": 9,
   "metadata": {},
   "outputs": [
    {
     "name": "stdout",
     "output_type": "stream",
     "text": [
      "I_int = 3.1923509245674575\n"
     ]
    },
    {
     "data": {
      "image/png": "[encoded data removed]",
      "text/plain": [
       "<Figure size 432x288 with 1 Axes>"
      ]
     },
     "metadata": {
      "needs_background": "light"
     },
     "output_type": "display_data"
    }
   ],
   "source": [
    "# normalize psf\n",
    "psf_int_tot = np.sum(x*4*r/r_spot/len(thetas) for x,r in zip(psfs, np.repeat(rads, len(thetas))))\n",
    "plt.imshow(psf_int_tot)\n",
    "I_int = np.sum(psf_int_tot)\n",
    "print('I_int = %s'%I_int)"
   ]
  },
  {
   "cell_type": "markdown",
   "metadata": {},
   "source": [
    "### VCG from points beyond ELT pupil's outer edge"
   ]
  },
  {
   "cell_type": "code",
   "execution_count": 10,
   "metadata": {},
   "outputs": [
    {
     "name": "stdout",
     "output_type": "stream",
     "text": [
      "range = [18.906, 19.9994]\n",
      "radii = [19.006 19.206 19.406 19.606 19.806]\n",
      "angles = [  0   5  10  15  20  25  30  35  40  45  50  55  60  65  70  75  80  85\n",
      "  90  95 100 105 110 115 120 125 130 135 140 145 150 155 160 165 170 175\n",
      " 180 185 190 195 200 205 210 215 220 225 230 235 240 245 250 255 260 265\n",
      " 270 275 280 285 290 295 300 305 310 315 320 325 330 335 340 345 350 355]\n",
      "   2021-03-25 10:19:20: VCG simulation starts, using 55 cores\n",
      "   2021-03-25 10:31:29: finished, elapsed 728.261 seconds\n"
     ]
    }
   ],
   "source": [
    "print('range = [%s, %s]'%(diam_ext_eff/2, pupil_img_size/2))\n",
    "rads = np.arange(diam_ext_eff/2 + r_spot, pupil_img_size/2 - r_spot, 2*r_spot)\n",
    "thetas = np.arange(0, 360, 5)\n",
    "psfs = propag_multi_spots(rads, thetas)\n",
    "fits.writeto('psf_ext.fits', np.float32(psfs), overwrite=True)"
   ]
  },
  {
   "cell_type": "code",
   "execution_count": 11,
   "metadata": {},
   "outputs": [
    {
     "name": "stdout",
     "output_type": "stream",
     "text": [
      "I_ext = 10.414950013238075\n"
     ]
    },
    {
     "data": {
      "image/png": "[encoded data removed]",
      "text/plain": [
       "<Figure size 432x288 with 1 Axes>"
      ]
     },
     "metadata": {
      "needs_background": "light"
     },
     "output_type": "display_data"
    }
   ],
   "source": [
    "# normalize psf\n",
    "psf_ext_tot = np.sum(x*4*r/r_spot/len(thetas) for x,r in zip(psfs, np.repeat(rads, len(thetas))))\n",
    "plt.imshow(psf_ext_tot)\n",
    "I_ext = np.sum(psf_ext_tot)\n",
    "print('I_ext = %s'%I_ext)"
   ]
  },
  {
   "cell_type": "markdown",
   "metadata": {
    "tags": []
   },
   "source": [
    "### VCG from points along spiders"
   ]
  },
  {
   "cell_type": "code",
   "execution_count": 12,
   "metadata": {},
   "outputs": [
    {
     "name": "stdout",
     "output_type": "stream",
     "text": [
      "range = [5.098, 18.906]\n",
      "radii = [ 5.198  5.398  5.598  5.798  5.998  6.198  6.398  6.598  6.798  6.998\n",
      "  7.198  7.398  7.598  7.798  7.998  8.198  8.398  8.598  8.798  8.998\n",
      "  9.198  9.398  9.598  9.798  9.998 10.198 10.398 10.598 10.798 10.998\n",
      " 11.198 11.398 11.598 11.798 11.998 12.198 12.398 12.598 12.798 12.998\n",
      " 13.198 13.398 13.598 13.798 13.998 14.198 14.398 14.598 14.798 14.998\n",
      " 15.198 15.398 15.598 15.798 15.998 16.198 16.398 16.598 16.798 16.998\n",
      " 17.198 17.398 17.598 17.798 17.998 18.198 18.398 18.598 18.798]\n",
      "angles = [ 30  90 150 210 270 330]\n",
      "   2021-03-25 10:31:30: VCG simulation starts, using 55 cores\n",
      "   2021-03-25 10:44:24: finished, elapsed 774.471 seconds\n"
     ]
    }
   ],
   "source": [
    "print('range = [%s, %s]'%(diam_int_eff/2, diam_ext_eff/2))\n",
    "rads = np.arange(diam_int_eff/2 + r_spot, diam_ext_eff/2 - r_spot, 2*r_spot)\n",
    "thetas = np.arange(30,360,60)\n",
    "psfs = propag_multi_spots(rads, thetas)\n",
    "fits.writeto('psf_spi.fits', np.float32(psfs), overwrite=True)"
   ]
  },
  {
   "cell_type": "code",
   "execution_count": 13,
   "metadata": {},
   "outputs": [
    {
     "name": "stdout",
     "output_type": "stream",
     "text": [
      "I_spi = 18.667545990191734\n"
     ]
    },
    {
     "data": {
      "image/png": "[encoded data removed]",
      "text/plain": [
       "<Figure size 432x288 with 1 Axes>"
      ]
     },
     "metadata": {
      "needs_background": "light"
     },
     "output_type": "display_data"
    }
   ],
   "source": [
    "# normalize psf\n",
    "psf_spi_tot = np.sum(x*2*conf['spi_width']/np.pi/r_spot for x in psfs)\n",
    "plt.imshow(psf_spi_tot)\n",
    "I_spi = np.sum(psf_spi_tot)\n",
    "print('I_spi = %s'%I_spi)"
   ]
  }
 ],
 "metadata": {
  "kernelspec": {
   "display_name": "Python 3",
   "language": "python",
   "name": "python3"
  },
  "language_info": {
   "codemirror_mode": {
    "name": "ipython",
    "version": 3
   },
   "file_extension": ".py",
   "mimetype": "text/x-python",
   "name": "python",
   "nbconvert_exporter": "python",
   "pygments_lexer": "ipython3",
   "version": "3.7.0"
  }
 },
 "nbformat": 4,
 "nbformat_minor": 4
}

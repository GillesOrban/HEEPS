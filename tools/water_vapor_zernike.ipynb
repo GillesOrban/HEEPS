{
 "cells": [
  {
   "cell_type": "code",
   "execution_count": null,
   "metadata": {},
   "outputs": [],
   "source": [
    "import heeps\n",
    "from heeps.util.multiCPU import multiCPU\n",
    "from copy import deepcopy\n",
    "import proper\n",
    "import os.path\n",
    "from astropy.io import fits\n",
    "from scipy.signal import savgol_filter\n",
    "import warnings\n",
    "import matplotlib.pyplot as plt\n",
    "from matplotlib.pylab import ScalarFormatter\n",
    "from matplotlib import cm\n",
    "%matplotlib inline"
   ]
  },
  {
   "cell_type": "markdown",
   "metadata": {},
   "source": [
    "## Input parameters"
   ]
  },
  {
   "cell_type": "code",
   "execution_count": null,
   "metadata": {},
   "outputs": [],
   "source": [
    "dir_current = '$HOME/heeps_metis'\n",
    "scao = 'input_files/wavefront/cube_Cbasic_20210504_600s_100ms_0piston_meters_scao_only_720_WV.fits'\n",
    "mask = 'input_files/wavefront/mask_Cbasic_20210504_720.fits'\n",
    "dir_current = os.path.normpath(os.path.expandvars(dir_current))\n",
    "cube = fits.getdata(os.path.join(dir_current, scao))\n",
    "pup = fits.getdata(os.path.join(dir_current, mask))\n",
    "ncube, nimg, _ = cube.shape\n",
    "t_max = 600                         # cube duration in s\n",
    "nframes_spat_psd = 100              # number of frames for spatial PSD\n",
    "nzers = 20                          # number of Zernike modes to fit\n",
    "pol_order = 3                       # filter polynomial order\n",
    "win_size = 51                       # filter window size"
   ]
  },
  {
   "cell_type": "code",
   "execution_count": null,
   "metadata": {},
   "outputs": [],
   "source": [
    "def get_piston(frame):\n",
    "    return np.mean(frame[frame!=0])\n",
    "def get_rms(frame):\n",
    "    return np.std(frame[frame!=0])\n",
    "def get_zpols(nzer, pup, phi):\n",
    "    zpols = proper.prop_fit_zernikes(phi, pup, nimg/2, nzer, eps=0, fit=True)\n",
    "    return zpols\n",
    "def remove_zernike(wf, pup, phi, zpols):\n",
    "    proper.prop_add_phase(wf, phi)\n",
    "    phiz = proper.prop_zernikes(wf, np.arange(len(zpols)) + 1, zpols)\n",
    "    phiz[pup==0] = 0\n",
    "    phih = phi - phiz    \n",
    "    return phiz, phih"
   ]
  },
  {
   "cell_type": "markdown",
   "metadata": {},
   "source": [
    "## 1/ Zernike polynomials"
   ]
  },
  {
   "cell_type": "code",
   "execution_count": null,
   "metadata": {},
   "outputs": [],
   "source": [
    "zpols = multiCPU(get_zpols, posargs=[nzers, pup], posvars=[cube], case='get zpols')\n",
    "wf = proper.prop_begin(nimg, 1, nimg, 1)"
   ]
  },
  {
   "cell_type": "markdown",
   "metadata": {},
   "source": [
    "### Save cube: SCAO + QACITS"
   ]
  },
  {
   "cell_type": "code",
   "execution_count": null,
   "metadata": {},
   "outputs": [],
   "source": [
    "_, phih = multiCPU(remove_zernike, posargs=[deepcopy(wf), pup], posvars=[cube, zpols[:,:3]], \\\n",
    "    case='QACITS', nout=2, verbose=True)\n",
    "fits.writeto(os.path.join(dir_current, 'scao_qacits.fits'), np.float32(phih), overwrite=True)"
   ]
  },
  {
   "cell_type": "markdown",
   "metadata": {},
   "source": [
    "### Save cube: SCAO + QACITS and PSI"
   ]
  },
  {
   "cell_type": "code",
   "execution_count": null,
   "metadata": {},
   "outputs": [],
   "source": [
    "freq = 10\n",
    "zpols_psi = np.empty(zpols.shape)\n",
    "for i in range(int(zpols.shape[0]/freq)):\n",
    "    zpols_psi[i*freq:(i+1)*freq,:] = np.mean(zpols[i*freq:(i+1)*freq,:], 0)\n",
    "zpols_psi[freq:,:] = zpols_psi[:-freq,:]\n",
    "zpols_psi[:,:3] = zpols[:,:3]\n",
    "_, phih = multiCPU(remove_zernike, posargs=[deepcopy(wf), pup], posvars=[cube, zpols_psi], \\\n",
    "    case='PSI', nout=2, verbose=True)\n",
    "fits.writeto(os.path.join(dir_current, 'scao_qacits_psi.fits'), np.float32(phih), overwrite=True)"
   ]
  },
  {
   "cell_type": "markdown",
   "metadata": {},
   "source": [
    "## 2/ Spatial PSD"
   ]
  },
  {
   "cell_type": "code",
   "execution_count": null,
   "metadata": {},
   "outputs": [],
   "source": [
    "LSFs = np.empty((nzers, nframes_spat_psd, nimg, nimg))\n",
    "HSFs = np.empty((nzers, nframes_spat_psd, nimg, nimg))\n",
    "LSFs_rms = []\n",
    "HSFs_rms = []\n",
    "print('remove zernikes: %s simulations'%nzers)\n",
    "for i,z in enumerate(np.arange(nzers)):\n",
    "    verbose = False if i > 0 else True\n",
    "    phiz, phih = multiCPU(remove_zernike, posargs=[deepcopy(wf), pup], posvars=[cube[:nframes_spat_psd],\\\n",
    "        zpols[:nframes_spat_psd,:z+1]], case='remove zernike', nout=2, verbose=verbose)\n",
    "    LSFs[z], HSFs[z] = phiz, phih\n",
    "    LSFs_rms.append(np.mean(multiCPU(get_rms, posvars=[phiz], case='get rms', verbose=verbose)))\n",
    "    HSFs_rms.append(np.mean(multiCPU(get_rms, posvars=[phih], case='get rms', verbose=verbose)))\n",
    "    print(i+1, end=', ')\n",
    "PSD = [(HSFs_rms[0]*1e9)**2]\n",
    "for rms in HSFs_rms:\n",
    "    PSD.append((rms*1e9)**2)\n",
    "plt.figure(figsize=(12,4))\n",
    "plt.grid(True), plt.grid(which='minor', linestyle=':')\n",
    "plt.plot(np.arange(nzers+1), PSD)\n",
    "plt.xlabel('Zernike modes')\n",
    "plt.ylabel('Spatial PSD [nm^2/mode]')\n",
    "plt.xlim((0,nzers))\n",
    "plt.savefig('WV_spat_psd_Z%s.png'%nzers, dpi=300, transparent=True)"
   ]
  },
  {
   "cell_type": "markdown",
   "metadata": {},
   "source": [
    "### one frame example"
   ]
  },
  {
   "cell_type": "code",
   "execution_count": null,
   "metadata": {},
   "outputs": [],
   "source": [
    "i=0\n",
    "z=-1\n",
    "fig, axs = plt.subplots(nrows=1, ncols=3, figsize=(12,4))\n",
    "plt.subplot(131); im = plt.imshow(cube[i], origin=True); plt.title('all SF')\n",
    "vmin, vmax = plt.gci().get_clim()\n",
    "plt.subplot(132); plt.imshow(LSFs[z,i], origin=True, vmin=vmin, vmax=vmax); plt.title('LSF')\n",
    "plt.subplot(133); plt.imshow(HSFs[z,i], origin=True, vmin=vmin, vmax=vmax); plt.title('HSF')\n",
    "fig.subplots_adjust(right=0.8)\n",
    "cbar_ax = fig.add_axes([0.85, 0.15, 0.01, 0.7])\n",
    "fig.colorbar(im, cax=cbar_ax);"
   ]
  },
  {
   "cell_type": "markdown",
   "metadata": {},
   "source": [
    "## 3/ Temporal PSD"
   ]
  },
  {
   "cell_type": "code",
   "execution_count": null,
   "metadata": {},
   "outputs": [],
   "source": [
    "fs = np.arange(ncube)/t_max\n",
    "Zf = np.abs(np.array([np.fft.fft(Zt) for Zt in zpols.swapaxes(0,1)]))\n",
    "plt.figure(figsize=(12,4))\n",
    "plt.grid(True), plt.grid(which='minor', linestyle=':')\n",
    "plt.loglog()\n",
    "# Define the colors to be used using rainbow map (or any other map)\n",
    "colors = np.array([cm.rainbow(i) for i in np.linspace(0, 1, len(Zf))])\n",
    "warnings.filterwarnings(\"ignore\")\n",
    "for i,z in enumerate(Zf):\n",
    "    zhat = savgol_filter(z, win_size, pol_order)\n",
    "    if i==0:\n",
    "        plt.plot(fs, zhat**2, ':k', label='Z%s'%(i+1))        \n",
    "    else:\n",
    "        plt.plot(fs, zhat**2, color=colors[i-1], label='Z%s'%(i+1))\n",
    "plt.legend(ncol=2)\n",
    "plt.xlim(left=1e-2)\n",
    "plt.ylim((1e-16,1e-4))\n",
    "plt.xlabel('Frequency (Hz)')\n",
    "plt.ylabel('Temporal PSD [Z^2/Hz]')\n",
    "plt.savefig('WV_temp_psd_Z%s.png'%nzers, dpi=300, transparent=True)"
   ]
  }
 ],
 "metadata": {
  "kernelspec": {
   "display_name": "Python 3",
   "language": "python",
   "name": "python3"
  },
  "language_info": {
   "codemirror_mode": {
    "name": "ipython",
    "version": 3
   },
   "file_extension": ".py",
   "mimetype": "text/x-python",
   "name": "python",
   "nbconvert_exporter": "python",
   "pygments_lexer": "ipython3",
   "version": "3.7.0"
  }
 },
 "nbformat": 4,
 "nbformat_minor": 2
}

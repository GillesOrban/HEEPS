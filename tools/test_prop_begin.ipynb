{
 "cells": [
  {
   "cell_type": "code",
   "execution_count": 1,
   "metadata": {},
   "outputs": [],
   "source": [
    "import proper\n",
    "import matplotlib.pyplot as plt\n",
    "from heeps.util.img_processing import resize_img, crop_img, pad_img\n",
    "from heeps.wavefront.get_array import show_wf\n",
    "from astropy.io import fits\n",
    "import numpy as np\n",
    "%matplotlib inline"
   ]
  },
  {
   "cell_type": "code",
   "execution_count": 2,
   "metadata": {},
   "outputs": [],
   "source": [
    "# define pixel scale on a 1023 pupil image size\n",
    "ngrid = 1024\n",
    "pscale = 39.9988/(ngrid - 1)\n",
    "\n",
    "# create pupil using PROPER tools\n",
    "def create_pupil(pupil_img_size, diam_ext, diam_int, spi_width, nhr=ngrid, spi_angles=[0,60,120]):\n",
    "    nhr_size = pupil_img_size*nhr/(nhr-1)\n",
    "    wf_tmp = proper.prop_begin(nhr_size, 1, nhr, diam_ext/nhr_size) \n",
    "    if diam_ext > 0:\n",
    "        proper.prop_circular_aperture(wf_tmp, 1, NORM=True)\n",
    "    if diam_int > 0:\n",
    "        proper.prop_circular_obscuration(wf_tmp, diam_int/diam_ext, NORM=True)\n",
    "    if spi_width > 0:\n",
    "        for angle in spi_angles:\n",
    "            proper.prop_rectangular_obscuration(wf_tmp, 2*spi_width/diam_ext, 2, ROTATION=angle, NORM=True)\n",
    "    return proper.prop_get_amplitude(wf_tmp)"
   ]
  },
  {
   "cell_type": "markdown",
   "metadata": {},
   "source": [
    "## without spiders"
   ]
  },
  {
   "cell_type": "code",
   "execution_count": 3,
   "metadata": {},
   "outputs": [
    {
     "data": {
      "image/png": "[encoded data removed]",
      "text/plain": [
       "<Figure size 432x288 with 1 Axes>"
      ]
     },
     "metadata": {
      "needs_background": "light"
     },
     "output_type": "display_data"
    }
   ],
   "source": [
    "pup = create_pupil(1023*pscale, 31*pscale, 21*pscale, 0)\n",
    "plt.figure(), plt.imshow(crop_img(pup, 35), origin='lower');\n",
    "fits.writeto('pup.fits', np.float32(pup), overwrite=True)"
   ]
  },
  {
   "cell_type": "markdown",
   "metadata": {},
   "source": [
    "## with spiders"
   ]
  },
  {
   "cell_type": "code",
   "execution_count": 4,
   "metadata": {},
   "outputs": [
    {
     "data": {
      "image/png": "[encoded data removed]",
      "text/plain": [
       "<Figure size 432x288 with 1 Axes>"
      ]
     },
     "metadata": {
      "needs_background": "light"
     },
     "output_type": "display_data"
    },
    {
     "data": {
      "image/png": "[encoded data removed]",
      "text/plain": [
       "<Figure size 432x288 with 1 Axes>"
      ]
     },
     "metadata": {
      "needs_background": "light"
     },
     "output_type": "display_data"
    }
   ],
   "source": [
    "pup = create_pupil(1023*pscale, 1019*pscale, 0, 11*pscale)\n",
    "# zoom to pupil edges\n",
    "c = ngrid//2\n",
    "w = 7\n",
    "pup_bot = pup[:w,c-3*w:c+3*w]\n",
    "pup_top = pup[-w:,c-3*w:c+3*w]\n",
    "plt.figure(), plt.imshow(pup_top, origin='lower');\n",
    "plt.figure(), plt.imshow(pup_bot, origin='lower');\n",
    "fits.writeto('spi.fits', np.float32(pup), overwrite=True)\n",
    "fits.writeto('spi_bot.fits', np.float32(pup_bot), overwrite=True)\n",
    "fits.writeto('spi_top.fits', np.float32(pup_top), overwrite=True)"
   ]
  },
  {
   "cell_type": "markdown",
   "metadata": {},
   "source": [
    "### Test beam radius normalization"
   ]
  },
  {
   "cell_type": "code",
   "execution_count": 5,
   "metadata": {},
   "outputs": [
    {
     "name": "stdout",
     "output_type": "stream",
     "text": [
      "0.007161458333333333 7.333333333333333\n"
     ]
    }
   ],
   "source": [
    "nhr = 2**10\n",
    "pupil_img_size = 3.0\n",
    "diam_ext = 2.0\n",
    "diam_int = 1.0\n",
    "spi_width = 0.54\n",
    "spi_angles = [0, 60, 120]\n",
    "dx, dy = 0, 0\n",
    "npupil = 11\n",
    "ngrid = 1024\n",
    "beam_diam = 1e2\n",
    "beam_ratio = npupil/ngrid*(diam_ext/pupil_img_size)\n",
    "print(beam_ratio, beam_ratio*ngrid)"
   ]
  },
  {
   "cell_type": "code",
   "execution_count": 6,
   "metadata": {},
   "outputs": [
    {
     "data": {
      "text/plain": [
       "100.0"
      ]
     },
     "execution_count": 6,
     "metadata": {},
     "output_type": "execute_result"
    },
    {
     "data": {
      "image/png": "[encoded data removed]",
      "text/plain": [
       "<Figure size 432x288 with 2 Axes>"
      ]
     },
     "metadata": {
      "needs_background": "light"
     },
     "output_type": "display_data"
    }
   ],
   "source": [
    "R_NORM = 1#pupil_img_size/diam_ext\n",
    "wf_tmp = proper.prop_begin(beam_diam, 1, ngrid, beam_ratio)\n",
    "proper.prop_circular_aperture(wf_tmp, R_NORM, NORM=True)\n",
    "plt.imshow(crop_img(proper.prop_get_amplitude(wf_tmp), npupil)); plt.colorbar()\n",
    "wf_tmp._diam"
   ]
  },
  {
   "cell_type": "code",
   "execution_count": 7,
   "metadata": {},
   "outputs": [
    {
     "data": {
      "text/plain": [
       "100.0"
      ]
     },
     "execution_count": 7,
     "metadata": {},
     "output_type": "execute_result"
    },
    {
     "data": {
      "image/png": "[encoded data removed]",
      "text/plain": [
       "<Figure size 432x288 with 2 Axes>"
      ]
     },
     "metadata": {
      "needs_background": "light"
     },
     "output_type": "display_data"
    }
   ],
   "source": [
    "RADIUS = R_NORM*beam_diam/2\n",
    "# ATTENTION!! if NORM=False, use the RADIUS (not diameter)\n",
    "wf_tmp = proper.prop_begin(beam_diam, 1, ngrid, beam_ratio)\n",
    "proper.prop_circular_aperture(wf_tmp, RADIUS, NORM=False)\n",
    "plt.imshow(crop_img(proper.prop_get_amplitude(wf_tmp), npupil)); plt.colorbar()\n",
    "wf_tmp._diam"
   ]
  },
  {
   "cell_type": "markdown",
   "metadata": {},
   "source": [
    "### Test grid sampling"
   ]
  },
  {
   "cell_type": "code",
   "execution_count": 8,
   "metadata": {},
   "outputs": [
    {
     "name": "stdout",
     "output_type": "stream",
     "text": [
      "nhr_size = 3.002932551319648\n",
      "beam_diam = 2.0, grid_sampling = 0.27272727272727276\n",
      "verif : 2.0, 0.2727272727272727\n"
     ]
    },
    {
     "data": {
      "image/png": "[encoded data removed]",
      "text/plain": [
       "<Figure size 432x288 with 2 Axes>"
      ]
     },
     "metadata": {
      "needs_background": "light"
     },
     "output_type": "display_data"
    }
   ],
   "source": [
    "beam_ratio = npupil/ngrid*(diam_ext/pupil_img_size)\n",
    "wf2 = proper.prop_begin(diam_ext, 1, ngrid, beam_ratio)\n",
    "nhr = max(nhr, npupil)\n",
    "nhr += nhr % 2\n",
    "nhr_size = pupil_img_size*nhr/(nhr-1)\n",
    "print('nhr_size = %s'%nhr_size)\n",
    "# create pupil using PROPER tools\n",
    "wf_tmp = proper.prop_begin(1, 1, nhr, diam_ext/nhr_size) \n",
    "if diam_ext > 0:\n",
    "    proper.prop_circular_aperture(wf_tmp, 1, dx, dy, NORM=True)\n",
    "if diam_int > 0:\n",
    "    proper.prop_circular_obscuration(wf_tmp, diam_int/diam_ext, dx, \n",
    "        dy, NORM=True)\n",
    "if spi_width > 0:\n",
    "    for angle in spi_angles:\n",
    "        proper.prop_rectangular_obscuration(wf_tmp, 2*spi_width/diam_ext, 2,\n",
    "            dx, dy, ROTATION=angle, NORM=True)\n",
    "pup = proper.prop_get_amplitude(wf_tmp)\n",
    "# crop the pupil to odd size (nhr-1), and resize to npupil\n",
    "pup = pup[1:,1:]\n",
    "pup = resize_img(pup, npupil)\n",
    "proper.prop_multiply(wf2, pad_img(pup, ngrid))\n",
    "A = crop_img(proper.prop_get_amplitude(wf2), npupil)\n",
    "plt.imshow(A, origin='lower'); plt.colorbar()\n",
    "A[5,2]\n",
    "print('beam_diam = %s, grid_sampling = %s'%(wf2._diam, wf2._dx))\n",
    "print('verif : %s, %s'%(diam_ext, pupil_img_size/npupil))"
   ]
  },
  {
   "cell_type": "markdown",
   "metadata": {},
   "source": [
    "### Test centring"
   ]
  },
  {
   "cell_type": "code",
   "execution_count": 9,
   "metadata": {},
   "outputs": [
    {
     "data": {
      "image/png": "[encoded data removed]",
      "text/plain": [
       "<Figure size 432x288 with 2 Axes>"
      ]
     },
     "metadata": {
      "needs_background": "light"
     },
     "output_type": "display_data"
    }
   ],
   "source": [
    "# odd grid: fails\n",
    "ngrid = 9\n",
    "wf_tmp = proper.prop_begin(1, 1, ngrid, 0.5) \n",
    "if diam_ext > 0:\n",
    "    proper.prop_circular_aperture(wf_tmp, 1, dx, dy, NORM=True)\n",
    "if diam_int > 0:\n",
    "    proper.prop_circular_obscuration(wf_tmp, .5, dx, \n",
    "        dy, NORM=True)\n",
    "if spi_width > 0:\n",
    "    for angle in spi_angles:\n",
    "        proper.prop_rectangular_obscuration(wf_tmp, 2*.1, 2,\n",
    "            dx, dy, ROTATION=angle, NORM=True)\n",
    "A = show_wf(wf_tmp, 'amp')"
   ]
  },
  {
   "cell_type": "code",
   "execution_count": 10,
   "metadata": {},
   "outputs": [
    {
     "data": {
      "image/png": "[encoded data removed]",
      "text/plain": [
       "<Figure size 432x288 with 2 Axes>"
      ]
     },
     "metadata": {
      "needs_background": "light"
     },
     "output_type": "display_data"
    }
   ],
   "source": [
    "# even grid: just remove first row and col\n",
    "ngrid = 10\n",
    "wf_tmp = proper.prop_begin(1, 1, ngrid, .5) \n",
    "if diam_ext > 0:\n",
    "    proper.prop_circular_aperture(wf_tmp, 1, dx, dy, NORM=True)\n",
    "if diam_int > 0:\n",
    "    proper.prop_circular_obscuration(wf_tmp, .5, dx, \n",
    "        dy, NORM=True)\n",
    "if spi_width > 0:\n",
    "    for angle in spi_angles:\n",
    "        proper.prop_rectangular_obscuration(wf_tmp, 2*.1, 2,\n",
    "            dx, dy, ROTATION=angle, NORM=True)\n",
    "A = show_wf(wf_tmp, 'amp')"
   ]
  },
  {
   "cell_type": "code",
   "execution_count": 11,
   "metadata": {},
   "outputs": [
    {
     "data": {
      "image/png": "[encoded data removed]",
      "text/plain": [
       "<Figure size 432x288 with 2 Axes>"
      ]
     },
     "metadata": {
      "needs_background": "light"
     },
     "output_type": "display_data"
    }
   ],
   "source": [
    "B = show_wf(wf_tmp, 'amp', npupil = ngrid - 1)"
   ]
  }
 ],
 "metadata": {
  "interpreter": {
   "hash": "cd78fef2128015050713e82ca51c6520b11aee7c9ee8df750520bbbc7384cbaa"
  },
  "kernelspec": {
   "display_name": "Python 3.7.0 64-bit ('base': conda)",
   "language": "python",
   "name": "python3"
  },
  "language_info": {
   "codemirror_mode": {
    "name": "ipython",
    "version": 3
   },
   "file_extension": ".py",
   "mimetype": "text/x-python",
   "name": "python",
   "nbconvert_exporter": "python",
   "pygments_lexer": "ipython3",
   "version": "3.7.0"
  },
  "orig_nbformat": 2
 },
 "nbformat": 4,
 "nbformat_minor": 2
}

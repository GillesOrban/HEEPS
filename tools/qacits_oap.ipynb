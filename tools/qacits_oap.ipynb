{
 "cells": [
  {
   "cell_type": "code",
   "execution_count": 1,
   "metadata": {},
   "outputs": [
    {
     "output_type": "stream",
     "name": "stdout",
     "text": [
      "Using matplotlib backend: MacOSX\nPopulating the interactive namespace from numpy and matplotlib\n"
     ]
    }
   ],
   "source": [
    "import heeps\n",
    "from heeps.util.coord import mas2rms\n",
    "from heeps.contrast.background import background\n",
    "import astropy.units as u\n",
    "from astropy.io import fits\n",
    "import os.path\n",
    "from copy import deepcopy\n",
    "\n",
    "%pylab\n",
    "%matplotlib inline"
   ]
  },
  {
   "cell_type": "code",
   "execution_count": 2,
   "metadata": {},
   "outputs": [
    {
     "output_type": "stream",
     "name": "stdout",
     "text": [
      "Simulation config: band=L, mode=CVC\n",
      "‾‾‾‾‾‾‾‾‾‾‾‾‾‾‾‾‾‾\n",
      "   loading vortex back-propagation params\n",
      "   vc_charge=2, ngrid=1024, beam_ratio=0.2568\n",
      "   npupil=285, pscale=5.47 mas, lam=3.8112E-06 m\n",
      "   hfov=1.1 arcsec (-> ndet=403, 51.74 lam/D)\n",
      "\n",
      "Load pupil from 'ELT_fullM1.fits'\n",
      "Load phase screens from 'cube_Cbasic_20201130_3600s_300ms_0piston_meters_scao_only_285.fits'\n",
      "   nscreens=220 (nframes=220, nstep=1)\n",
      "Load pointing errors from 'point_all_3600s_300ms.fits'\n",
      "   nscreens=220\n"
     ]
    }
   ],
   "source": [
    "conf = dict(\n",
    "    band = 'L',\n",
    "    mode = 'CVC',\n",
    "    dir_current = '/Users/cdelacroix/INSTRUMENTS/METIS/heeps_analysis',\n",
    "    dir_output = 'qacits',\n",
    "    file_pupil = 'pupil/ELT_fullM1.fits',\n",
    "    file_lyot_stop = 'pupil/ls_LM_CVC_circ_285.fits',\n",
    "    file_phase = 'wavefront/cube_Cbasic_20201130_3600s_300ms_0piston_meters_scao_only_285.fits',\n",
    "    file_point_err = 'wavefront/point_all_3600s_300ms.fits',\n",
    "    add_phase = True,\n",
    "    add_point_err = True,\n",
    "    nframes = 220,\n",
    "    cube_duration = 220*0.3,\n",
    ")\n",
    "conf = heeps.config.read_config(verbose=False, **conf)\n",
    "conf = heeps.config.update_config(saveconf=True, verbose=True, **conf)\n",
    "wf = heeps.pupil.pupil(savefits=True, verbose=True, **conf)\n",
    "phase_screens, amp_screens, tiptilts, misaligns = heeps.wavefront.load_errors(verbose=True, **conf)"
   ]
  },
  {
   "cell_type": "code",
   "execution_count": 3,
   "metadata": {},
   "outputs": [
    {
     "output_type": "stream",
     "name": "stdout",
     "text": [
      "(110,) [0.    0.001 0.002 0.003 0.004 0.005 0.006 0.007 0.008 0.009 0.01  0.011\n 0.012 0.013 0.014 0.015 0.016 0.017 0.018 0.019 0.02  0.021 0.022 0.023\n 0.024 0.025 0.026 0.027 0.028 0.029 0.03  0.031 0.032 0.033 0.034 0.035\n 0.036 0.037 0.038 0.039 0.04  0.041 0.042 0.043 0.044 0.045 0.046 0.047\n 0.048 0.049 0.05  0.051 0.052 0.053 0.054 0.055 0.056 0.057 0.058 0.059\n 0.06  0.061 0.062 0.063 0.064 0.065 0.066 0.067 0.068 0.069 0.07  0.071\n 0.072 0.073 0.074 0.075 0.076 0.077 0.078 0.079 0.08  0.081 0.082 0.083\n 0.084 0.085 0.086 0.087 0.088 0.089 0.09  0.091 0.092 0.093 0.094 0.095\n 0.096 0.097 0.098 0.099 0.1   0.2   0.3   0.4   0.5   0.6   0.7   0.8\n 0.9   1.   ]\n"
     ]
    }
   ],
   "source": [
    "lam = 3.8112E-06\n",
    "diam = 39.9988 # pupil_img_size\n",
    "lamD = lam/diam*u.rad.to('mas')\n",
    "# jusqu’à 0.1 lam/D, step = 1/100\n",
    "# jusqu’à 1 lam/D, step = 1/10\n",
    "xy = np.append(np.arange(100)/1000, np.arange(1,11)/10)\n",
    "print(xy.shape, xy)"
   ]
  },
  {
   "cell_type": "code",
   "execution_count": 4,
   "metadata": {},
   "outputs": [
    {
     "output_type": "stream",
     "name": "stdout",
     "text": [
      "0 0.01893186459820351\n",
      "10 0.019008259299655363\n",
      "20 0.019237349493310008\n",
      "30 0.019618852746548555\n",
      "40 0.020152298991008337\n",
      "50 0.02083703106564979\n",
      "60 0.021672206306234582\n",
      "70 0.022656797585547995\n",
      "80 0.023789595347452362\n",
      "90 0.025069209523960034\n",
      "100 0.026494072175885498\n",
      "110 0.01893186459820351\n",
      "120 0.01900828726699721\n",
      "130 0.019237463359609564\n",
      "140 0.01961911030882707\n",
      "150 0.020152757877077234\n",
      "160 0.02083774876534673\n",
      "170 0.021673239755701165\n",
      "180 0.022658203414145647\n",
      "190 0.02379142954423903\n",
      "200 0.025071527526139118\n",
      "210 0.02649692858961276\n"
     ]
    }
   ],
   "source": [
    "xy_rms = mas2rms(xy*lamD, diam) # converted to mas, then to rms\n",
    "tt = [(x,0) for x in xy_rms] + [(0,y) for y in xy_rms]\n",
    "psfs = []\n",
    "for i,tiptilt in enumerate(tt):\n",
    "    psfs.append(heeps.wavefront.propagate_one(wf, tiptilt=tiptilt, tag=i, onaxis=True, verbose=False, **conf))\n",
    "    if not i % 10:\n",
    "        print(i, np.sum(psfs[-1]))\n",
    "fits.writeto('calib.fits', np.float32(psfs), overwrite=True)"
   ]
  },
  {
   "cell_type": "code",
   "execution_count": 5,
   "metadata": {},
   "outputs": [],
   "source": [
    "def create_psfs():\n",
    "    psf = heeps.wavefront.propagate_one(wf, onaxis=False, savefits=True, verbose=True, **conf)\n",
    "    psfs = heeps.wavefront.propagate_cube(wf, phase_screens=phase_screens, \\\n",
    "        amp_screens=amp_screens, tiptilts=tiptilts, misaligns=misaligns, onaxis=True, \\\n",
    "        savefits=True, verbose=True, **conf)\n",
    "    print('mag', end='')\n",
    "    for conf['mag'] in np.arange(5, 12+1):\n",
    "        print(', %s'%conf['mag'], end='')\n",
    "        psf_ON, psf_OFF = background(deepcopy(psfs), deepcopy(psf), **conf)\n",
    "        fits.writeto(os.path.join(conf['dir_output'], 'onaxis_PSF_L_CVC_mag%s.fits'%conf['mag']), \\\n",
    "            np.float32(psf_ON), overwrite=True)\n",
    "        fits.writeto(os.path.join(conf['dir_output'], 'offaxis_PSF_L_CVC_mag%s.fits'%conf['mag']), \\\n",
    "            np.float32(psf_OFF), overwrite=True)"
   ]
  },
  {
   "cell_type": "code",
   "execution_count": 6,
   "metadata": {},
   "outputs": [
    {
     "output_type": "stream",
     "name": "stdout",
     "text": [
      "Create single off-axis PSF\n",
      "   apply lyot stop from 'ls_LM_CVC_circ_285.fits'\n",
      "   extract PSF on the detector: ndet=403\n",
      "Create on-axis PSF cube\n",
      "   2021-03-01 12:41:52: e2e simulation starts, using 10 cores\n",
      "   2021-03-01 12:43:20: finished, elapsed 88.038 seconds\n",
      "mag, 5, 6, 7, 8, 9, 10, 11, 12"
     ]
    }
   ],
   "source": [
    "conf['dir_output'] = os.path.join(conf['dir_current'], 'qacits/random_drift')\n",
    "create_psfs()"
   ]
  },
  {
   "cell_type": "code",
   "execution_count": 7,
   "metadata": {},
   "outputs": [
    {
     "output_type": "stream",
     "name": "stdout",
     "text": [
      "Create single off-axis PSF\n",
      "   apply lyot stop from 'ls_LM_CVC_circ_285.fits'\n",
      "   extract PSF on the detector: ndet=403\n",
      "Create on-axis PSF cube\n",
      "   2021-03-01 12:43:37: e2e simulation starts, using 10 cores\n",
      "   2021-03-01 12:45:12: finished, elapsed 95.519 seconds\n",
      "mag, 5, 6, 7, 8, 9, 10, 11, 12"
     ]
    }
   ],
   "source": [
    "conf['dir_output'] = os.path.join(conf['dir_current'], 'qacits/linear_offsets')\n",
    "tiptilts = tt\n",
    "create_psfs()"
   ]
  },
  {
   "cell_type": "code",
   "execution_count": 8,
   "metadata": {},
   "outputs": [
    {
     "output_type": "stream",
     "name": "stdout",
     "text": [
      "Create single off-axis PSF\n",
      "   apply lyot stop from 'ls_LM_CVC_circ_285.fits'\n",
      "   extract PSF on the detector: ndet=403\n",
      "Create on-axis PSF cube\n",
      "   2021-03-01 12:45:33: e2e simulation starts, using 10 cores\n",
      "   2021-03-01 12:47:06: finished, elapsed 92.739 seconds\n",
      "mag, 5, 6, 7, 8, 9, 10, 11, 12"
     ]
    }
   ],
   "source": [
    "conf['dir_output'] = os.path.join(conf['dir_current'], 'qacits/scao_only')\n",
    "tiptilts = np.array([None]*conf['nframes'])\n",
    "create_psfs()"
   ]
  },
  {
   "cell_type": "code",
   "execution_count": null,
   "metadata": {},
   "outputs": [],
   "source": []
  }
 ],
 "metadata": {
  "kernelspec": {
   "display_name": "Python 3",
   "language": "python",
   "name": "python3"
  },
  "language_info": {
   "codemirror_mode": {
    "name": "ipython",
    "version": 3
   },
   "file_extension": ".py",
   "mimetype": "text/x-python",
   "name": "python",
   "nbconvert_exporter": "python",
   "pygments_lexer": "ipython3",
   "version": "3.7.0-final"
  }
 },
 "nbformat": 4,
 "nbformat_minor": 2
}
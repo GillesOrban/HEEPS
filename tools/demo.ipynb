{
 "metadata": {
  "language_info": {
   "codemirror_mode": {
    "name": "ipython",
    "version": 3
   },
   "file_extension": ".py",
   "mimetype": "text/x-python",
   "name": "python",
   "nbconvert_exporter": "python",
   "pygments_lexer": "ipython3",
   "version": "3.7.0"
  },
  "orig_nbformat": 2,
  "kernelspec": {
   "name": "python3",
   "display_name": "Python 3.7.0 64-bit ('base': conda)"
  },
  "interpreter": {
   "hash": "344443636c3027c5042750c9c609acdda283a9c43681b128a8c1053e7ad2aa7d"
  }
 },
 "nbformat": 4,
 "nbformat_minor": 2,
 "cells": [
  {
   "cell_type": "code",
   "execution_count": 1,
   "source": [
    "import heeps\n",
    "import os\n",
    "%pylab\n",
    "%matplotlib inline"
   ],
   "outputs": [
    {
     "output_type": "stream",
     "name": "stdout",
     "text": [
      "Using matplotlib backend: MacOSX\n",
      "Populating the interactive namespace from numpy and matplotlib\n"
     ]
    }
   ],
   "metadata": {}
  },
  {
   "cell_type": "markdown",
   "source": [
    "### 1. Create a config dictionary with your simulation parameters in read_config"
   ],
   "metadata": {}
  },
  {
   "cell_type": "code",
   "execution_count": 2,
   "source": [
    "conf = dict(\n",
    "    dir_current = os.getcwd(),  # specify a directory (current directory by default)\n",
    "    nframes = 10,               # number of frames selected from the SCAO phase screens\n",
    "    f_phase = 'wavefront/COMPASS_201810_RandomWind_100screens_meters.fits',\n",
    "    f_pupil = 'pupil/ELT_fullM1.fits', # entrance pupil file\n",
    ")\n",
    "conf = heeps.config.read_config(verbose=False, **conf)"
   ],
   "outputs": [],
   "metadata": {}
  },
  {
   "cell_type": "markdown",
   "source": [
    "### 2. Update config parameters. The following parameters will be updated to match the selected spectral band and HCI mode:\n",
    "lam, pscale, flux_star, flux_bckg, ls_dRspi, ls_dRint, npupil, ndet, ravc_t, ravc_r"
   ],
   "metadata": {}
  },
  {
   "cell_type": "code",
   "execution_count": 3,
   "source": [
    "conf = heeps.config.update_config(saveconf=True, verbose=True, **conf) "
   ],
   "outputs": [
    {
     "output_type": "stream",
     "name": "stdout",
     "text": [
      "Simulation config: band=L, mode=RAVC\n",
      "‾‾‾‾‾‾‾‾‾‾‾‾‾‾‾‾‾‾\n",
      "   loading vortex back-propagation params\n",
      "   vc_charge=2, ngrid=1024, beam_ratio=0.2568\n",
      "   ravc_calc=True, ravc_t=0.7608, ravc_r=0.6213\n",
      "   npupil=285, pscale=5.47 mas, lam=3.8112E-06 m\n",
      "   hfov=1.1 arcsec (-> ndet=403, 51.74 lam/D)\n",
      "\n"
     ]
    }
   ],
   "metadata": {}
  },
  {
   "cell_type": "markdown",
   "source": [
    "### 3. Load entrance pupil, and create 'wavefront' object"
   ],
   "metadata": {}
  },
  {
   "cell_type": "code",
   "execution_count": 4,
   "source": [
    "wf = heeps.pupil.pupil(savefits=True, verbose=True, **conf)"
   ],
   "outputs": [
    {
     "output_type": "stream",
     "name": "stdout",
     "text": [
      "Load pupil from 'ELT_fullM1.fits'\n"
     ]
    }
   ],
   "metadata": {}
  },
  {
   "cell_type": "markdown",
   "source": [
    "### 4. Load wavefront errors"
   ],
   "metadata": {}
  },
  {
   "cell_type": "code",
   "execution_count": 5,
   "source": [
    "phase_screens, amp_screens, tiptilts, misaligns = heeps.wavefront.load_errors(verbose=True, **conf)"
   ],
   "outputs": [
    {
     "output_type": "stream",
     "name": "stdout",
     "text": [
      "Load phase screens from 'COMPASS_201810_RandomWind_100screens_meters.fits'\n",
      "   nscreens=10 (nframes=10, nstep=1)\n"
     ]
    }
   ],
   "metadata": {}
  },
  {
   "cell_type": "markdown",
   "source": [
    "### 5. Propagate one frame of offaxis psf (i.e. planet)"
   ],
   "metadata": {}
  },
  {
   "cell_type": "code",
   "execution_count": 6,
   "source": [
    "psf = heeps.wavefront.propagate_one(wf, onaxis=False, savefits=True, verbose=True, **conf)"
   ],
   "outputs": [
    {
     "output_type": "stream",
     "name": "stdout",
     "text": [
      "Create single off-axis PSF\n",
      "   apply lyot stop from 'ls_ravc_allglass_285.fits'\n",
      "   extract PSF on the detector: ndet=403\n"
     ]
    }
   ],
   "metadata": {}
  },
  {
   "cell_type": "markdown",
   "source": [
    "### 6. Propagate cube of onaxis psfs (i.e. star)"
   ],
   "metadata": {}
  },
  {
   "cell_type": "code",
   "execution_count": 7,
   "source": [
    "psfs = heeps.wavefront.propagate_cube(wf, phase_screens=phase_screens, \\\n",
    "    amp_screens=amp_screens, tiptilts=tiptilts, misaligns=misaligns, onaxis=True, \\\n",
    "    savefits=True, verbose=True, **conf)"
   ],
   "outputs": [
    {
     "output_type": "stream",
     "name": "stdout",
     "text": [
      "Create on-axis PSF cube\n",
      "   2021-09-10 12:42:22, e2e simulation using 12 cores\n",
      "   2021-09-10 12:42:26, completed in 4.77 seconds\n"
     ]
    }
   ],
   "metadata": {}
  },
  {
   "cell_type": "markdown",
   "source": [
    "### 7. Produce 5-sigma sensitivity (contrast) curves for each set of PSFs (modes, bands)"
   ],
   "metadata": {}
  },
  {
   "cell_type": "code",
   "execution_count": 8,
   "source": [
    "sep, sen = heeps.contrast.adi_one(savepsf=True, savefits=True, verbose=True, **conf)"
   ],
   "outputs": [
    {
     "output_type": "stream",
     "name": "stdout",
     "text": [
      "Load PSFs for ADI\n",
      "   mode=RAVC, band=L\n",
      "   ncube=10, ndet=403\n",
      "   pscale=5.47 mas, dit=0.3 s\n",
      "――――――――――――――――――――――――――――――――――――――――――――――――――――――――――――――――――――――――――――――――\n",
      "Starting time: 2021-09-10 12:42:27\n",
      "――――――――――――――――――――――――――――――――――――――――――――――――――――――――――――――――――――――――――――――――\n",
      "ALGO : median_sub, FWHM = 3.1433897429620377, # BRANCHES = 1, SIGMA = 5, STARPHOT = 100000000000.0\n",
      "――――――――――――――――――――――――――――――――――――――――――――――――――――――――――――――――――――――――――――――――\n",
      "Finished the throughput calculation\n",
      "Running time:  0:00:03.921908\n",
      "――――――――――――――――――――――――――――――――――――――――――――――――――――――――――――――――――――――――――――――――\n"
     ]
    }
   ],
   "metadata": {}
  },
  {
   "cell_type": "markdown",
   "source": [
    "### 8. Create a figure "
   ],
   "metadata": {}
  },
  {
   "cell_type": "code",
   "execution_count": 9,
   "source": [
    "savename = 'ADI_contrast_curve.png'\n",
    "figure(figsize=(12,4))\n",
    "grid(True), grid(which='minor', linestyle=':')\n",
    "loglog(), gca().xaxis.set_major_formatter(ScalarFormatter())\n",
    "xlabel('Angular separation $[arcsec]$')\n",
    "ylabel('5-$\\sigma$ sensitivity (contrast)')\n",
    "label = '%s-band %s'%(conf['band'], conf['mode'])\n",
    "plot(sep, sen, label=label, marker='d', markevery=0.12, markersize=4)\n",
    "legend()\n",
    "xticks([0.02, 0.1, 0.5, 1])\n",
    "xlim(0.02,1)\n",
    "ylim(1e-6,1e-2)\n",
    "savefig('%s/%s'%(conf['dir_output'], savename), dpi=300, transparent=True)"
   ],
   "outputs": [
    {
     "output_type": "display_data",
     "data": {
      "text/plain": [
       "<Figure size 864x288 with 1 Axes>"
      ],
      "image/png": "[encoded data removed]"
     },
     "metadata": {
      "needs_background": "light"
     }
    }
   ],
   "metadata": {}
  }
 ]
}